{
 "cells": [
  {
   "cell_type": "markdown",
   "metadata": {},
   "source": [
    "## Test student sur les deux tables avantage, remuneration"
   ]
  },
  {
   "cell_type": "markdown",
   "metadata": {},
   "source": [
    "   #### On va utlisier test student pour savoir si les samples on a pris de les deux tables avantage, remuneration representative ou non."
   ]
  },
  {
   "cell_type": "markdown",
   "metadata": {},
   "source": [
    "  On a calculer le moyenne et  l'ecart-type sur le column 'montant_ttc' dans les deux samples: avantage, remuneration."
   ]
  },
  {
   "cell_type": "markdown",
   "metadata": {},
   "source": [
    "### 1- Poser les hypothèses :\n",
    "\n",
    "    H0: hypothèse nulle, il n'y a pas de variation entre le populations (table basic avantage ou remuneration)\n",
    "    i.e les samples on a pris ils sont representative par rapport à les table basic.\n",
    "    H1: On observe une différence,les samples ils ont pas representative.\n",
    "\n",
    "### 2- On suppose l’hypothèse H0 comme vrai."
   ]
  },
  {
   "cell_type": "markdown",
   "metadata": {},
   "source": [
    "### 3- Calculer le moyenne et l'ecart-type"
   ]
  },
  {
   "cell_type": "markdown",
   "metadata": {},
   "source": [
    "  On a calculer le moyenne et  l'ecart-type sur le column 'montant_ttc' dans les deux basic tables et les deux samples: avantage, remuneration. On a les resultatles suivant:"
   ]
  },
  {
   "cell_type": "markdown",
   "metadata": {},
   "source": [
    "#### 3.1 le moyenne et  l'ecart-type pour le table avantage et sa sample"
   ]
  },
  {
   "cell_type": "markdown",
   "metadata": {},
   "source": [
    "avantage['avant_montant_ttc'].mean()  ---> 143.9439265440081"
   ]
  },
  {
   "cell_type": "markdown",
   "metadata": {},
   "source": [
    "avantage.loc[:,'avant_montant_ttc'].std() --> 3725.823924691866"
   ]
  },
  {
   "cell_type": "markdown",
   "metadata": {},
   "source": [
    "avantageSample['avant_montant_ttc'].mean() --> 141.90759729237672"
   ]
  },
  {
   "cell_type": "markdown",
   "metadata": {},
   "source": [
    "avantageSample.loc[:,'avant_montant_ttc'].std()  --> 2614.0841062141385"
   ]
  },
  {
   "cell_type": "markdown",
   "metadata": {},
   "source": [
    "len(avantageSample) ---> 2824322"
   ]
  },
  {
   "cell_type": "markdown",
   "metadata": {},
   "source": [
    "#### 3.2 le moyenne et  l'ecart-type pour le table remuneration et sa sample"
   ]
  },
  {
   "cell_type": "markdown",
   "metadata": {},
   "source": [
    "remuneration['remu_montant_ttc'].mean() -->5337.852765299928"
   ]
  },
  {
   "cell_type": "markdown",
   "metadata": {},
   "source": [
    "remuneration.loc[:,'remu_montant_ttc'].std()--> 39167.18380511070"
   ]
  },
  {
   "cell_type": "markdown",
   "metadata": {},
   "source": [
    "remunerationSample['remu_montant_ttc'].mean() --> 5227.276655126122"
   ]
  },
  {
   "cell_type": "markdown",
   "metadata": {},
   "source": [
    "remunerationSample.loc[:,'remu_montant_ttc'].std() --> 39773.13566327895"
   ]
  },
  {
   "cell_type": "markdown",
   "metadata": {},
   "source": [
    "len(remunerationSample) ---> 113224"
   ]
  },
  {
   "cell_type": "markdown",
   "metadata": {},
   "source": [
    "###  4- on calcule le difference entre les moyennes"
   ]
  },
  {
   "cell_type": "markdown",
   "metadata": {},
   "source": [
    "  #### On suppose le moyenne de sample est m, moyenne de basic table est M, ecart-type de la basic table est Q et le nombre de chaque sample est n, on calcul le p-value par:\n",
    "   ### |m-M| / (Q/n)"
   ]
  },
  {
   "cell_type": "markdown",
   "metadata": {},
   "source": [
    "#### 4.1 Calculer p-value pour le table avantage "
   ]
  },
  {
   "cell_type": "code",
   "execution_count": 4,
   "metadata": {},
   "outputs": [
    {
     "name": "stdout",
     "output_type": "stream",
     "text": [
      "0.9185076489090103\n"
     ]
    }
   ],
   "source": [
    "import math\n",
    "M= 143.9439265440081\n",
    "m= 141.90759729237672\n",
    "Q =3725.823924691866 \n",
    "n=2824322\n",
    "pValue_avantage=abs(m-M)/(Q/math.sqrt(n))\n",
    "print(pValue_avantage)"
   ]
  },
  {
   "cell_type": "markdown",
   "metadata": {},
   "source": [
    "#### Pour α =0.05, donc 1 – α = 1-0.05=0.95, on peut voir que le pValue (0.9185076489090103) est inférieur donc on accept H0. Donc le sample on a pris represent le table avantage."
   ]
  },
  {
   "cell_type": "markdown",
   "metadata": {},
   "source": [
    "#### 4.2 Calculer p-value pour le table avantage"
   ]
  },
  {
   "cell_type": "code",
   "execution_count": 5,
   "metadata": {},
   "outputs": [
    {
     "name": "stdout",
     "output_type": "stream",
     "text": [
      "0.9499663221088217\n"
     ]
    }
   ],
   "source": [
    "import math\n",
    "M= 5337.852765299928\n",
    "m= 5227.276655126122\n",
    "Q =39167.18380511070 \n",
    "n=113224\n",
    "pValue_remuniration=abs(m-M)/(Q/math.sqrt(n))\n",
    "print(pValue_remuniration)"
   ]
  },
  {
   "cell_type": "markdown",
   "metadata": {},
   "source": [
    "#### Pour α =0.05, donc 1 – α = 1-0.05=0.95, on peut voir que le pValue (0.9499663221088217) est inférieur donc on accept H0. Donc le sample on a pris represent le table remuniration."
   ]
  }
 ],
 "metadata": {
  "kernelspec": {
   "display_name": "Python 3",
   "language": "python",
   "name": "python3"
  },
  "language_info": {
   "codemirror_mode": {
    "name": "ipython",
    "version": 3
   },
   "file_extension": ".py",
   "mimetype": "text/x-python",
   "name": "python",
   "nbconvert_exporter": "python",
   "pygments_lexer": "ipython3",
   "version": "3.7.4"
  }
 },
 "nbformat": 4,
 "nbformat_minor": 2
}
