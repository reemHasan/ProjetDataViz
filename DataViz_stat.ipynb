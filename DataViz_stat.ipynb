{
 "cells": [
  {
   "cell_type": "markdown",
   "metadata": {},
   "source": [
    "## Import les propre base de donnée"
   ]
  },
  {
   "cell_type": "code",
   "execution_count": 1,
   "metadata": {},
   "outputs": [],
   "source": [
    "import pandas as pd"
   ]
  },
  {
   "cell_type": "code",
   "execution_count": 2,
   "metadata": {},
   "outputs": [],
   "source": [
    "avantageSample = pd.read_csv('avantageSample.csv', sep=',')"
   ]
  },
  {
   "cell_type": "code",
   "execution_count": 3,
   "metadata": {},
   "outputs": [],
   "source": [
    "conventionSample = pd.read_csv('conventionSample.csv', sep=',')"
   ]
  },
  {
   "cell_type": "code",
   "execution_count": 4,
   "metadata": {},
   "outputs": [],
   "source": [
    "remunerationSample = pd.read_csv('remunerationSample.csv', sep=',')"
   ]
  },
  {
   "cell_type": "code",
   "execution_count": 5,
   "metadata": {},
   "outputs": [],
   "source": [
    "entreprise = pd.read_csv('entrepriseClean.csv', sep=',', na_filter=False)"
   ]
  },
  {
   "cell_type": "code",
   "execution_count": 6,
   "metadata": {},
   "outputs": [
    {
     "data": {
      "text/html": [
       "<div>\n",
       "<style scoped>\n",
       "    .dataframe tbody tr th:only-of-type {\n",
       "        vertical-align: middle;\n",
       "    }\n",
       "\n",
       "    .dataframe tbody tr th {\n",
       "        vertical-align: top;\n",
       "    }\n",
       "\n",
       "    .dataframe thead th {\n",
       "        text-align: right;\n",
       "    }\n",
       "</style>\n",
       "<table border=\"1\" class=\"dataframe\">\n",
       "  <thead>\n",
       "    <tr style=\"text-align: right;\">\n",
       "      <th></th>\n",
       "      <th>identifiant</th>\n",
       "      <th>pays_code</th>\n",
       "      <th>pays</th>\n",
       "      <th>secteur_activite_code</th>\n",
       "      <th>secteur</th>\n",
       "      <th>denomination_sociale</th>\n",
       "      <th>adresse_1</th>\n",
       "      <th>adresse_2</th>\n",
       "      <th>adresse_3</th>\n",
       "      <th>adresse_4</th>\n",
       "      <th>code_postal</th>\n",
       "      <th>ville</th>\n",
       "    </tr>\n",
       "  </thead>\n",
       "  <tbody>\n",
       "    <tr>\n",
       "      <td>0</td>\n",
       "      <td>QBSTAWWV</td>\n",
       "      <td>[FR]</td>\n",
       "      <td>FRANCE</td>\n",
       "      <td>[PA]</td>\n",
       "      <td>Prestataires associés</td>\n",
       "      <td>IP Santé domicile</td>\n",
       "      <td>16 Rue de Montbrillant</td>\n",
       "      <td>Buroparc Rive Gauche</td>\n",
       "      <td></td>\n",
       "      <td></td>\n",
       "      <td>69003</td>\n",
       "      <td>LYON</td>\n",
       "    </tr>\n",
       "    <tr>\n",
       "      <td>1</td>\n",
       "      <td>MQKQLNIC</td>\n",
       "      <td>[FR]</td>\n",
       "      <td>FRANCE</td>\n",
       "      <td>[DM]</td>\n",
       "      <td>Dispositifs médicaux</td>\n",
       "      <td>SIGVARIS</td>\n",
       "      <td>ZI SUD D'ANDREZIEUX</td>\n",
       "      <td>RUE B. THIMONNIER</td>\n",
       "      <td></td>\n",
       "      <td></td>\n",
       "      <td>42173</td>\n",
       "      <td>SAINT-JUST SAINT-RAMBERT CEDEX</td>\n",
       "    </tr>\n",
       "    <tr>\n",
       "      <td>2</td>\n",
       "      <td>OETEUQSP</td>\n",
       "      <td>[FR]</td>\n",
       "      <td>FRANCE</td>\n",
       "      <td>[AUT]</td>\n",
       "      <td>Autres</td>\n",
       "      <td>HEALTHCARE COMPLIANCE CONSULTING FRANCE SAS</td>\n",
       "      <td>47 BOULEVARD CHARLES V</td>\n",
       "      <td></td>\n",
       "      <td></td>\n",
       "      <td></td>\n",
       "      <td>14600</td>\n",
       "      <td>HONFLEUR</td>\n",
       "    </tr>\n",
       "    <tr>\n",
       "      <td>3</td>\n",
       "      <td>GXIVOHBB</td>\n",
       "      <td>[FR]</td>\n",
       "      <td>FRANCE</td>\n",
       "      <td>[PA]</td>\n",
       "      <td>Prestataires associés</td>\n",
       "      <td>ISIS DIABETE</td>\n",
       "      <td>10-16 RUE DU COLONEL ROL TANGUY</td>\n",
       "      <td>ZAC DU BOIS MOUSSAY</td>\n",
       "      <td></td>\n",
       "      <td></td>\n",
       "      <td>93240</td>\n",
       "      <td>STAINS</td>\n",
       "    </tr>\n",
       "    <tr>\n",
       "      <td>4</td>\n",
       "      <td>ZQKPAZKB</td>\n",
       "      <td>[FR]</td>\n",
       "      <td>FRANCE</td>\n",
       "      <td>[PA]</td>\n",
       "      <td>Prestataires associés</td>\n",
       "      <td>CREAFIRST</td>\n",
       "      <td>8 Rue de l'Est</td>\n",
       "      <td></td>\n",
       "      <td></td>\n",
       "      <td></td>\n",
       "      <td>92100</td>\n",
       "      <td>BOULOGNE BILLANCOURT</td>\n",
       "    </tr>\n",
       "    <tr>\n",
       "      <td>5</td>\n",
       "      <td>GEJLGPVD</td>\n",
       "      <td>[US]</td>\n",
       "      <td>ÉTATS-UNIS</td>\n",
       "      <td>[DM]</td>\n",
       "      <td>Dispositifs médicaux</td>\n",
       "      <td>Nobel Biocare USA LLC</td>\n",
       "      <td>800 Corporate Drive</td>\n",
       "      <td></td>\n",
       "      <td></td>\n",
       "      <td></td>\n",
       "      <td>07430</td>\n",
       "      <td>MAHWAH</td>\n",
       "    </tr>\n",
       "    <tr>\n",
       "      <td>6</td>\n",
       "      <td>XSQKIAGK</td>\n",
       "      <td>[FR]</td>\n",
       "      <td>FRANCE</td>\n",
       "      <td>[DM]</td>\n",
       "      <td>Dispositifs médicaux</td>\n",
       "      <td>Cook France SARL</td>\n",
       "      <td>2 Rue due Nouveau Bercy</td>\n",
       "      <td></td>\n",
       "      <td></td>\n",
       "      <td></td>\n",
       "      <td>94227</td>\n",
       "      <td>Charenton Le Pont Cedex</td>\n",
       "    </tr>\n",
       "    <tr>\n",
       "      <td>7</td>\n",
       "      <td>ARHHJTWT</td>\n",
       "      <td>[FR]</td>\n",
       "      <td>FRANCE</td>\n",
       "      <td>[DM]</td>\n",
       "      <td>Dispositifs médicaux</td>\n",
       "      <td>EYETECHCARE</td>\n",
       "      <td>2871 Avenue de l'Europe</td>\n",
       "      <td></td>\n",
       "      <td></td>\n",
       "      <td></td>\n",
       "      <td>69140</td>\n",
       "      <td>RILLIEUX-LA-PAPE</td>\n",
       "    </tr>\n",
       "    <tr>\n",
       "      <td>8</td>\n",
       "      <td>OLTROGGG</td>\n",
       "      <td>[FR]</td>\n",
       "      <td>FRANCE</td>\n",
       "      <td>[PA]</td>\n",
       "      <td>Prestataires associés</td>\n",
       "      <td>Ipsos Observer</td>\n",
       "      <td>35 rue du Val de Marne</td>\n",
       "      <td></td>\n",
       "      <td></td>\n",
       "      <td></td>\n",
       "      <td>75013</td>\n",
       "      <td>Paris</td>\n",
       "    </tr>\n",
       "    <tr>\n",
       "      <td>9</td>\n",
       "      <td>TGCRFPAO</td>\n",
       "      <td>[CN]</td>\n",
       "      <td>CHINE</td>\n",
       "      <td>[DM]</td>\n",
       "      <td>Dispositifs médicaux</td>\n",
       "      <td>BIOMET CHINA</td>\n",
       "      <td>Suite 07-09, 25th Floor</td>\n",
       "      <td>LanSheng Building</td>\n",
       "      <td>2-8 HuaiHai Road (Mid)</td>\n",
       "      <td></td>\n",
       "      <td>200021</td>\n",
       "      <td>Shanghai</td>\n",
       "    </tr>\n",
       "    <tr>\n",
       "      <td>10</td>\n",
       "      <td>PGDDOEMD</td>\n",
       "      <td>[US]</td>\n",
       "      <td>ÉTATS-UNIS</td>\n",
       "      <td>[MED]</td>\n",
       "      <td>Médicaments humains</td>\n",
       "      <td>Theravance, Inc.</td>\n",
       "      <td>901 Gateway Boulevard</td>\n",
       "      <td></td>\n",
       "      <td></td>\n",
       "      <td></td>\n",
       "      <td>94080</td>\n",
       "      <td>South San Francisco</td>\n",
       "    </tr>\n",
       "    <tr>\n",
       "      <td>11</td>\n",
       "      <td>GPTSZMKD</td>\n",
       "      <td>[NL]</td>\n",
       "      <td>PAYS-BAS</td>\n",
       "      <td>[DM]</td>\n",
       "      <td>Dispositifs médicaux</td>\n",
       "      <td>DUX B.V.</td>\n",
       "      <td>Zonnebaan 14</td>\n",
       "      <td></td>\n",
       "      <td></td>\n",
       "      <td></td>\n",
       "      <td>3542EC</td>\n",
       "      <td>Utrecht</td>\n",
       "    </tr>\n",
       "    <tr>\n",
       "      <td>12</td>\n",
       "      <td>UVECCGEX</td>\n",
       "      <td>[JP]</td>\n",
       "      <td>JAPON</td>\n",
       "      <td>[DM]</td>\n",
       "      <td>Dispositifs médicaux</td>\n",
       "      <td>Biomet Japan, Inc.</td>\n",
       "      <td>1-5-9 Shiba</td>\n",
       "      <td>Sumitoma Fudosan Shiba Bldg. No. 2</td>\n",
       "      <td>8F Minato-ku</td>\n",
       "      <td></td>\n",
       "      <td>1050014</td>\n",
       "      <td>Tokyo</td>\n",
       "    </tr>\n",
       "    <tr>\n",
       "      <td>13</td>\n",
       "      <td>RKYUBDPV</td>\n",
       "      <td>[SE]</td>\n",
       "      <td>SUÈDE</td>\n",
       "      <td>[DM]</td>\n",
       "      <td>Dispositifs médicaux</td>\n",
       "      <td>WELLSPECT HEALTHCARE/DENTSPLY IH AB</td>\n",
       "      <td>AMINOGATAN 1</td>\n",
       "      <td></td>\n",
       "      <td></td>\n",
       "      <td></td>\n",
       "      <td>431 53</td>\n",
       "      <td>MÖLNDAL</td>\n",
       "    </tr>\n",
       "    <tr>\n",
       "      <td>14</td>\n",
       "      <td>GZEIBCDO</td>\n",
       "      <td>[FR]</td>\n",
       "      <td>FRANCE</td>\n",
       "      <td>[PA]</td>\n",
       "      <td>Prestataires associés</td>\n",
       "      <td>alveol'air</td>\n",
       "      <td>5 rue etienne collombet</td>\n",
       "      <td></td>\n",
       "      <td></td>\n",
       "      <td></td>\n",
       "      <td>31470</td>\n",
       "      <td>fonsorbes</td>\n",
       "    </tr>\n",
       "    <tr>\n",
       "      <td>15</td>\n",
       "      <td>BQBMXSNR</td>\n",
       "      <td>[FR]</td>\n",
       "      <td>FRANCE</td>\n",
       "      <td>[DM]</td>\n",
       "      <td>Dispositifs médicaux</td>\n",
       "      <td>SNC LCA de NICE</td>\n",
       "      <td>AUDITION CONSEIL</td>\n",
       "      <td>68, Avenue Jean Médecin</td>\n",
       "      <td></td>\n",
       "      <td></td>\n",
       "      <td>06000</td>\n",
       "      <td>Nice</td>\n",
       "    </tr>\n",
       "    <tr>\n",
       "      <td>16</td>\n",
       "      <td>CHJDYNZB</td>\n",
       "      <td>[FR]</td>\n",
       "      <td>FRANCE</td>\n",
       "      <td>[MED]</td>\n",
       "      <td>Médicaments humains</td>\n",
       "      <td>SA CERP BRETAGNE ATLANTIQUE</td>\n",
       "      <td>ZIL Rue Chaptal</td>\n",
       "      <td></td>\n",
       "      <td></td>\n",
       "      <td></td>\n",
       "      <td>22000</td>\n",
       "      <td>SAINT-BRIEUC</td>\n",
       "    </tr>\n",
       "    <tr>\n",
       "      <td>17</td>\n",
       "      <td>FRHGRMDB</td>\n",
       "      <td>[FR]</td>\n",
       "      <td>FRANCE</td>\n",
       "      <td>[DM]</td>\n",
       "      <td>Dispositifs médicaux</td>\n",
       "      <td>OPTIQUE E'CAUX</td>\n",
       "      <td>14 bis avenue micheline Ostermeyer</td>\n",
       "      <td></td>\n",
       "      <td></td>\n",
       "      <td></td>\n",
       "      <td>76190</td>\n",
       "      <td>Yvetot</td>\n",
       "    </tr>\n",
       "    <tr>\n",
       "      <td>18</td>\n",
       "      <td>GKXRBQRJ</td>\n",
       "      <td>[FR]</td>\n",
       "      <td>FRANCE</td>\n",
       "      <td>[PA]</td>\n",
       "      <td>Prestataires associés</td>\n",
       "      <td>INFECO</td>\n",
       "      <td>61 rue de Neuilly</td>\n",
       "      <td></td>\n",
       "      <td></td>\n",
       "      <td></td>\n",
       "      <td>92110</td>\n",
       "      <td>Clichy</td>\n",
       "    </tr>\n",
       "    <tr>\n",
       "      <td>19</td>\n",
       "      <td>HPXSEHWQ</td>\n",
       "      <td>[FR]</td>\n",
       "      <td>FRANCE</td>\n",
       "      <td>[DMDIV]</td>\n",
       "      <td>Dispositifs médicaux de diagnostic in vitro</td>\n",
       "      <td>perkinElmer</td>\n",
       "      <td>16 Av du Québec</td>\n",
       "      <td>Bat Lys</td>\n",
       "      <td></td>\n",
       "      <td></td>\n",
       "      <td>91140</td>\n",
       "      <td>Villebon sur Yvette</td>\n",
       "    </tr>\n",
       "    <tr>\n",
       "      <td>20</td>\n",
       "      <td>XXVQWEGO</td>\n",
       "      <td>[FR]</td>\n",
       "      <td>FRANCE</td>\n",
       "      <td>[DM]</td>\n",
       "      <td>Dispositifs médicaux</td>\n",
       "      <td>AUDITION REMI LAMOINE</td>\n",
       "      <td>37, Bd Général Leclerc</td>\n",
       "      <td></td>\n",
       "      <td></td>\n",
       "      <td></td>\n",
       "      <td>33120</td>\n",
       "      <td>ARCACHON</td>\n",
       "    </tr>\n",
       "    <tr>\n",
       "      <td>21</td>\n",
       "      <td>USLHXJOZ</td>\n",
       "      <td>[FR]</td>\n",
       "      <td>FRANCE</td>\n",
       "      <td>[PA]</td>\n",
       "      <td>Prestataires associés</td>\n",
       "      <td>K. PARTICULIER</td>\n",
       "      <td>37 rue des Acacias</td>\n",
       "      <td></td>\n",
       "      <td></td>\n",
       "      <td></td>\n",
       "      <td>75017</td>\n",
       "      <td>PARIS</td>\n",
       "    </tr>\n",
       "    <tr>\n",
       "      <td>22</td>\n",
       "      <td>YLTAJHSI</td>\n",
       "      <td>[FR]</td>\n",
       "      <td>FRANCE</td>\n",
       "      <td>[DM]</td>\n",
       "      <td>Dispositifs médicaux</td>\n",
       "      <td>TRANSYSTEME SN</td>\n",
       "      <td>217 rue Charles Nungesser</td>\n",
       "      <td>Le Mas des Cavaliers</td>\n",
       "      <td></td>\n",
       "      <td></td>\n",
       "      <td>34130</td>\n",
       "      <td>MAUGUIO</td>\n",
       "    </tr>\n",
       "    <tr>\n",
       "      <td>23</td>\n",
       "      <td>MRRGUIXF</td>\n",
       "      <td>[FR]</td>\n",
       "      <td>FRANCE</td>\n",
       "      <td>[DM]</td>\n",
       "      <td>Dispositifs médicaux</td>\n",
       "      <td>ONIRIS</td>\n",
       "      <td>704 avenue Roger Salengro</td>\n",
       "      <td></td>\n",
       "      <td></td>\n",
       "      <td></td>\n",
       "      <td>92370</td>\n",
       "      <td>Chaville</td>\n",
       "    </tr>\n",
       "    <tr>\n",
       "      <td>24</td>\n",
       "      <td>QFNWXURY</td>\n",
       "      <td>[FR]</td>\n",
       "      <td>FRANCE</td>\n",
       "      <td>[DM]</td>\n",
       "      <td>Dispositifs médicaux</td>\n",
       "      <td>Carvadys S.A.S</td>\n",
       "      <td>97 allée Alexandre Borodine</td>\n",
       "      <td>Parc Woodclub</td>\n",
       "      <td></td>\n",
       "      <td></td>\n",
       "      <td>69800</td>\n",
       "      <td>Saint Priest</td>\n",
       "    </tr>\n",
       "    <tr>\n",
       "      <td>25</td>\n",
       "      <td>RKIYNMWN</td>\n",
       "      <td>[FR]</td>\n",
       "      <td>FRANCE</td>\n",
       "      <td>[PA]</td>\n",
       "      <td>Prestataires associés</td>\n",
       "      <td>ALPHEGA</td>\n",
       "      <td>222, Rue des Caboeufs</td>\n",
       "      <td></td>\n",
       "      <td></td>\n",
       "      <td></td>\n",
       "      <td>92230</td>\n",
       "      <td>gennevilliers</td>\n",
       "    </tr>\n",
       "    <tr>\n",
       "      <td>26</td>\n",
       "      <td>ZTJPATHI</td>\n",
       "      <td>[US]</td>\n",
       "      <td>ÉTATS-UNIS</td>\n",
       "      <td>[MED]</td>\n",
       "      <td>Médicaments humains</td>\n",
       "      <td>REGULUS THERAPEUTICS INC.</td>\n",
       "      <td>3545 John Hopkins Court</td>\n",
       "      <td>Suite 210</td>\n",
       "      <td>CA92121-1121</td>\n",
       "      <td></td>\n",
       "      <td>CA 92121</td>\n",
       "      <td>SAN DIEGO</td>\n",
       "    </tr>\n",
       "    <tr>\n",
       "      <td>27</td>\n",
       "      <td>VYLSULBP</td>\n",
       "      <td>[US]</td>\n",
       "      <td>ÉTATS-UNIS</td>\n",
       "      <td>[MED]</td>\n",
       "      <td>Médicaments humains</td>\n",
       "      <td>Genen-Tech Inc</td>\n",
       "      <td>1 DNA Way</td>\n",
       "      <td></td>\n",
       "      <td></td>\n",
       "      <td></td>\n",
       "      <td>94080</td>\n",
       "      <td>South San Francisco</td>\n",
       "    </tr>\n",
       "    <tr>\n",
       "      <td>28</td>\n",
       "      <td>UNIYTFXE</td>\n",
       "      <td>[FR]</td>\n",
       "      <td>FRANCE</td>\n",
       "      <td>[DM]</td>\n",
       "      <td>Dispositifs médicaux</td>\n",
       "      <td>TRB CHEMEDICA</td>\n",
       "      <td>37 RUE RENE CASSIN</td>\n",
       "      <td>ZAC LA CHATELAINE</td>\n",
       "      <td></td>\n",
       "      <td></td>\n",
       "      <td>74240</td>\n",
       "      <td>GAILLARD</td>\n",
       "    </tr>\n",
       "    <tr>\n",
       "      <td>29</td>\n",
       "      <td>ZDRFIIGZ</td>\n",
       "      <td>[GB]</td>\n",
       "      <td>ROYAUME-UNI</td>\n",
       "      <td>[AUT]</td>\n",
       "      <td>Autres</td>\n",
       "      <td>L&amp;L Rsourcing</td>\n",
       "      <td>33 Lewis road</td>\n",
       "      <td>welling</td>\n",
       "      <td>kent</td>\n",
       "      <td></td>\n",
       "      <td>da161sd</td>\n",
       "      <td>Welling</td>\n",
       "    </tr>\n",
       "    <tr>\n",
       "      <td>30</td>\n",
       "      <td>DNPLOVNE</td>\n",
       "      <td>[IT]</td>\n",
       "      <td>ITALIE</td>\n",
       "      <td>[DM]</td>\n",
       "      <td>Dispositifs médicaux</td>\n",
       "      <td>NOBEL BIOCARE ITALIANA SRL</td>\n",
       "      <td>ENERGY PARK Building 03 - Lato Sud</td>\n",
       "      <td>Via Energy Park, 6</td>\n",
       "      <td></td>\n",
       "      <td></td>\n",
       "      <td>20871</td>\n",
       "      <td>Vimercate</td>\n",
       "    </tr>\n",
       "    <tr>\n",
       "      <td>31</td>\n",
       "      <td>TLGOOVKA</td>\n",
       "      <td>[FR]</td>\n",
       "      <td>FRANCE</td>\n",
       "      <td>[DM]</td>\n",
       "      <td>Dispositifs médicaux</td>\n",
       "      <td>TEOXANE FRANCE</td>\n",
       "      <td>25 Boulevard Malesherbes</td>\n",
       "      <td></td>\n",
       "      <td></td>\n",
       "      <td></td>\n",
       "      <td>75008</td>\n",
       "      <td>Paris</td>\n",
       "    </tr>\n",
       "    <tr>\n",
       "      <td>32</td>\n",
       "      <td>SOBANJDS</td>\n",
       "      <td>[FR]</td>\n",
       "      <td>FRANCE</td>\n",
       "      <td>[DM]</td>\n",
       "      <td>Dispositifs médicaux</td>\n",
       "      <td>CORSE OXYGENE</td>\n",
       "      <td>ZA PURETTONE</td>\n",
       "      <td>LOT 28</td>\n",
       "      <td></td>\n",
       "      <td></td>\n",
       "      <td>20290</td>\n",
       "      <td>BORGO</td>\n",
       "    </tr>\n",
       "    <tr>\n",
       "      <td>33</td>\n",
       "      <td>OEXUFTXY</td>\n",
       "      <td>[FR]</td>\n",
       "      <td>FRANCE</td>\n",
       "      <td>[DM]</td>\n",
       "      <td>Dispositifs médicaux</td>\n",
       "      <td>SARL AUNIS AUDITION</td>\n",
       "      <td>70 RUE DE LA REPUBLIQUE</td>\n",
       "      <td></td>\n",
       "      <td></td>\n",
       "      <td></td>\n",
       "      <td>17300</td>\n",
       "      <td>ROCHEFORT</td>\n",
       "    </tr>\n",
       "    <tr>\n",
       "      <td>34</td>\n",
       "      <td>YHVWUHEM</td>\n",
       "      <td>[DE]</td>\n",
       "      <td>ALLEMAGNE</td>\n",
       "      <td>[AUT]</td>\n",
       "      <td>Autres</td>\n",
       "      <td>rc - research &amp; consulting GmbH</td>\n",
       "      <td>Mauerstr. 8</td>\n",
       "      <td></td>\n",
       "      <td></td>\n",
       "      <td></td>\n",
       "      <td>33602</td>\n",
       "      <td>Bielefeld</td>\n",
       "    </tr>\n",
       "    <tr>\n",
       "      <td>35</td>\n",
       "      <td>XQHUXMYS</td>\n",
       "      <td>[CH]</td>\n",
       "      <td>SUISSE</td>\n",
       "      <td>[PA]</td>\n",
       "      <td>Prestataires associés</td>\n",
       "      <td>ONCommit</td>\n",
       "      <td>Avenue des Baumettes, 11</td>\n",
       "      <td></td>\n",
       "      <td></td>\n",
       "      <td></td>\n",
       "      <td>1020</td>\n",
       "      <td>Renens</td>\n",
       "    </tr>\n",
       "    <tr>\n",
       "      <td>36</td>\n",
       "      <td>PKEXPDIP</td>\n",
       "      <td>[FR]</td>\n",
       "      <td>FRANCE</td>\n",
       "      <td>[DM]</td>\n",
       "      <td>Dispositifs médicaux</td>\n",
       "      <td>Ultradent Products GmbH</td>\n",
       "      <td>5 chemin des Jubins</td>\n",
       "      <td></td>\n",
       "      <td></td>\n",
       "      <td></td>\n",
       "      <td>69570</td>\n",
       "      <td>DARDILLY</td>\n",
       "    </tr>\n",
       "    <tr>\n",
       "      <td>37</td>\n",
       "      <td>WPDNQYAO</td>\n",
       "      <td>[FR]</td>\n",
       "      <td>FRANCE</td>\n",
       "      <td>[DM]</td>\n",
       "      <td>Dispositifs médicaux</td>\n",
       "      <td>Ophtalmic Compagnie</td>\n",
       "      <td>ZA Paris NORD II</td>\n",
       "      <td>22 Avenue des Nations</td>\n",
       "      <td>Immeuble \"Le Rousseau\"</td>\n",
       "      <td>BP 55306 Villepinte</td>\n",
       "      <td>95940</td>\n",
       "      <td>Roissy CDG CEDEX</td>\n",
       "    </tr>\n",
       "    <tr>\n",
       "      <td>38</td>\n",
       "      <td>YJWNPTSX</td>\n",
       "      <td>[FR]</td>\n",
       "      <td>FRANCE</td>\n",
       "      <td>[AUT]</td>\n",
       "      <td>Autres</td>\n",
       "      <td>SARL AUDITION AQUITAINE</td>\n",
       "      <td>34 ROUTE DE TOULOUSE</td>\n",
       "      <td></td>\n",
       "      <td></td>\n",
       "      <td></td>\n",
       "      <td>33800</td>\n",
       "      <td>BORDEAUX</td>\n",
       "    </tr>\n",
       "    <tr>\n",
       "      <td>39</td>\n",
       "      <td>GCIHESEV</td>\n",
       "      <td>[SE]</td>\n",
       "      <td>SUÈDE</td>\n",
       "      <td>[DM]</td>\n",
       "      <td>Dispositifs médicaux</td>\n",
       "      <td>DENTSPLY IH AB</td>\n",
       "      <td>Aminogatan 1</td>\n",
       "      <td>box 14</td>\n",
       "      <td></td>\n",
       "      <td></td>\n",
       "      <td>431 21</td>\n",
       "      <td>MÖLNDAL</td>\n",
       "    </tr>\n",
       "    <tr>\n",
       "      <td>40</td>\n",
       "      <td>STDKNBIO</td>\n",
       "      <td>[RE]</td>\n",
       "      <td>RÉUNION</td>\n",
       "      <td>[AUT]</td>\n",
       "      <td>Autres</td>\n",
       "      <td>AUDITION OUTRE MER</td>\n",
       "      <td>1 Chemin cachalot</td>\n",
       "      <td></td>\n",
       "      <td></td>\n",
       "      <td></td>\n",
       "      <td>97410</td>\n",
       "      <td>SAINT PIERRE</td>\n",
       "    </tr>\n",
       "    <tr>\n",
       "      <td>41</td>\n",
       "      <td>BMEURKJH</td>\n",
       "      <td>[FR]</td>\n",
       "      <td>FRANCE</td>\n",
       "      <td>[AUT]</td>\n",
       "      <td>Autres</td>\n",
       "      <td>SARL LABORATOIRE DUPONT</td>\n",
       "      <td>48 Rue Nicolas Oresme</td>\n",
       "      <td></td>\n",
       "      <td></td>\n",
       "      <td></td>\n",
       "      <td>14000</td>\n",
       "      <td>CAEN</td>\n",
       "    </tr>\n",
       "    <tr>\n",
       "      <td>42</td>\n",
       "      <td>KWUUIQMV</td>\n",
       "      <td>[FR]</td>\n",
       "      <td>FRANCE</td>\n",
       "      <td>[MED]</td>\n",
       "      <td>Médicaments humains</td>\n",
       "      <td>ALMIRALL SAS</td>\n",
       "      <td>1, Boulevard VICTOR</td>\n",
       "      <td>Immeuble \"Le Barjac\"</td>\n",
       "      <td></td>\n",
       "      <td></td>\n",
       "      <td>75015</td>\n",
       "      <td>PARIS</td>\n",
       "    </tr>\n",
       "    <tr>\n",
       "      <td>43</td>\n",
       "      <td>TPVMYCGK</td>\n",
       "      <td>[ZA]</td>\n",
       "      <td>AFRIQUE DU SUD</td>\n",
       "      <td>[DMDIV]</td>\n",
       "      <td>Dispositifs médicaux de diagnostic in vitro</td>\n",
       "      <td>Roche Products (Pty) Ltd South Africa</td>\n",
       "      <td>P O Box 55922</td>\n",
       "      <td></td>\n",
       "      <td></td>\n",
       "      <td></td>\n",
       "      <td>2116</td>\n",
       "      <td>Northlands</td>\n",
       "    </tr>\n",
       "    <tr>\n",
       "      <td>44</td>\n",
       "      <td>HSLKDKYO</td>\n",
       "      <td>[NL]</td>\n",
       "      <td>PAYS-BAS</td>\n",
       "      <td>[DM]</td>\n",
       "      <td>Dispositifs médicaux</td>\n",
       "      <td>KCI EUROPE HOLDING B.V.</td>\n",
       "      <td>DUITKOOT 1</td>\n",
       "      <td></td>\n",
       "      <td></td>\n",
       "      <td></td>\n",
       "      <td>3990 GA</td>\n",
       "      <td>HOUTON</td>\n",
       "    </tr>\n",
       "    <tr>\n",
       "      <td>45</td>\n",
       "      <td>PRXDANVT</td>\n",
       "      <td>[FR]</td>\n",
       "      <td>FRANCE</td>\n",
       "      <td>[DM]</td>\n",
       "      <td>Dispositifs médicaux</td>\n",
       "      <td>Dominique TATE</td>\n",
       "      <td>30 RUE BEAUSEJOUR</td>\n",
       "      <td></td>\n",
       "      <td></td>\n",
       "      <td></td>\n",
       "      <td>03700</td>\n",
       "      <td>BELLERIVE SUR ALLIER</td>\n",
       "    </tr>\n",
       "    <tr>\n",
       "      <td>46</td>\n",
       "      <td>GSSMMFHW</td>\n",
       "      <td>[FR]</td>\n",
       "      <td>FRANCE</td>\n",
       "      <td>[PA]</td>\n",
       "      <td>Prestataires associés</td>\n",
       "      <td>CLIN DATA MANAGEMENT</td>\n",
       "      <td>15 rue d'Alsace</td>\n",
       "      <td>ZI</td>\n",
       "      <td></td>\n",
       "      <td></td>\n",
       "      <td>68250</td>\n",
       "      <td>ROUFFACH</td>\n",
       "    </tr>\n",
       "    <tr>\n",
       "      <td>47</td>\n",
       "      <td>QAVOXEIB</td>\n",
       "      <td>[FR]</td>\n",
       "      <td>FRANCE</td>\n",
       "      <td>[AUT]</td>\n",
       "      <td>Autres</td>\n",
       "      <td>STATESIA</td>\n",
       "      <td>19-21 RUE THALES DE MILET</td>\n",
       "      <td></td>\n",
       "      <td></td>\n",
       "      <td></td>\n",
       "      <td>72000</td>\n",
       "      <td>LE MANS</td>\n",
       "    </tr>\n",
       "    <tr>\n",
       "      <td>48</td>\n",
       "      <td>HAPYMGDZ</td>\n",
       "      <td>[FR]</td>\n",
       "      <td>FRANCE</td>\n",
       "      <td>[DM]</td>\n",
       "      <td>Dispositifs médicaux</td>\n",
       "      <td>DOMISANTE PROXIMED</td>\n",
       "      <td>9 AVENUE DE LA VERTONNE</td>\n",
       "      <td></td>\n",
       "      <td></td>\n",
       "      <td></td>\n",
       "      <td>44120</td>\n",
       "      <td>VERTOU</td>\n",
       "    </tr>\n",
       "    <tr>\n",
       "      <td>49</td>\n",
       "      <td>EBESTATF</td>\n",
       "      <td>[US]</td>\n",
       "      <td>ÉTATS-UNIS</td>\n",
       "      <td>[DM]</td>\n",
       "      <td>Dispositifs médicaux</td>\n",
       "      <td>ALPHATEC SPINE INC</td>\n",
       "      <td>5818 El Camino Real</td>\n",
       "      <td>Californie</td>\n",
       "      <td></td>\n",
       "      <td></td>\n",
       "      <td>92008</td>\n",
       "      <td>Carlsbad</td>\n",
       "    </tr>\n",
       "  </tbody>\n",
       "</table>\n",
       "</div>"
      ],
      "text/plain": [
       "   identifiant pays_code            pays secteur_activite_code  \\\n",
       "0     QBSTAWWV      [FR]          FRANCE                  [PA]   \n",
       "1     MQKQLNIC      [FR]          FRANCE                  [DM]   \n",
       "2     OETEUQSP      [FR]          FRANCE                 [AUT]   \n",
       "3     GXIVOHBB      [FR]          FRANCE                  [PA]   \n",
       "4     ZQKPAZKB      [FR]          FRANCE                  [PA]   \n",
       "5     GEJLGPVD      [US]      ÉTATS-UNIS                  [DM]   \n",
       "6     XSQKIAGK      [FR]          FRANCE                  [DM]   \n",
       "7     ARHHJTWT      [FR]          FRANCE                  [DM]   \n",
       "8     OLTROGGG      [FR]          FRANCE                  [PA]   \n",
       "9     TGCRFPAO      [CN]           CHINE                  [DM]   \n",
       "10    PGDDOEMD      [US]      ÉTATS-UNIS                 [MED]   \n",
       "11    GPTSZMKD      [NL]        PAYS-BAS                  [DM]   \n",
       "12    UVECCGEX      [JP]           JAPON                  [DM]   \n",
       "13    RKYUBDPV      [SE]           SUÈDE                  [DM]   \n",
       "14    GZEIBCDO      [FR]          FRANCE                  [PA]   \n",
       "15    BQBMXSNR      [FR]          FRANCE                  [DM]   \n",
       "16    CHJDYNZB      [FR]          FRANCE                 [MED]   \n",
       "17    FRHGRMDB      [FR]          FRANCE                  [DM]   \n",
       "18    GKXRBQRJ      [FR]          FRANCE                  [PA]   \n",
       "19    HPXSEHWQ      [FR]          FRANCE               [DMDIV]   \n",
       "20    XXVQWEGO      [FR]          FRANCE                  [DM]   \n",
       "21    USLHXJOZ      [FR]          FRANCE                  [PA]   \n",
       "22    YLTAJHSI      [FR]          FRANCE                  [DM]   \n",
       "23    MRRGUIXF      [FR]          FRANCE                  [DM]   \n",
       "24    QFNWXURY      [FR]          FRANCE                  [DM]   \n",
       "25    RKIYNMWN      [FR]          FRANCE                  [PA]   \n",
       "26    ZTJPATHI      [US]      ÉTATS-UNIS                 [MED]   \n",
       "27    VYLSULBP      [US]      ÉTATS-UNIS                 [MED]   \n",
       "28    UNIYTFXE      [FR]          FRANCE                  [DM]   \n",
       "29    ZDRFIIGZ      [GB]     ROYAUME-UNI                 [AUT]   \n",
       "30    DNPLOVNE      [IT]          ITALIE                  [DM]   \n",
       "31    TLGOOVKA      [FR]          FRANCE                  [DM]   \n",
       "32    SOBANJDS      [FR]          FRANCE                  [DM]   \n",
       "33    OEXUFTXY      [FR]          FRANCE                  [DM]   \n",
       "34    YHVWUHEM      [DE]       ALLEMAGNE                 [AUT]   \n",
       "35    XQHUXMYS      [CH]          SUISSE                  [PA]   \n",
       "36    PKEXPDIP      [FR]          FRANCE                  [DM]   \n",
       "37    WPDNQYAO      [FR]          FRANCE                  [DM]   \n",
       "38    YJWNPTSX      [FR]          FRANCE                 [AUT]   \n",
       "39    GCIHESEV      [SE]           SUÈDE                  [DM]   \n",
       "40    STDKNBIO      [RE]         RÉUNION                 [AUT]   \n",
       "41    BMEURKJH      [FR]          FRANCE                 [AUT]   \n",
       "42    KWUUIQMV      [FR]          FRANCE                 [MED]   \n",
       "43    TPVMYCGK      [ZA]  AFRIQUE DU SUD               [DMDIV]   \n",
       "44    HSLKDKYO      [NL]        PAYS-BAS                  [DM]   \n",
       "45    PRXDANVT      [FR]          FRANCE                  [DM]   \n",
       "46    GSSMMFHW      [FR]          FRANCE                  [PA]   \n",
       "47    QAVOXEIB      [FR]          FRANCE                 [AUT]   \n",
       "48    HAPYMGDZ      [FR]          FRANCE                  [DM]   \n",
       "49    EBESTATF      [US]      ÉTATS-UNIS                  [DM]   \n",
       "\n",
       "                                        secteur  \\\n",
       "0                         Prestataires associés   \n",
       "1                          Dispositifs médicaux   \n",
       "2                                        Autres   \n",
       "3                         Prestataires associés   \n",
       "4                         Prestataires associés   \n",
       "5                          Dispositifs médicaux   \n",
       "6                          Dispositifs médicaux   \n",
       "7                          Dispositifs médicaux   \n",
       "8                         Prestataires associés   \n",
       "9                          Dispositifs médicaux   \n",
       "10                          Médicaments humains   \n",
       "11                         Dispositifs médicaux   \n",
       "12                         Dispositifs médicaux   \n",
       "13                         Dispositifs médicaux   \n",
       "14                        Prestataires associés   \n",
       "15                         Dispositifs médicaux   \n",
       "16                          Médicaments humains   \n",
       "17                         Dispositifs médicaux   \n",
       "18                        Prestataires associés   \n",
       "19  Dispositifs médicaux de diagnostic in vitro   \n",
       "20                         Dispositifs médicaux   \n",
       "21                        Prestataires associés   \n",
       "22                         Dispositifs médicaux   \n",
       "23                         Dispositifs médicaux   \n",
       "24                         Dispositifs médicaux   \n",
       "25                        Prestataires associés   \n",
       "26                          Médicaments humains   \n",
       "27                          Médicaments humains   \n",
       "28                         Dispositifs médicaux   \n",
       "29                                       Autres   \n",
       "30                         Dispositifs médicaux   \n",
       "31                         Dispositifs médicaux   \n",
       "32                         Dispositifs médicaux   \n",
       "33                         Dispositifs médicaux   \n",
       "34                                       Autres   \n",
       "35                        Prestataires associés   \n",
       "36                         Dispositifs médicaux   \n",
       "37                         Dispositifs médicaux   \n",
       "38                                       Autres   \n",
       "39                         Dispositifs médicaux   \n",
       "40                                       Autres   \n",
       "41                                       Autres   \n",
       "42                          Médicaments humains   \n",
       "43  Dispositifs médicaux de diagnostic in vitro   \n",
       "44                         Dispositifs médicaux   \n",
       "45                         Dispositifs médicaux   \n",
       "46                        Prestataires associés   \n",
       "47                                       Autres   \n",
       "48                         Dispositifs médicaux   \n",
       "49                         Dispositifs médicaux   \n",
       "\n",
       "                           denomination_sociale  \\\n",
       "0                             IP Santé domicile   \n",
       "1                                      SIGVARIS   \n",
       "2   HEALTHCARE COMPLIANCE CONSULTING FRANCE SAS   \n",
       "3                                  ISIS DIABETE   \n",
       "4                                     CREAFIRST   \n",
       "5                         Nobel Biocare USA LLC   \n",
       "6                              Cook France SARL   \n",
       "7                                   EYETECHCARE   \n",
       "8                                Ipsos Observer   \n",
       "9                                  BIOMET CHINA   \n",
       "10                             Theravance, Inc.   \n",
       "11                                     DUX B.V.   \n",
       "12                           Biomet Japan, Inc.   \n",
       "13          WELLSPECT HEALTHCARE/DENTSPLY IH AB   \n",
       "14                                   alveol'air   \n",
       "15                              SNC LCA de NICE   \n",
       "16                  SA CERP BRETAGNE ATLANTIQUE   \n",
       "17                               OPTIQUE E'CAUX   \n",
       "18                                       INFECO   \n",
       "19                                  perkinElmer   \n",
       "20                        AUDITION REMI LAMOINE   \n",
       "21                               K. PARTICULIER   \n",
       "22                               TRANSYSTEME SN   \n",
       "23                                       ONIRIS   \n",
       "24                               Carvadys S.A.S   \n",
       "25                                      ALPHEGA   \n",
       "26                    REGULUS THERAPEUTICS INC.   \n",
       "27                               Genen-Tech Inc   \n",
       "28                                TRB CHEMEDICA   \n",
       "29                                L&L Rsourcing   \n",
       "30                   NOBEL BIOCARE ITALIANA SRL   \n",
       "31                               TEOXANE FRANCE   \n",
       "32                                CORSE OXYGENE   \n",
       "33                          SARL AUNIS AUDITION   \n",
       "34              rc - research & consulting GmbH   \n",
       "35                                     ONCommit   \n",
       "36                      Ultradent Products GmbH   \n",
       "37                          Ophtalmic Compagnie   \n",
       "38                      SARL AUDITION AQUITAINE   \n",
       "39                               DENTSPLY IH AB   \n",
       "40                           AUDITION OUTRE MER   \n",
       "41                      SARL LABORATOIRE DUPONT   \n",
       "42                                 ALMIRALL SAS   \n",
       "43        Roche Products (Pty) Ltd South Africa   \n",
       "44                      KCI EUROPE HOLDING B.V.   \n",
       "45                               Dominique TATE   \n",
       "46                         CLIN DATA MANAGEMENT   \n",
       "47                                     STATESIA   \n",
       "48                           DOMISANTE PROXIMED   \n",
       "49                           ALPHATEC SPINE INC   \n",
       "\n",
       "                             adresse_1                           adresse_2  \\\n",
       "0               16 Rue de Montbrillant                Buroparc Rive Gauche   \n",
       "1                  ZI SUD D'ANDREZIEUX                   RUE B. THIMONNIER   \n",
       "2               47 BOULEVARD CHARLES V                                       \n",
       "3      10-16 RUE DU COLONEL ROL TANGUY                 ZAC DU BOIS MOUSSAY   \n",
       "4                       8 Rue de l'Est                                       \n",
       "5                  800 Corporate Drive                                       \n",
       "6              2 Rue due Nouveau Bercy                                       \n",
       "7              2871 Avenue de l'Europe                                       \n",
       "8               35 rue du Val de Marne                                       \n",
       "9              Suite 07-09, 25th Floor                   LanSheng Building   \n",
       "10               901 Gateway Boulevard                                       \n",
       "11                        Zonnebaan 14                                       \n",
       "12                         1-5-9 Shiba  Sumitoma Fudosan Shiba Bldg. No. 2   \n",
       "13                        AMINOGATAN 1                                       \n",
       "14             5 rue etienne collombet                                       \n",
       "15                   AUDITION CONSEIL              68, Avenue Jean Médecin   \n",
       "16                     ZIL Rue Chaptal                                       \n",
       "17  14 bis avenue micheline Ostermeyer                                       \n",
       "18                   61 rue de Neuilly                                       \n",
       "19                     16 Av du Québec                             Bat Lys   \n",
       "20              37, Bd Général Leclerc                                       \n",
       "21                  37 rue des Acacias                                       \n",
       "22           217 rue Charles Nungesser                Le Mas des Cavaliers   \n",
       "23           704 avenue Roger Salengro                                       \n",
       "24         97 allée Alexandre Borodine                       Parc Woodclub   \n",
       "25               222, Rue des Caboeufs                                       \n",
       "26             3545 John Hopkins Court                           Suite 210   \n",
       "27                           1 DNA Way                                       \n",
       "28                  37 RUE RENE CASSIN                   ZAC LA CHATELAINE   \n",
       "29                       33 Lewis road                            welling    \n",
       "30  ENERGY PARK Building 03 - Lato Sud                  Via Energy Park, 6   \n",
       "31            25 Boulevard Malesherbes                                       \n",
       "32                        ZA PURETTONE                              LOT 28   \n",
       "33            70 RUE DE LA REPUBLIQUE                                        \n",
       "34                         Mauerstr. 8                                       \n",
       "35            Avenue des Baumettes, 11                                       \n",
       "36                 5 chemin des Jubins                                       \n",
       "37                    ZA Paris NORD II               22 Avenue des Nations   \n",
       "38                34 ROUTE DE TOULOUSE                                       \n",
       "39                        Aminogatan 1                              box 14   \n",
       "40                   1 Chemin cachalot                                       \n",
       "41               48 Rue Nicolas Oresme                                       \n",
       "42                 1, Boulevard VICTOR                Immeuble \"Le Barjac\"   \n",
       "43                      P O Box 55922                                        \n",
       "44                          DUITKOOT 1                                       \n",
       "45                   30 RUE BEAUSEJOUR                                       \n",
       "46                    15 rue d'Alsace                                  ZI    \n",
       "47          19-21 RUE THALES DE MILET                                        \n",
       "48             9 AVENUE DE LA VERTONNE                                       \n",
       "49                 5818 El Camino Real                          Californie   \n",
       "\n",
       "                 adresse_3            adresse_4 code_postal  \\\n",
       "0                                                     69003   \n",
       "1                                                     42173   \n",
       "2                                                     14600   \n",
       "3                                                     93240   \n",
       "4                                                     92100   \n",
       "5                                                     07430   \n",
       "6                                                     94227   \n",
       "7                                                     69140   \n",
       "8                                                     75013   \n",
       "9   2-8 HuaiHai Road (Mid)                           200021   \n",
       "10                                                    94080   \n",
       "11                                                   3542EC   \n",
       "12            8F Minato-ku                          1050014   \n",
       "13                                                   431 53   \n",
       "14                                                    31470   \n",
       "15                                                    06000   \n",
       "16                                                    22000   \n",
       "17                                                    76190   \n",
       "18                                                    92110   \n",
       "19                                                    91140   \n",
       "20                                                    33120   \n",
       "21                                                    75017   \n",
       "22                                                    34130   \n",
       "23                                                    92370   \n",
       "24                                                    69800   \n",
       "25                                                    92230   \n",
       "26            CA92121-1121                         CA 92121   \n",
       "27                                                    94080   \n",
       "28                                                    74240   \n",
       "29                    kent                          da161sd   \n",
       "30                                                    20871   \n",
       "31                                                    75008   \n",
       "32                                                    20290   \n",
       "33                                                    17300   \n",
       "34                                                    33602   \n",
       "35                                                     1020   \n",
       "36                                                    69570   \n",
       "37  Immeuble \"Le Rousseau\"  BP 55306 Villepinte      95940    \n",
       "38                                                    33800   \n",
       "39                                                   431 21   \n",
       "40                                                    97410   \n",
       "41                                                    14000   \n",
       "42                                                    75015   \n",
       "43                                                   2116     \n",
       "44                                                  3990 GA   \n",
       "45                                                    03700   \n",
       "46                                                    68250   \n",
       "47                                                    72000   \n",
       "48                                                    44120   \n",
       "49                                                    92008   \n",
       "\n",
       "                             ville  \n",
       "0                             LYON  \n",
       "1   SAINT-JUST SAINT-RAMBERT CEDEX  \n",
       "2                         HONFLEUR  \n",
       "3                           STAINS  \n",
       "4             BOULOGNE BILLANCOURT  \n",
       "5                           MAHWAH  \n",
       "6          Charenton Le Pont Cedex  \n",
       "7                 RILLIEUX-LA-PAPE  \n",
       "8                            Paris  \n",
       "9                         Shanghai  \n",
       "10             South San Francisco  \n",
       "11                         Utrecht  \n",
       "12                           Tokyo  \n",
       "13                         MÖLNDAL  \n",
       "14                       fonsorbes  \n",
       "15                            Nice  \n",
       "16                    SAINT-BRIEUC  \n",
       "17                          Yvetot  \n",
       "18                          Clichy  \n",
       "19             Villebon sur Yvette  \n",
       "20                        ARCACHON  \n",
       "21                           PARIS  \n",
       "22                         MAUGUIO  \n",
       "23                        Chaville  \n",
       "24                    Saint Priest  \n",
       "25                   gennevilliers  \n",
       "26                       SAN DIEGO  \n",
       "27             South San Francisco  \n",
       "28                        GAILLARD  \n",
       "29                         Welling  \n",
       "30                       Vimercate  \n",
       "31                           Paris  \n",
       "32                           BORGO  \n",
       "33                       ROCHEFORT  \n",
       "34                       Bielefeld  \n",
       "35                          Renens  \n",
       "36                        DARDILLY  \n",
       "37                Roissy CDG CEDEX  \n",
       "38                        BORDEAUX  \n",
       "39                         MÖLNDAL  \n",
       "40                    SAINT PIERRE  \n",
       "41                            CAEN  \n",
       "42                           PARIS  \n",
       "43                     Northlands   \n",
       "44                          HOUTON  \n",
       "45           BELLERIVE SUR ALLIER   \n",
       "46                        ROUFFACH  \n",
       "47                         LE MANS  \n",
       "48                          VERTOU  \n",
       "49                        Carlsbad  "
      ]
     },
     "execution_count": 6,
     "metadata": {},
     "output_type": "execute_result"
    }
   ],
   "source": [
    "entreprise.head(50)"
   ]
  },
  {
   "cell_type": "markdown",
   "metadata": {},
   "source": [
    "### Un essqi pour join les deux tables avantage, remuneration"
   ]
  },
  {
   "cell_type": "code",
   "execution_count": 6,
   "metadata": {},
   "outputs": [],
   "source": [
    "result = pd.merge ( avantageSample , remunerationSample ,how='inner',on = ['entreprise_identifiant','ligne_identifiant' ])"
   ]
  },
  {
   "cell_type": "code",
   "execution_count": 7,
   "metadata": {},
   "outputs": [
    {
     "data": {
      "text/html": [
       "<div>\n",
       "<style scoped>\n",
       "    .dataframe tbody tr th:only-of-type {\n",
       "        vertical-align: middle;\n",
       "    }\n",
       "\n",
       "    .dataframe tbody tr th {\n",
       "        vertical-align: top;\n",
       "    }\n",
       "\n",
       "    .dataframe thead th {\n",
       "        text-align: right;\n",
       "    }\n",
       "</style>\n",
       "<table border=\"1\" class=\"dataframe\">\n",
       "  <thead>\n",
       "    <tr style=\"text-align: right;\">\n",
       "      <th></th>\n",
       "      <th>entreprise_identifiant</th>\n",
       "      <th>denomination_sociale_x</th>\n",
       "      <th>ligne_identifiant</th>\n",
       "      <th>ligne_rectification_x</th>\n",
       "      <th>categorie_x</th>\n",
       "      <th>benef_nom_x</th>\n",
       "      <th>benef_prenom_x</th>\n",
       "      <th>qualite_x</th>\n",
       "      <th>benef_codepostal_x</th>\n",
       "      <th>benef_ville_x</th>\n",
       "      <th>...</th>\n",
       "      <th>benef_identifiant_valeur_y</th>\n",
       "      <th>benef_etablissement_y</th>\n",
       "      <th>benef_etablissement_codepostal_y</th>\n",
       "      <th>benef_etablissement_ville_y</th>\n",
       "      <th>benef_denomination_sociale_y</th>\n",
       "      <th>benef_objet_social_y</th>\n",
       "      <th>ligne_type_y</th>\n",
       "      <th>remu_date</th>\n",
       "      <th>remu_montant_ttc</th>\n",
       "      <th>remu_convention_liee</th>\n",
       "    </tr>\n",
       "  </thead>\n",
       "  <tbody>\n",
       "  </tbody>\n",
       "</table>\n",
       "<p>0 rows × 48 columns</p>\n",
       "</div>"
      ],
      "text/plain": [
       "Empty DataFrame\n",
       "Columns: [entreprise_identifiant, denomination_sociale_x, ligne_identifiant, ligne_rectification_x, categorie_x, benef_nom_x, benef_prenom_x, qualite_x, benef_codepostal_x, benef_ville_x, pays_x, benef_titre_libelle_x, benef_specialite_libelle_x, identifiant_type_x, benef_identifiant_valeur_x, benef_etablissement_x, benef_etablissement_codepostal_x, benef_etablissement_ville_x, benef_denomination_sociale_x, benef_objet_social_x, ligne_type_x, avant_date_signature, avant_montant_ttc, avant_nature, avant_convention_lie, semestre, denomination_sociale_y, ligne_rectification_y, categorie_y, benef_nom_y, benef_prenom_y, qualite_y, benef_codepostal_y, benef_ville_y, pays_y, benef_titre_libelle_y, benef_specialite_libelle_y, identifiant_type_y, benef_identifiant_valeur_y, benef_etablissement_y, benef_etablissement_codepostal_y, benef_etablissement_ville_y, benef_denomination_sociale_y, benef_objet_social_y, ligne_type_y, remu_date, remu_montant_ttc, remu_convention_liee]\n",
       "Index: []\n",
       "\n",
       "[0 rows x 48 columns]"
      ]
     },
     "execution_count": 7,
     "metadata": {},
     "output_type": "execute_result"
    }
   ],
   "source": [
    "result.head(100)"
   ]
  },
  {
   "cell_type": "markdown",
   "metadata": {},
   "source": [
    "# Basic statistique tests"
   ]
  },
  {
   "cell_type": "markdown",
   "metadata": {},
   "source": [
    "### 1. Calcul sur les samples (avantage, remuneration)\n",
    "      On calcul le moyenne et le variance sur le column 'montant_ttc' dans les deux samples: avantage, remuneration. "
   ]
  },
  {
   "cell_type": "code",
   "execution_count": 8,
   "metadata": {},
   "outputs": [
    {
     "data": {
      "text/plain": [
       "141.90759729237672"
      ]
     },
     "execution_count": 8,
     "metadata": {},
     "output_type": "execute_result"
    }
   ],
   "source": [
    "avantageSample['avant_montant_ttc'].mean()"
   ]
  },
  {
   "cell_type": "code",
   "execution_count": 9,
   "metadata": {},
   "outputs": [
    {
     "data": {
      "text/plain": [
       "2614.0841062141385"
      ]
     },
     "execution_count": 9,
     "metadata": {},
     "output_type": "execute_result"
    }
   ],
   "source": [
    "avantageSample.loc[:,'avant_montant_ttc'].std()"
   ]
  },
  {
   "cell_type": "code",
   "execution_count": 10,
   "metadata": {},
   "outputs": [
    {
     "data": {
      "text/plain": [
       "6833435.714361371"
      ]
     },
     "execution_count": 10,
     "metadata": {},
     "output_type": "execute_result"
    }
   ],
   "source": [
    "avantageSample.loc[:,'avant_montant_ttc'].var()"
   ]
  },
  {
   "cell_type": "code",
   "execution_count": 109,
   "metadata": {},
   "outputs": [
    {
     "data": {
      "text/plain": [
       "2824322"
      ]
     },
     "execution_count": 109,
     "metadata": {},
     "output_type": "execute_result"
    }
   ],
   "source": [
    "len(avantageSample)"
   ]
  },
  {
   "cell_type": "code",
   "execution_count": 11,
   "metadata": {},
   "outputs": [
    {
     "data": {
      "text/plain": [
       "5227.276655126122"
      ]
     },
     "execution_count": 11,
     "metadata": {},
     "output_type": "execute_result"
    }
   ],
   "source": [
    "remunerationSample['remu_montant_ttc'].mean()"
   ]
  },
  {
   "cell_type": "code",
   "execution_count": 12,
   "metadata": {},
   "outputs": [
    {
     "data": {
      "text/plain": [
       "39773.13566327895"
      ]
     },
     "execution_count": 12,
     "metadata": {},
     "output_type": "execute_result"
    }
   ],
   "source": [
    "remunerationSample.loc[:,'remu_montant_ttc'].std()"
   ]
  },
  {
   "cell_type": "code",
   "execution_count": 102,
   "metadata": {},
   "outputs": [
    {
     "data": {
      "text/plain": [
       "1581902320.4895914"
      ]
     },
     "execution_count": 102,
     "metadata": {},
     "output_type": "execute_result"
    }
   ],
   "source": [
    "remunerationSample.loc[:,'remu_montant_ttc'].var()"
   ]
  },
  {
   "cell_type": "code",
   "execution_count": 111,
   "metadata": {},
   "outputs": [
    {
     "data": {
      "text/plain": [
       "113224"
      ]
     },
     "execution_count": 111,
     "metadata": {},
     "output_type": "execute_result"
    }
   ],
   "source": [
    "len(remunerationSample)"
   ]
  },
  {
   "cell_type": "markdown",
   "metadata": {},
   "source": [
    "### 2. First try with SQL\n",
    "      Group the companys by thier sectur"
   ]
  },
  {
   "cell_type": "code",
   "execution_count": 13,
   "metadata": {},
   "outputs": [],
   "source": [
    "from pandasql import sqldf"
   ]
  },
  {
   "cell_type": "code",
   "execution_count": 14,
   "metadata": {
    "scrolled": true
   },
   "outputs": [
    {
     "name": "stdout",
     "output_type": "stream",
     "text": [
      "   identifiant pays_code        pays secteur_activite_code  \\\n",
      "0     QBSTAWWV      [FR]      FRANCE                  [PA]   \n",
      "1     MQKQLNIC      [FR]      FRANCE                  [DM]   \n",
      "2     OETEUQSP      [FR]      FRANCE                 [AUT]   \n",
      "3     GXIVOHBB      [FR]      FRANCE                  [PA]   \n",
      "4     ZQKPAZKB      [FR]      FRANCE                  [PA]   \n",
      "5     GEJLGPVD      [US]  ÉTATS-UNIS                  [DM]   \n",
      "6     XSQKIAGK      [FR]      FRANCE                  [DM]   \n",
      "7     ARHHJTWT      [FR]      FRANCE                  [DM]   \n",
      "8     OLTROGGG      [FR]      FRANCE                  [PA]   \n",
      "9     TGCRFPAO      [CN]       CHINE                  [DM]   \n",
      "10    PGDDOEMD      [US]  ÉTATS-UNIS                 [MED]   \n",
      "11    GPTSZMKD      [NL]    PAYS-BAS                  [DM]   \n",
      "12    UVECCGEX      [JP]       JAPON                  [DM]   \n",
      "13    RKYUBDPV      [SE]       SUÈDE                  [DM]   \n",
      "14    GZEIBCDO      [FR]      FRANCE                  [PA]   \n",
      "15    BQBMXSNR      [FR]      FRANCE                  [DM]   \n",
      "16    CHJDYNZB      [FR]      FRANCE                 [MED]   \n",
      "17    FRHGRMDB      [FR]      FRANCE                  [DM]   \n",
      "18    GKXRBQRJ      [FR]      FRANCE                  [PA]   \n",
      "19    HPXSEHWQ      [FR]      FRANCE               [DMDIV]   \n",
      "\n",
      "                                        secteur  \\\n",
      "0                         Prestataires associés   \n",
      "1                          Dispositifs médicaux   \n",
      "2                                        Autres   \n",
      "3                         Prestataires associés   \n",
      "4                         Prestataires associés   \n",
      "5                          Dispositifs médicaux   \n",
      "6                          Dispositifs médicaux   \n",
      "7                          Dispositifs médicaux   \n",
      "8                         Prestataires associés   \n",
      "9                          Dispositifs médicaux   \n",
      "10                          Médicaments humains   \n",
      "11                         Dispositifs médicaux   \n",
      "12                         Dispositifs médicaux   \n",
      "13                         Dispositifs médicaux   \n",
      "14                        Prestataires associés   \n",
      "15                         Dispositifs médicaux   \n",
      "16                          Médicaments humains   \n",
      "17                         Dispositifs médicaux   \n",
      "18                        Prestataires associés   \n",
      "19  Dispositifs médicaux de diagnostic in vitro   \n",
      "\n",
      "                           denomination_sociale  \\\n",
      "0                             IP Santé domicile   \n",
      "1                                      SIGVARIS   \n",
      "2   HEALTHCARE COMPLIANCE CONSULTING FRANCE SAS   \n",
      "3                                  ISIS DIABETE   \n",
      "4                                     CREAFIRST   \n",
      "5                         Nobel Biocare USA LLC   \n",
      "6                              Cook France SARL   \n",
      "7                                   EYETECHCARE   \n",
      "8                                Ipsos Observer   \n",
      "9                                  BIOMET CHINA   \n",
      "10                             Theravance, Inc.   \n",
      "11                                     DUX B.V.   \n",
      "12                           Biomet Japan, Inc.   \n",
      "13          WELLSPECT HEALTHCARE/DENTSPLY IH AB   \n",
      "14                                   alveol'air   \n",
      "15                              SNC LCA de NICE   \n",
      "16                  SA CERP BRETAGNE ATLANTIQUE   \n",
      "17                               OPTIQUE E'CAUX   \n",
      "18                                       INFECO   \n",
      "19                                  perkinElmer   \n",
      "\n",
      "                             adresse_1                           adresse_2  \\\n",
      "0               16 Rue de Montbrillant                Buroparc Rive Gauche   \n",
      "1                  ZI SUD D'ANDREZIEUX                   RUE B. THIMONNIER   \n",
      "2               47 BOULEVARD CHARLES V                                       \n",
      "3      10-16 RUE DU COLONEL ROL TANGUY                 ZAC DU BOIS MOUSSAY   \n",
      "4                       8 Rue de l'Est                                       \n",
      "5                  800 Corporate Drive                                       \n",
      "6              2 Rue due Nouveau Bercy                                       \n",
      "7              2871 Avenue de l'Europe                                       \n",
      "8               35 rue du Val de Marne                                       \n",
      "9              Suite 07-09, 25th Floor                   LanSheng Building   \n",
      "10               901 Gateway Boulevard                                       \n",
      "11                        Zonnebaan 14                                       \n",
      "12                         1-5-9 Shiba  Sumitoma Fudosan Shiba Bldg. No. 2   \n",
      "13                        AMINOGATAN 1                                       \n",
      "14             5 rue etienne collombet                                       \n",
      "15                   AUDITION CONSEIL              68, Avenue Jean Médecin   \n",
      "16                     ZIL Rue Chaptal                                       \n",
      "17  14 bis avenue micheline Ostermeyer                                       \n",
      "18                   61 rue de Neuilly                                       \n",
      "19                     16 Av du Québec                             Bat Lys   \n",
      "\n",
      "                 adresse_3 adresse_4 code_postal  \\\n",
      "0                                          69003   \n",
      "1                                          42173   \n",
      "2                                          14600   \n",
      "3                                          93240   \n",
      "4                                          92100   \n",
      "5                                          07430   \n",
      "6                                          94227   \n",
      "7                                          69140   \n",
      "8                                          75013   \n",
      "9   2-8 HuaiHai Road (Mid)                200021   \n",
      "10                                         94080   \n",
      "11                                        3542EC   \n",
      "12            8F Minato-ku               1050014   \n",
      "13                                        431 53   \n",
      "14                                         31470   \n",
      "15                                         06000   \n",
      "16                                         22000   \n",
      "17                                         76190   \n",
      "18                                         92110   \n",
      "19                                         91140   \n",
      "\n",
      "                             ville  \n",
      "0                             LYON  \n",
      "1   SAINT-JUST SAINT-RAMBERT CEDEX  \n",
      "2                         HONFLEUR  \n",
      "3                           STAINS  \n",
      "4             BOULOGNE BILLANCOURT  \n",
      "5                           MAHWAH  \n",
      "6          Charenton Le Pont Cedex  \n",
      "7                 RILLIEUX-LA-PAPE  \n",
      "8                            Paris  \n",
      "9                         Shanghai  \n",
      "10             South San Francisco  \n",
      "11                         Utrecht  \n",
      "12                           Tokyo  \n",
      "13                         MÖLNDAL  \n",
      "14                       fonsorbes  \n",
      "15                            Nice  \n",
      "16                    SAINT-BRIEUC  \n",
      "17                          Yvetot  \n",
      "18                          Clichy  \n",
      "19             Villebon sur Yvette  \n"
     ]
    }
   ],
   "source": [
    "#pysqldf=lambda q:sqldf(q,locals())\n",
    "select1=sqldf(\"select * from entreprise limit 20;\")\n",
    "print(select1)"
   ]
  },
  {
   "cell_type": "code",
   "execution_count": 16,
   "metadata": {},
   "outputs": [
    {
     "name": "stdout",
     "output_type": "stream",
     "text": [
      "True\n"
     ]
    }
   ],
   "source": [
    "resultEntriprise=sqldf(\"select count(denomination_sociale) as nombre ,secteur from entreprise group by secteur\")\n",
    "print(type(resultEntriprise) is pd.DataFrame)"
   ]
  },
  {
   "cell_type": "markdown",
   "metadata": {},
   "source": [
    "### 3. Statistique discriptive sur le sample 'avantage'"
   ]
  },
  {
   "cell_type": "markdown",
   "metadata": {},
   "source": [
    "#### 3.1 Rémunération reçue par catégorie de bénéficiaire"
   ]
  },
  {
   "cell_type": "code",
   "execution_count": 15,
   "metadata": {},
   "outputs": [],
   "source": [
    "avantage_recu_benef=pd.DataFrame(avantageSample.groupby(\"categorie\")[\"avant_montant_ttc\"].sum())"
   ]
  },
  {
   "cell_type": "code",
   "execution_count": 23,
   "metadata": {},
   "outputs": [],
   "source": [
    "avantage_recu_benef=avantage_recu_benef.sort_values(['avant_montant_ttc'],ascending=False)"
   ]
  },
  {
   "cell_type": "code",
   "execution_count": 24,
   "metadata": {},
   "outputs": [],
   "source": [
    "import plotly.express as px"
   ]
  },
  {
   "cell_type": "code",
   "execution_count": 27,
   "metadata": {},
   "outputs": [
    {
     "data": {
      "application/vnd.plotly.v1+json": {
       "config": {
        "plotlyServerURL": "https://plot.ly"
       },
       "data": [
        {
         "alignmentgroup": "True",
         "hoverlabel": {
          "namelength": 0
         },
         "hovertemplate": "x=%{x}<br>avant_montant_ttc=%{y}",
         "legendgroup": "",
         "marker": {
          "color": "#636efa"
         },
         "name": "",
         "offsetgroup": "",
         "orientation": "v",
         "showlegend": false,
         "textposition": "auto",
         "type": "bar",
         "x": [
          "Professionnel de santé",
          "Association professionnel de santé",
          "Académies, Fondation, sociétés savantes, organismes de conseils",
          "Etablissement de santé",
          "Personnes morales assurant la formation initiale ou continue des professionnels de santé",
          "Presse et média",
          "Etudiant",
          "Association usager de santé",
          "Editeur de logiciel",
          "Vétérinaire",
          "Association d'étudiants",
          "Vétérinaire Personne Morale",
          "Groupement professionels agricoles",
          "Groupement sanitaire"
         ],
         "xaxis": "x",
         "y": [
          263609068,
          33883023,
          31419539,
          29711417,
          14021080,
          10803801,
          7357059,
          7330485,
          1932572,
          680809,
          39560,
          3246,
          837,
          253
         ],
         "yaxis": "y"
        }
       ],
       "layout": {
        "barmode": "relative",
        "legend": {
         "tracegroupgap": 0
        },
        "margin": {
         "t": 60
        },
        "template": {
         "data": {
          "bar": [
           {
            "error_x": {
             "color": "#2a3f5f"
            },
            "error_y": {
             "color": "#2a3f5f"
            },
            "marker": {
             "line": {
              "color": "#E5ECF6",
              "width": 0.5
             }
            },
            "type": "bar"
           }
          ],
          "barpolar": [
           {
            "marker": {
             "line": {
              "color": "#E5ECF6",
              "width": 0.5
             }
            },
            "type": "barpolar"
           }
          ],
          "carpet": [
           {
            "aaxis": {
             "endlinecolor": "#2a3f5f",
             "gridcolor": "white",
             "linecolor": "white",
             "minorgridcolor": "white",
             "startlinecolor": "#2a3f5f"
            },
            "baxis": {
             "endlinecolor": "#2a3f5f",
             "gridcolor": "white",
             "linecolor": "white",
             "minorgridcolor": "white",
             "startlinecolor": "#2a3f5f"
            },
            "type": "carpet"
           }
          ],
          "choropleth": [
           {
            "colorbar": {
             "outlinewidth": 0,
             "ticks": ""
            },
            "type": "choropleth"
           }
          ],
          "contour": [
           {
            "colorbar": {
             "outlinewidth": 0,
             "ticks": ""
            },
            "colorscale": [
             [
              0,
              "#0d0887"
             ],
             [
              0.1111111111111111,
              "#46039f"
             ],
             [
              0.2222222222222222,
              "#7201a8"
             ],
             [
              0.3333333333333333,
              "#9c179e"
             ],
             [
              0.4444444444444444,
              "#bd3786"
             ],
             [
              0.5555555555555556,
              "#d8576b"
             ],
             [
              0.6666666666666666,
              "#ed7953"
             ],
             [
              0.7777777777777778,
              "#fb9f3a"
             ],
             [
              0.8888888888888888,
              "#fdca26"
             ],
             [
              1,
              "#f0f921"
             ]
            ],
            "type": "contour"
           }
          ],
          "contourcarpet": [
           {
            "colorbar": {
             "outlinewidth": 0,
             "ticks": ""
            },
            "type": "contourcarpet"
           }
          ],
          "heatmap": [
           {
            "colorbar": {
             "outlinewidth": 0,
             "ticks": ""
            },
            "colorscale": [
             [
              0,
              "#0d0887"
             ],
             [
              0.1111111111111111,
              "#46039f"
             ],
             [
              0.2222222222222222,
              "#7201a8"
             ],
             [
              0.3333333333333333,
              "#9c179e"
             ],
             [
              0.4444444444444444,
              "#bd3786"
             ],
             [
              0.5555555555555556,
              "#d8576b"
             ],
             [
              0.6666666666666666,
              "#ed7953"
             ],
             [
              0.7777777777777778,
              "#fb9f3a"
             ],
             [
              0.8888888888888888,
              "#fdca26"
             ],
             [
              1,
              "#f0f921"
             ]
            ],
            "type": "heatmap"
           }
          ],
          "heatmapgl": [
           {
            "colorbar": {
             "outlinewidth": 0,
             "ticks": ""
            },
            "colorscale": [
             [
              0,
              "#0d0887"
             ],
             [
              0.1111111111111111,
              "#46039f"
             ],
             [
              0.2222222222222222,
              "#7201a8"
             ],
             [
              0.3333333333333333,
              "#9c179e"
             ],
             [
              0.4444444444444444,
              "#bd3786"
             ],
             [
              0.5555555555555556,
              "#d8576b"
             ],
             [
              0.6666666666666666,
              "#ed7953"
             ],
             [
              0.7777777777777778,
              "#fb9f3a"
             ],
             [
              0.8888888888888888,
              "#fdca26"
             ],
             [
              1,
              "#f0f921"
             ]
            ],
            "type": "heatmapgl"
           }
          ],
          "histogram": [
           {
            "marker": {
             "colorbar": {
              "outlinewidth": 0,
              "ticks": ""
             }
            },
            "type": "histogram"
           }
          ],
          "histogram2d": [
           {
            "colorbar": {
             "outlinewidth": 0,
             "ticks": ""
            },
            "colorscale": [
             [
              0,
              "#0d0887"
             ],
             [
              0.1111111111111111,
              "#46039f"
             ],
             [
              0.2222222222222222,
              "#7201a8"
             ],
             [
              0.3333333333333333,
              "#9c179e"
             ],
             [
              0.4444444444444444,
              "#bd3786"
             ],
             [
              0.5555555555555556,
              "#d8576b"
             ],
             [
              0.6666666666666666,
              "#ed7953"
             ],
             [
              0.7777777777777778,
              "#fb9f3a"
             ],
             [
              0.8888888888888888,
              "#fdca26"
             ],
             [
              1,
              "#f0f921"
             ]
            ],
            "type": "histogram2d"
           }
          ],
          "histogram2dcontour": [
           {
            "colorbar": {
             "outlinewidth": 0,
             "ticks": ""
            },
            "colorscale": [
             [
              0,
              "#0d0887"
             ],
             [
              0.1111111111111111,
              "#46039f"
             ],
             [
              0.2222222222222222,
              "#7201a8"
             ],
             [
              0.3333333333333333,
              "#9c179e"
             ],
             [
              0.4444444444444444,
              "#bd3786"
             ],
             [
              0.5555555555555556,
              "#d8576b"
             ],
             [
              0.6666666666666666,
              "#ed7953"
             ],
             [
              0.7777777777777778,
              "#fb9f3a"
             ],
             [
              0.8888888888888888,
              "#fdca26"
             ],
             [
              1,
              "#f0f921"
             ]
            ],
            "type": "histogram2dcontour"
           }
          ],
          "mesh3d": [
           {
            "colorbar": {
             "outlinewidth": 0,
             "ticks": ""
            },
            "type": "mesh3d"
           }
          ],
          "parcoords": [
           {
            "line": {
             "colorbar": {
              "outlinewidth": 0,
              "ticks": ""
             }
            },
            "type": "parcoords"
           }
          ],
          "pie": [
           {
            "automargin": true,
            "type": "pie"
           }
          ],
          "scatter": [
           {
            "marker": {
             "colorbar": {
              "outlinewidth": 0,
              "ticks": ""
             }
            },
            "type": "scatter"
           }
          ],
          "scatter3d": [
           {
            "line": {
             "colorbar": {
              "outlinewidth": 0,
              "ticks": ""
             }
            },
            "marker": {
             "colorbar": {
              "outlinewidth": 0,
              "ticks": ""
             }
            },
            "type": "scatter3d"
           }
          ],
          "scattercarpet": [
           {
            "marker": {
             "colorbar": {
              "outlinewidth": 0,
              "ticks": ""
             }
            },
            "type": "scattercarpet"
           }
          ],
          "scattergeo": [
           {
            "marker": {
             "colorbar": {
              "outlinewidth": 0,
              "ticks": ""
             }
            },
            "type": "scattergeo"
           }
          ],
          "scattergl": [
           {
            "marker": {
             "colorbar": {
              "outlinewidth": 0,
              "ticks": ""
             }
            },
            "type": "scattergl"
           }
          ],
          "scattermapbox": [
           {
            "marker": {
             "colorbar": {
              "outlinewidth": 0,
              "ticks": ""
             }
            },
            "type": "scattermapbox"
           }
          ],
          "scatterpolar": [
           {
            "marker": {
             "colorbar": {
              "outlinewidth": 0,
              "ticks": ""
             }
            },
            "type": "scatterpolar"
           }
          ],
          "scatterpolargl": [
           {
            "marker": {
             "colorbar": {
              "outlinewidth": 0,
              "ticks": ""
             }
            },
            "type": "scatterpolargl"
           }
          ],
          "scatterternary": [
           {
            "marker": {
             "colorbar": {
              "outlinewidth": 0,
              "ticks": ""
             }
            },
            "type": "scatterternary"
           }
          ],
          "surface": [
           {
            "colorbar": {
             "outlinewidth": 0,
             "ticks": ""
            },
            "colorscale": [
             [
              0,
              "#0d0887"
             ],
             [
              0.1111111111111111,
              "#46039f"
             ],
             [
              0.2222222222222222,
              "#7201a8"
             ],
             [
              0.3333333333333333,
              "#9c179e"
             ],
             [
              0.4444444444444444,
              "#bd3786"
             ],
             [
              0.5555555555555556,
              "#d8576b"
             ],
             [
              0.6666666666666666,
              "#ed7953"
             ],
             [
              0.7777777777777778,
              "#fb9f3a"
             ],
             [
              0.8888888888888888,
              "#fdca26"
             ],
             [
              1,
              "#f0f921"
             ]
            ],
            "type": "surface"
           }
          ],
          "table": [
           {
            "cells": {
             "fill": {
              "color": "#EBF0F8"
             },
             "line": {
              "color": "white"
             }
            },
            "header": {
             "fill": {
              "color": "#C8D4E3"
             },
             "line": {
              "color": "white"
             }
            },
            "type": "table"
           }
          ]
         },
         "layout": {
          "annotationdefaults": {
           "arrowcolor": "#2a3f5f",
           "arrowhead": 0,
           "arrowwidth": 1
          },
          "coloraxis": {
           "colorbar": {
            "outlinewidth": 0,
            "ticks": ""
           }
          },
          "colorscale": {
           "diverging": [
            [
             0,
             "#8e0152"
            ],
            [
             0.1,
             "#c51b7d"
            ],
            [
             0.2,
             "#de77ae"
            ],
            [
             0.3,
             "#f1b6da"
            ],
            [
             0.4,
             "#fde0ef"
            ],
            [
             0.5,
             "#f7f7f7"
            ],
            [
             0.6,
             "#e6f5d0"
            ],
            [
             0.7,
             "#b8e186"
            ],
            [
             0.8,
             "#7fbc41"
            ],
            [
             0.9,
             "#4d9221"
            ],
            [
             1,
             "#276419"
            ]
           ],
           "sequential": [
            [
             0,
             "#0d0887"
            ],
            [
             0.1111111111111111,
             "#46039f"
            ],
            [
             0.2222222222222222,
             "#7201a8"
            ],
            [
             0.3333333333333333,
             "#9c179e"
            ],
            [
             0.4444444444444444,
             "#bd3786"
            ],
            [
             0.5555555555555556,
             "#d8576b"
            ],
            [
             0.6666666666666666,
             "#ed7953"
            ],
            [
             0.7777777777777778,
             "#fb9f3a"
            ],
            [
             0.8888888888888888,
             "#fdca26"
            ],
            [
             1,
             "#f0f921"
            ]
           ],
           "sequentialminus": [
            [
             0,
             "#0d0887"
            ],
            [
             0.1111111111111111,
             "#46039f"
            ],
            [
             0.2222222222222222,
             "#7201a8"
            ],
            [
             0.3333333333333333,
             "#9c179e"
            ],
            [
             0.4444444444444444,
             "#bd3786"
            ],
            [
             0.5555555555555556,
             "#d8576b"
            ],
            [
             0.6666666666666666,
             "#ed7953"
            ],
            [
             0.7777777777777778,
             "#fb9f3a"
            ],
            [
             0.8888888888888888,
             "#fdca26"
            ],
            [
             1,
             "#f0f921"
            ]
           ]
          },
          "colorway": [
           "#636efa",
           "#EF553B",
           "#00cc96",
           "#ab63fa",
           "#FFA15A",
           "#19d3f3",
           "#FF6692",
           "#B6E880",
           "#FF97FF",
           "#FECB52"
          ],
          "font": {
           "color": "#2a3f5f"
          },
          "geo": {
           "bgcolor": "white",
           "lakecolor": "white",
           "landcolor": "#E5ECF6",
           "showlakes": true,
           "showland": true,
           "subunitcolor": "white"
          },
          "hoverlabel": {
           "align": "left"
          },
          "hovermode": "closest",
          "mapbox": {
           "style": "light"
          },
          "paper_bgcolor": "white",
          "plot_bgcolor": "#E5ECF6",
          "polar": {
           "angularaxis": {
            "gridcolor": "white",
            "linecolor": "white",
            "ticks": ""
           },
           "bgcolor": "#E5ECF6",
           "radialaxis": {
            "gridcolor": "white",
            "linecolor": "white",
            "ticks": ""
           }
          },
          "scene": {
           "xaxis": {
            "backgroundcolor": "#E5ECF6",
            "gridcolor": "white",
            "gridwidth": 2,
            "linecolor": "white",
            "showbackground": true,
            "ticks": "",
            "zerolinecolor": "white"
           },
           "yaxis": {
            "backgroundcolor": "#E5ECF6",
            "gridcolor": "white",
            "gridwidth": 2,
            "linecolor": "white",
            "showbackground": true,
            "ticks": "",
            "zerolinecolor": "white"
           },
           "zaxis": {
            "backgroundcolor": "#E5ECF6",
            "gridcolor": "white",
            "gridwidth": 2,
            "linecolor": "white",
            "showbackground": true,
            "ticks": "",
            "zerolinecolor": "white"
           }
          },
          "shapedefaults": {
           "line": {
            "color": "#2a3f5f"
           }
          },
          "ternary": {
           "aaxis": {
            "gridcolor": "white",
            "linecolor": "white",
            "ticks": ""
           },
           "baxis": {
            "gridcolor": "white",
            "linecolor": "white",
            "ticks": ""
           },
           "bgcolor": "#E5ECF6",
           "caxis": {
            "gridcolor": "white",
            "linecolor": "white",
            "ticks": ""
           }
          },
          "title": {
           "x": 0.05
          },
          "xaxis": {
           "automargin": true,
           "gridcolor": "white",
           "linecolor": "white",
           "ticks": "",
           "title": {
            "standoff": 15
           },
           "zerolinecolor": "white",
           "zerolinewidth": 2
          },
          "yaxis": {
           "automargin": true,
           "gridcolor": "white",
           "linecolor": "white",
           "ticks": "",
           "title": {
            "standoff": 15
           },
           "zerolinecolor": "white",
           "zerolinewidth": 2
          }
         }
        },
        "title": {
         "text": "Rémunération reçue par catégorie de bénéficiaire"
        },
        "xaxis": {
         "anchor": "y",
         "domain": [
          0,
          1
         ],
         "title": {
          "text": "x"
         }
        },
        "yaxis": {
         "anchor": "x",
         "domain": [
          0,
          1
         ],
         "title": {
          "text": "avant_montant_ttc"
         }
        }
       }
      },
      "text/html": [
       "<div>\n",
       "        \n",
       "        \n",
       "            <div id=\"885c9fcf-2d74-4ee4-b7ee-43e259907e63\" class=\"plotly-graph-div\" style=\"height:525px; width:100%;\"></div>\n",
       "            <script type=\"text/javascript\">\n",
       "                require([\"plotly\"], function(Plotly) {\n",
       "                    window.PLOTLYENV=window.PLOTLYENV || {};\n",
       "                    \n",
       "                if (document.getElementById(\"885c9fcf-2d74-4ee4-b7ee-43e259907e63\")) {\n",
       "                    Plotly.newPlot(\n",
       "                        '885c9fcf-2d74-4ee4-b7ee-43e259907e63',\n",
       "                        [{\"alignmentgroup\": \"True\", \"hoverlabel\": {\"namelength\": 0}, \"hovertemplate\": \"x=%{x}<br>avant_montant_ttc=%{y}\", \"legendgroup\": \"\", \"marker\": {\"color\": \"#636efa\"}, \"name\": \"\", \"offsetgroup\": \"\", \"orientation\": \"v\", \"showlegend\": false, \"textposition\": \"auto\", \"type\": \"bar\", \"x\": [\"Professionnel de sant\\u00e9\", \"Association professionnel de sant\\u00e9\", \"Acad\\u00e9mies, Fondation, soci\\u00e9t\\u00e9s savantes, organismes de conseils\", \"Etablissement de sant\\u00e9\", \"Personnes morales assurant la formation initiale ou continue des professionnels de sant\\u00e9\", \"Presse et m\\u00e9dia\", \"Etudiant\", \"Association usager de sant\\u00e9\", \"Editeur de logiciel\", \"V\\u00e9t\\u00e9rinaire\", \"Association d'\\u00e9tudiants\", \"V\\u00e9t\\u00e9rinaire Personne Morale\", \"Groupement professionels agricoles\", \"Groupement sanitaire\"], \"xaxis\": \"x\", \"y\": [263609068, 33883023, 31419539, 29711417, 14021080, 10803801, 7357059, 7330485, 1932572, 680809, 39560, 3246, 837, 253], \"yaxis\": \"y\"}],\n",
       "                        {\"barmode\": \"relative\", \"legend\": {\"tracegroupgap\": 0}, \"margin\": {\"t\": 60}, \"template\": {\"data\": {\"bar\": [{\"error_x\": {\"color\": \"#2a3f5f\"}, \"error_y\": {\"color\": \"#2a3f5f\"}, \"marker\": {\"line\": {\"color\": \"#E5ECF6\", \"width\": 0.5}}, \"type\": \"bar\"}], \"barpolar\": [{\"marker\": {\"line\": {\"color\": \"#E5ECF6\", \"width\": 0.5}}, \"type\": \"barpolar\"}], \"carpet\": [{\"aaxis\": {\"endlinecolor\": \"#2a3f5f\", \"gridcolor\": \"white\", \"linecolor\": \"white\", \"minorgridcolor\": \"white\", \"startlinecolor\": \"#2a3f5f\"}, \"baxis\": {\"endlinecolor\": \"#2a3f5f\", \"gridcolor\": \"white\", \"linecolor\": \"white\", \"minorgridcolor\": \"white\", \"startlinecolor\": \"#2a3f5f\"}, \"type\": \"carpet\"}], \"choropleth\": [{\"colorbar\": {\"outlinewidth\": 0, \"ticks\": \"\"}, \"type\": \"choropleth\"}], \"contour\": [{\"colorbar\": {\"outlinewidth\": 0, \"ticks\": \"\"}, \"colorscale\": [[0.0, \"#0d0887\"], [0.1111111111111111, \"#46039f\"], [0.2222222222222222, \"#7201a8\"], [0.3333333333333333, \"#9c179e\"], [0.4444444444444444, \"#bd3786\"], [0.5555555555555556, \"#d8576b\"], [0.6666666666666666, \"#ed7953\"], [0.7777777777777778, \"#fb9f3a\"], [0.8888888888888888, \"#fdca26\"], [1.0, \"#f0f921\"]], \"type\": \"contour\"}], \"contourcarpet\": [{\"colorbar\": {\"outlinewidth\": 0, \"ticks\": \"\"}, \"type\": \"contourcarpet\"}], \"heatmap\": [{\"colorbar\": {\"outlinewidth\": 0, \"ticks\": \"\"}, \"colorscale\": [[0.0, \"#0d0887\"], [0.1111111111111111, \"#46039f\"], [0.2222222222222222, \"#7201a8\"], [0.3333333333333333, \"#9c179e\"], [0.4444444444444444, \"#bd3786\"], [0.5555555555555556, \"#d8576b\"], [0.6666666666666666, \"#ed7953\"], [0.7777777777777778, \"#fb9f3a\"], [0.8888888888888888, \"#fdca26\"], [1.0, \"#f0f921\"]], \"type\": \"heatmap\"}], \"heatmapgl\": [{\"colorbar\": {\"outlinewidth\": 0, \"ticks\": \"\"}, \"colorscale\": [[0.0, \"#0d0887\"], [0.1111111111111111, \"#46039f\"], [0.2222222222222222, \"#7201a8\"], [0.3333333333333333, \"#9c179e\"], [0.4444444444444444, \"#bd3786\"], [0.5555555555555556, \"#d8576b\"], [0.6666666666666666, \"#ed7953\"], [0.7777777777777778, \"#fb9f3a\"], [0.8888888888888888, \"#fdca26\"], [1.0, \"#f0f921\"]], \"type\": \"heatmapgl\"}], \"histogram\": [{\"marker\": {\"colorbar\": {\"outlinewidth\": 0, \"ticks\": \"\"}}, \"type\": \"histogram\"}], \"histogram2d\": [{\"colorbar\": {\"outlinewidth\": 0, \"ticks\": \"\"}, \"colorscale\": [[0.0, \"#0d0887\"], [0.1111111111111111, \"#46039f\"], [0.2222222222222222, \"#7201a8\"], [0.3333333333333333, \"#9c179e\"], [0.4444444444444444, \"#bd3786\"], [0.5555555555555556, \"#d8576b\"], [0.6666666666666666, \"#ed7953\"], [0.7777777777777778, \"#fb9f3a\"], [0.8888888888888888, \"#fdca26\"], [1.0, \"#f0f921\"]], \"type\": \"histogram2d\"}], \"histogram2dcontour\": [{\"colorbar\": {\"outlinewidth\": 0, \"ticks\": \"\"}, \"colorscale\": [[0.0, \"#0d0887\"], [0.1111111111111111, \"#46039f\"], [0.2222222222222222, \"#7201a8\"], [0.3333333333333333, \"#9c179e\"], [0.4444444444444444, \"#bd3786\"], [0.5555555555555556, \"#d8576b\"], [0.6666666666666666, \"#ed7953\"], [0.7777777777777778, \"#fb9f3a\"], [0.8888888888888888, \"#fdca26\"], [1.0, \"#f0f921\"]], \"type\": \"histogram2dcontour\"}], \"mesh3d\": [{\"colorbar\": {\"outlinewidth\": 0, \"ticks\": \"\"}, \"type\": \"mesh3d\"}], \"parcoords\": [{\"line\": {\"colorbar\": {\"outlinewidth\": 0, \"ticks\": \"\"}}, \"type\": \"parcoords\"}], \"pie\": [{\"automargin\": true, \"type\": \"pie\"}], \"scatter\": [{\"marker\": {\"colorbar\": {\"outlinewidth\": 0, \"ticks\": \"\"}}, \"type\": \"scatter\"}], \"scatter3d\": [{\"line\": {\"colorbar\": {\"outlinewidth\": 0, \"ticks\": \"\"}}, \"marker\": {\"colorbar\": {\"outlinewidth\": 0, \"ticks\": \"\"}}, \"type\": \"scatter3d\"}], \"scattercarpet\": [{\"marker\": {\"colorbar\": {\"outlinewidth\": 0, \"ticks\": \"\"}}, \"type\": \"scattercarpet\"}], \"scattergeo\": [{\"marker\": {\"colorbar\": {\"outlinewidth\": 0, \"ticks\": \"\"}}, \"type\": \"scattergeo\"}], \"scattergl\": [{\"marker\": {\"colorbar\": {\"outlinewidth\": 0, \"ticks\": \"\"}}, \"type\": \"scattergl\"}], \"scattermapbox\": [{\"marker\": {\"colorbar\": {\"outlinewidth\": 0, \"ticks\": \"\"}}, \"type\": \"scattermapbox\"}], \"scatterpolar\": [{\"marker\": {\"colorbar\": {\"outlinewidth\": 0, \"ticks\": \"\"}}, \"type\": \"scatterpolar\"}], \"scatterpolargl\": [{\"marker\": {\"colorbar\": {\"outlinewidth\": 0, \"ticks\": \"\"}}, \"type\": \"scatterpolargl\"}], \"scatterternary\": [{\"marker\": {\"colorbar\": {\"outlinewidth\": 0, \"ticks\": \"\"}}, \"type\": \"scatterternary\"}], \"surface\": [{\"colorbar\": {\"outlinewidth\": 0, \"ticks\": \"\"}, \"colorscale\": [[0.0, \"#0d0887\"], [0.1111111111111111, \"#46039f\"], [0.2222222222222222, \"#7201a8\"], [0.3333333333333333, \"#9c179e\"], [0.4444444444444444, \"#bd3786\"], [0.5555555555555556, \"#d8576b\"], [0.6666666666666666, \"#ed7953\"], [0.7777777777777778, \"#fb9f3a\"], [0.8888888888888888, \"#fdca26\"], [1.0, \"#f0f921\"]], \"type\": \"surface\"}], \"table\": [{\"cells\": {\"fill\": {\"color\": \"#EBF0F8\"}, \"line\": {\"color\": \"white\"}}, \"header\": {\"fill\": {\"color\": \"#C8D4E3\"}, \"line\": {\"color\": \"white\"}}, \"type\": \"table\"}]}, \"layout\": {\"annotationdefaults\": {\"arrowcolor\": \"#2a3f5f\", \"arrowhead\": 0, \"arrowwidth\": 1}, \"coloraxis\": {\"colorbar\": {\"outlinewidth\": 0, \"ticks\": \"\"}}, \"colorscale\": {\"diverging\": [[0, \"#8e0152\"], [0.1, \"#c51b7d\"], [0.2, \"#de77ae\"], [0.3, \"#f1b6da\"], [0.4, \"#fde0ef\"], [0.5, \"#f7f7f7\"], [0.6, \"#e6f5d0\"], [0.7, \"#b8e186\"], [0.8, \"#7fbc41\"], [0.9, \"#4d9221\"], [1, \"#276419\"]], \"sequential\": [[0.0, \"#0d0887\"], [0.1111111111111111, \"#46039f\"], [0.2222222222222222, \"#7201a8\"], [0.3333333333333333, \"#9c179e\"], [0.4444444444444444, \"#bd3786\"], [0.5555555555555556, \"#d8576b\"], [0.6666666666666666, \"#ed7953\"], [0.7777777777777778, \"#fb9f3a\"], [0.8888888888888888, \"#fdca26\"], [1.0, \"#f0f921\"]], \"sequentialminus\": [[0.0, \"#0d0887\"], [0.1111111111111111, \"#46039f\"], [0.2222222222222222, \"#7201a8\"], [0.3333333333333333, \"#9c179e\"], [0.4444444444444444, \"#bd3786\"], [0.5555555555555556, \"#d8576b\"], [0.6666666666666666, \"#ed7953\"], [0.7777777777777778, \"#fb9f3a\"], [0.8888888888888888, \"#fdca26\"], [1.0, \"#f0f921\"]]}, \"colorway\": [\"#636efa\", \"#EF553B\", \"#00cc96\", \"#ab63fa\", \"#FFA15A\", \"#19d3f3\", \"#FF6692\", \"#B6E880\", \"#FF97FF\", \"#FECB52\"], \"font\": {\"color\": \"#2a3f5f\"}, \"geo\": {\"bgcolor\": \"white\", \"lakecolor\": \"white\", \"landcolor\": \"#E5ECF6\", \"showlakes\": true, \"showland\": true, \"subunitcolor\": \"white\"}, \"hoverlabel\": {\"align\": \"left\"}, \"hovermode\": \"closest\", \"mapbox\": {\"style\": \"light\"}, \"paper_bgcolor\": \"white\", \"plot_bgcolor\": \"#E5ECF6\", \"polar\": {\"angularaxis\": {\"gridcolor\": \"white\", \"linecolor\": \"white\", \"ticks\": \"\"}, \"bgcolor\": \"#E5ECF6\", \"radialaxis\": {\"gridcolor\": \"white\", \"linecolor\": \"white\", \"ticks\": \"\"}}, \"scene\": {\"xaxis\": {\"backgroundcolor\": \"#E5ECF6\", \"gridcolor\": \"white\", \"gridwidth\": 2, \"linecolor\": \"white\", \"showbackground\": true, \"ticks\": \"\", \"zerolinecolor\": \"white\"}, \"yaxis\": {\"backgroundcolor\": \"#E5ECF6\", \"gridcolor\": \"white\", \"gridwidth\": 2, \"linecolor\": \"white\", \"showbackground\": true, \"ticks\": \"\", \"zerolinecolor\": \"white\"}, \"zaxis\": {\"backgroundcolor\": \"#E5ECF6\", \"gridcolor\": \"white\", \"gridwidth\": 2, \"linecolor\": \"white\", \"showbackground\": true, \"ticks\": \"\", \"zerolinecolor\": \"white\"}}, \"shapedefaults\": {\"line\": {\"color\": \"#2a3f5f\"}}, \"ternary\": {\"aaxis\": {\"gridcolor\": \"white\", \"linecolor\": \"white\", \"ticks\": \"\"}, \"baxis\": {\"gridcolor\": \"white\", \"linecolor\": \"white\", \"ticks\": \"\"}, \"bgcolor\": \"#E5ECF6\", \"caxis\": {\"gridcolor\": \"white\", \"linecolor\": \"white\", \"ticks\": \"\"}}, \"title\": {\"x\": 0.05}, \"xaxis\": {\"automargin\": true, \"gridcolor\": \"white\", \"linecolor\": \"white\", \"ticks\": \"\", \"title\": {\"standoff\": 15}, \"zerolinecolor\": \"white\", \"zerolinewidth\": 2}, \"yaxis\": {\"automargin\": true, \"gridcolor\": \"white\", \"linecolor\": \"white\", \"ticks\": \"\", \"title\": {\"standoff\": 15}, \"zerolinecolor\": \"white\", \"zerolinewidth\": 2}}}, \"title\": {\"text\": \"R\\u00e9mun\\u00e9ration re\\u00e7ue par cat\\u00e9gorie de b\\u00e9n\\u00e9ficiaire\"}, \"xaxis\": {\"anchor\": \"y\", \"domain\": [0.0, 1.0], \"title\": {\"text\": \"x\"}}, \"yaxis\": {\"anchor\": \"x\", \"domain\": [0.0, 1.0], \"title\": {\"text\": \"avant_montant_ttc\"}}},\n",
       "                        {\"responsive\": true}\n",
       "                    ).then(function(){\n",
       "                            \n",
       "var gd = document.getElementById('885c9fcf-2d74-4ee4-b7ee-43e259907e63');\n",
       "var x = new MutationObserver(function (mutations, observer) {{\n",
       "        var display = window.getComputedStyle(gd).display;\n",
       "        if (!display || display === 'none') {{\n",
       "            console.log([gd, 'removed!']);\n",
       "            Plotly.purge(gd);\n",
       "            observer.disconnect();\n",
       "        }}\n",
       "}});\n",
       "\n",
       "// Listen for the removal of the full notebook cells\n",
       "var notebookContainer = gd.closest('#notebook-container');\n",
       "if (notebookContainer) {{\n",
       "    x.observe(notebookContainer, {childList: true});\n",
       "}}\n",
       "\n",
       "// Listen for the clearing of the current output cell\n",
       "var outputEl = gd.closest('.output');\n",
       "if (outputEl) {{\n",
       "    x.observe(outputEl, {childList: true});\n",
       "}}\n",
       "\n",
       "                        })\n",
       "                };\n",
       "                });\n",
       "            </script>\n",
       "        </div>"
      ]
     },
     "metadata": {},
     "output_type": "display_data"
    }
   ],
   "source": [
    "fig = px.bar(avantage_recu_benef, x=avantage_recu_benef.index, y='avant_montant_ttc')\n",
    "fig.update_layout(title_text='Rémunération reçue par catégorie de bénéficiaire',)\n",
    "fig.show()"
   ]
  },
  {
   "cell_type": "markdown",
   "metadata": {},
   "source": [
    "#### 3.2 Counter la nature d'avantage par catégorie de bénéficiaire"
   ]
  },
  {
   "cell_type": "code",
   "execution_count": 17,
   "metadata": {},
   "outputs": [],
   "source": [
    "avantageSample['avant_nature'] = avantageSample['avant_nature'].str.upper()\n",
    "dic = {'É':'E', 'Ê':'E', '[':'', \n",
    "       ']':'', ': ':'', 'HÃ‰BERGEMENT':'HEBERGEMENT', \n",
    "       'DEJEUNER (REPAS)':'REPAS', 'DEJEUNER':'REPAS', 'DÎNER':'REPAS',\n",
    "       '(':'', 'AUTRE:REPAS':'REPAS', 'AUTRE REPAS':'REPAS',\n",
    "        ')':'', 'REPAS REPAS':'REPAS'}\n",
    "for key, value in dic.items():\n",
    "    avantageSample['avant_nature'] = avantageSample['avant_nature'].str.replace(key, value)"
   ]
  },
  {
   "cell_type": "code",
   "execution_count": 18,
   "metadata": {},
   "outputs": [],
   "source": [
    "avant_nature_recu_benef=pd.DataFrame(avantageSample.groupby([\"categorie\",\"avant_nature\"]).size())"
   ]
  },
  {
   "cell_type": "code",
   "execution_count": 19,
   "metadata": {},
   "outputs": [
    {
     "data": {
      "text/html": [
       "<div>\n",
       "<style scoped>\n",
       "    .dataframe tbody tr th:only-of-type {\n",
       "        vertical-align: middle;\n",
       "    }\n",
       "\n",
       "    .dataframe tbody tr th {\n",
       "        vertical-align: top;\n",
       "    }\n",
       "\n",
       "    .dataframe thead th {\n",
       "        text-align: right;\n",
       "    }\n",
       "</style>\n",
       "<table border=\"1\" class=\"dataframe\">\n",
       "  <thead>\n",
       "    <tr style=\"text-align: right;\">\n",
       "      <th></th>\n",
       "      <th></th>\n",
       "      <th>nombreNature</th>\n",
       "    </tr>\n",
       "    <tr>\n",
       "      <th>categorie</th>\n",
       "      <th>avant_nature</th>\n",
       "      <th></th>\n",
       "    </tr>\n",
       "  </thead>\n",
       "  <tbody>\n",
       "    <tr>\n",
       "      <td rowspan=\"4\" valign=\"top\">Professionnel de santé</td>\n",
       "      <td>REPAS</td>\n",
       "      <td>1675904</td>\n",
       "    </tr>\n",
       "    <tr>\n",
       "      <td>HOSPITALITE</td>\n",
       "      <td>164794</td>\n",
       "    </tr>\n",
       "    <tr>\n",
       "      <td>TRANSPORT</td>\n",
       "      <td>164593</td>\n",
       "    </tr>\n",
       "    <tr>\n",
       "      <td>HEBERGEMENT</td>\n",
       "      <td>144604</td>\n",
       "    </tr>\n",
       "    <tr>\n",
       "      <td>Etudiant</td>\n",
       "      <td>REPAS</td>\n",
       "      <td>107989</td>\n",
       "    </tr>\n",
       "    <tr>\n",
       "      <td rowspan=\"7\" valign=\"top\">Professionnel de santé</td>\n",
       "      <td>AUTREENQUETE</td>\n",
       "      <td>61773</td>\n",
       "    </tr>\n",
       "    <tr>\n",
       "      <td>RESTAURATION</td>\n",
       "      <td>53880</td>\n",
       "    </tr>\n",
       "    <tr>\n",
       "      <td>AUTRE RESTAURATION</td>\n",
       "      <td>44182</td>\n",
       "    </tr>\n",
       "    <tr>\n",
       "      <td>INSCRIPTION</td>\n",
       "      <td>39236</td>\n",
       "    </tr>\n",
       "    <tr>\n",
       "      <td>AUTRE PARTICIPATION EVENEMENT SCIENTIFIQUE</td>\n",
       "      <td>35620</td>\n",
       "    </tr>\n",
       "    <tr>\n",
       "      <td>AUTRE ENQUETE</td>\n",
       "      <td>16126</td>\n",
       "    </tr>\n",
       "    <tr>\n",
       "      <td>AUTRE</td>\n",
       "      <td>15961</td>\n",
       "    </tr>\n",
       "    <tr>\n",
       "      <td>Vétérinaire</td>\n",
       "      <td>REPAS</td>\n",
       "      <td>13217</td>\n",
       "    </tr>\n",
       "    <tr>\n",
       "      <td rowspan=\"9\" valign=\"top\">Professionnel de santé</td>\n",
       "      <td>CADEAUX</td>\n",
       "      <td>11203</td>\n",
       "    </tr>\n",
       "    <tr>\n",
       "      <td>AUTRE FRAIS DE RESTAURATION / RP</td>\n",
       "      <td>10983</td>\n",
       "    </tr>\n",
       "    <tr>\n",
       "      <td>AUTRE INSCRIPTION</td>\n",
       "      <td>8700</td>\n",
       "    </tr>\n",
       "    <tr>\n",
       "      <td>REPAS PROFESSIONNEL</td>\n",
       "      <td>8489</td>\n",
       "    </tr>\n",
       "    <tr>\n",
       "      <td>INVITATIONS</td>\n",
       "      <td>8485</td>\n",
       "    </tr>\n",
       "    <tr>\n",
       "      <td>PARTICIPATION EVENEMENT SCIENTIFIQUE</td>\n",
       "      <td>7967</td>\n",
       "    </tr>\n",
       "    <tr>\n",
       "      <td>REPAS REUNION</td>\n",
       "      <td>7786</td>\n",
       "    </tr>\n",
       "    <tr>\n",
       "      <td>REPAS IMPROMPTU</td>\n",
       "      <td>7429</td>\n",
       "    </tr>\n",
       "    <tr>\n",
       "      <td>AUTRE ENQUETE TELEPHONIQUE</td>\n",
       "      <td>6576</td>\n",
       "    </tr>\n",
       "    <tr>\n",
       "      <td>Etudiant</td>\n",
       "      <td>HOSPITALITE</td>\n",
       "      <td>6344</td>\n",
       "    </tr>\n",
       "    <tr>\n",
       "      <td rowspan=\"6\" valign=\"top\">Professionnel de santé</td>\n",
       "      <td>AUTRE HOSPITALITE</td>\n",
       "      <td>5615</td>\n",
       "    </tr>\n",
       "    <tr>\n",
       "      <td>FRAIS DE BOUCHE</td>\n",
       "      <td>5064</td>\n",
       "    </tr>\n",
       "    <tr>\n",
       "      <td>DONS DE MATERIEL</td>\n",
       "      <td>4891</td>\n",
       "    </tr>\n",
       "    <tr>\n",
       "      <td>AUTRE REMUNERATION</td>\n",
       "      <td>4706</td>\n",
       "    </tr>\n",
       "    <tr>\n",
       "      <td>AUTRE ECHANTILLON</td>\n",
       "      <td>4576</td>\n",
       "    </tr>\n",
       "    <tr>\n",
       "      <td>AUTRE PAUSE</td>\n",
       "      <td>4305</td>\n",
       "    </tr>\n",
       "    <tr>\n",
       "      <td>Etudiant</td>\n",
       "      <td>HEBERGEMENT</td>\n",
       "      <td>4255</td>\n",
       "    </tr>\n",
       "    <tr>\n",
       "      <td>Professionnel de santé</td>\n",
       "      <td>AUTRE HOSPITALITE EVENEMENT SCIENTIFIQUE</td>\n",
       "      <td>4152</td>\n",
       "    </tr>\n",
       "    <tr>\n",
       "      <td>Etudiant</td>\n",
       "      <td>TRANSPORT</td>\n",
       "      <td>3950</td>\n",
       "    </tr>\n",
       "    <tr>\n",
       "      <td rowspan=\"3\" valign=\"top\">Professionnel de santé</td>\n",
       "      <td>INVITATION REPAS</td>\n",
       "      <td>3619</td>\n",
       "    </tr>\n",
       "    <tr>\n",
       "      <td>AUTRESTAFF</td>\n",
       "      <td>2915</td>\n",
       "    </tr>\n",
       "    <tr>\n",
       "      <td>AUTRE INSCRIPTION EVENEMENT SCIENTIFIQUE</td>\n",
       "      <td>2555</td>\n",
       "    </tr>\n",
       "    <tr>\n",
       "      <td>Association professionnel de santé</td>\n",
       "      <td>DONS DE FONCTIONNEMENT</td>\n",
       "      <td>2553</td>\n",
       "    </tr>\n",
       "    <tr>\n",
       "      <td rowspan=\"14\" valign=\"top\">Professionnel de santé</td>\n",
       "      <td>INSCRIPTION EVENEMENT SCIENTIFIQUE</td>\n",
       "      <td>2539</td>\n",
       "    </tr>\n",
       "    <tr>\n",
       "      <td>AUTRE DINER REUNION</td>\n",
       "      <td>2356</td>\n",
       "    </tr>\n",
       "    <tr>\n",
       "      <td>AUTRE:RESTAURATION / BUFFET</td>\n",
       "      <td>2196</td>\n",
       "    </tr>\n",
       "    <tr>\n",
       "      <td>AUTRE FRAIS D'INSCRIPTION CONGRÈS</td>\n",
       "      <td>2092</td>\n",
       "    </tr>\n",
       "    <tr>\n",
       "      <td>AUTRE REMBOURSEMENT DE FRAIS</td>\n",
       "      <td>1955</td>\n",
       "    </tr>\n",
       "    <tr>\n",
       "      <td>HOSPITALITE REUNION PROFESSIONNELLE</td>\n",
       "      <td>1893</td>\n",
       "    </tr>\n",
       "    <tr>\n",
       "      <td>AUTRE RELATIONS NORMALES DE TRAVAIL</td>\n",
       "      <td>1760</td>\n",
       "    </tr>\n",
       "    <tr>\n",
       "      <td>AUTRE FORFAIT</td>\n",
       "      <td>1728</td>\n",
       "    </tr>\n",
       "    <tr>\n",
       "      <td>DONS DE FONCTIONNEMENT</td>\n",
       "      <td>1713</td>\n",
       "    </tr>\n",
       "    <tr>\n",
       "      <td>AUTRE INSCRIPTION CONGRÈS SCIENTIFIQUE</td>\n",
       "      <td>1672</td>\n",
       "    </tr>\n",
       "    <tr>\n",
       "      <td>AUTRE RESTAURATION STAFF</td>\n",
       "      <td>1630</td>\n",
       "    </tr>\n",
       "    <tr>\n",
       "      <td>AUTRE REMBOURSEMENT FRAIS LOGISTIQUE</td>\n",
       "      <td>1582</td>\n",
       "    </tr>\n",
       "    <tr>\n",
       "      <td>HOSPITALITE STAFF</td>\n",
       "      <td>1564</td>\n",
       "    </tr>\n",
       "    <tr>\n",
       "      <td>FRAIS D'HOSPITALITE</td>\n",
       "      <td>1523</td>\n",
       "    </tr>\n",
       "  </tbody>\n",
       "</table>\n",
       "</div>"
      ],
      "text/plain": [
       "                                                                               nombreNature\n",
       "categorie                          avant_nature                                            \n",
       "Professionnel de santé             REPAS                                            1675904\n",
       "                                   HOSPITALITE                                       164794\n",
       "                                   TRANSPORT                                         164593\n",
       "                                   HEBERGEMENT                                       144604\n",
       "Etudiant                           REPAS                                             107989\n",
       "Professionnel de santé             AUTREENQUETE                                       61773\n",
       "                                   RESTAURATION                                       53880\n",
       "                                   AUTRE RESTAURATION                                 44182\n",
       "                                   INSCRIPTION                                        39236\n",
       "                                   AUTRE PARTICIPATION EVENEMENT SCIENTIFIQUE         35620\n",
       "                                   AUTRE ENQUETE                                      16126\n",
       "                                   AUTRE                                              15961\n",
       "Vétérinaire                        REPAS                                              13217\n",
       "Professionnel de santé             CADEAUX                                            11203\n",
       "                                   AUTRE FRAIS DE RESTAURATION / RP                   10983\n",
       "                                   AUTRE INSCRIPTION                                   8700\n",
       "                                   REPAS PROFESSIONNEL                                 8489\n",
       "                                   INVITATIONS                                         8485\n",
       "                                   PARTICIPATION EVENEMENT SCIENTIFIQUE                7967\n",
       "                                   REPAS REUNION                                       7786\n",
       "                                   REPAS IMPROMPTU                                     7429\n",
       "                                   AUTRE ENQUETE TELEPHONIQUE                          6576\n",
       "Etudiant                           HOSPITALITE                                         6344\n",
       "Professionnel de santé             AUTRE HOSPITALITE                                   5615\n",
       "                                   FRAIS DE BOUCHE                                     5064\n",
       "                                   DONS DE MATERIEL                                    4891\n",
       "                                   AUTRE REMUNERATION                                  4706\n",
       "                                   AUTRE ECHANTILLON                                   4576\n",
       "                                   AUTRE PAUSE                                         4305\n",
       "Etudiant                           HEBERGEMENT                                         4255\n",
       "Professionnel de santé             AUTRE HOSPITALITE EVENEMENT SCIENTIFIQUE            4152\n",
       "Etudiant                           TRANSPORT                                           3950\n",
       "Professionnel de santé             INVITATION REPAS                                    3619\n",
       "                                   AUTRESTAFF                                          2915\n",
       "                                   AUTRE INSCRIPTION EVENEMENT SCIENTIFIQUE            2555\n",
       "Association professionnel de santé DONS DE FONCTIONNEMENT                              2553\n",
       "Professionnel de santé             INSCRIPTION EVENEMENT SCIENTIFIQUE                  2539\n",
       "                                   AUTRE DINER REUNION                                 2356\n",
       "                                   AUTRE:RESTAURATION / BUFFET                         2196\n",
       "                                   AUTRE FRAIS D'INSCRIPTION CONGRÈS                   2092\n",
       "                                   AUTRE REMBOURSEMENT DE FRAIS                        1955\n",
       "                                   HOSPITALITE REUNION PROFESSIONNELLE                 1893\n",
       "                                   AUTRE RELATIONS NORMALES DE TRAVAIL                 1760\n",
       "                                   AUTRE FORFAIT                                       1728\n",
       "                                   DONS DE FONCTIONNEMENT                              1713\n",
       "                                   AUTRE INSCRIPTION CONGRÈS SCIENTIFIQUE              1672\n",
       "                                   AUTRE RESTAURATION STAFF                            1630\n",
       "                                   AUTRE REMBOURSEMENT FRAIS LOGISTIQUE                1582\n",
       "                                   HOSPITALITE STAFF                                   1564\n",
       "                                   FRAIS D'HOSPITALITE                                 1523"
      ]
     },
     "execution_count": 19,
     "metadata": {},
     "output_type": "execute_result"
    }
   ],
   "source": [
    "avant_nature_recu_benef.columns=['nombreNature']\n",
    "avant_nature_recu_benef.sort_values('nombreNature',ascending=False).head(50)\n",
    "#avant_nature_recu_benef.info()"
   ]
  },
  {
   "cell_type": "markdown",
   "metadata": {},
   "source": [
    "#### 3.3 Counter les nature d'avantage par qualité de bénéficiaire"
   ]
  },
  {
   "cell_type": "code",
   "execution_count": 20,
   "metadata": {},
   "outputs": [],
   "source": [
    "df2=pd.DataFrame(avantageSample.groupby(\"qualite\")[\"avant_nature\"].count())"
   ]
  },
  {
   "cell_type": "code",
   "execution_count": 33,
   "metadata": {},
   "outputs": [
    {
     "data": {
      "text/html": [
       "<div>\n",
       "<style scoped>\n",
       "    .dataframe tbody tr th:only-of-type {\n",
       "        vertical-align: middle;\n",
       "    }\n",
       "\n",
       "    .dataframe tbody tr th {\n",
       "        vertical-align: top;\n",
       "    }\n",
       "\n",
       "    .dataframe thead th {\n",
       "        text-align: right;\n",
       "    }\n",
       "</style>\n",
       "<table border=\"1\" class=\"dataframe\">\n",
       "  <thead>\n",
       "    <tr style=\"text-align: right;\">\n",
       "      <th></th>\n",
       "      <th>avant_nature</th>\n",
       "    </tr>\n",
       "    <tr>\n",
       "      <th>qualite</th>\n",
       "      <th></th>\n",
       "    </tr>\n",
       "  </thead>\n",
       "  <tbody>\n",
       "    <tr>\n",
       "      <td>Aide soignant</td>\n",
       "      <td>9066</td>\n",
       "    </tr>\n",
       "    <tr>\n",
       "      <td>Ambulancier</td>\n",
       "      <td>98</td>\n",
       "    </tr>\n",
       "    <tr>\n",
       "      <td>Assistant dentaire</td>\n",
       "      <td>380</td>\n",
       "    </tr>\n",
       "    <tr>\n",
       "      <td>Audioprothésiste</td>\n",
       "      <td>14235</td>\n",
       "    </tr>\n",
       "    <tr>\n",
       "      <td>Auxiliaire de puériculture</td>\n",
       "      <td>1269</td>\n",
       "    </tr>\n",
       "    <tr>\n",
       "      <td>Chirurgien-dentiste</td>\n",
       "      <td>37019</td>\n",
       "    </tr>\n",
       "    <tr>\n",
       "      <td>Diététicien</td>\n",
       "      <td>5651</td>\n",
       "    </tr>\n",
       "    <tr>\n",
       "      <td>Editeur de presse</td>\n",
       "      <td>17</td>\n",
       "    </tr>\n",
       "    <tr>\n",
       "      <td>Ergothérapeute</td>\n",
       "      <td>501</td>\n",
       "    </tr>\n",
       "    <tr>\n",
       "      <td>Infirmier</td>\n",
       "      <td>232523</td>\n",
       "    </tr>\n",
       "    <tr>\n",
       "      <td>Manipulateur d’électroradiologie médicale</td>\n",
       "      <td>25713</td>\n",
       "    </tr>\n",
       "    <tr>\n",
       "      <td>Masseur-kinésithérapeute</td>\n",
       "      <td>5255</td>\n",
       "    </tr>\n",
       "    <tr>\n",
       "      <td>Médecin</td>\n",
       "      <td>2014742</td>\n",
       "    </tr>\n",
       "    <tr>\n",
       "      <td>Opticien-lunetier</td>\n",
       "      <td>16920</td>\n",
       "    </tr>\n",
       "    <tr>\n",
       "      <td>Orthophoniste</td>\n",
       "      <td>1122</td>\n",
       "    </tr>\n",
       "    <tr>\n",
       "      <td>Orthoptiste</td>\n",
       "      <td>3495</td>\n",
       "    </tr>\n",
       "    <tr>\n",
       "      <td>Pharmacien</td>\n",
       "      <td>180630</td>\n",
       "    </tr>\n",
       "    <tr>\n",
       "      <td>Physicien médical</td>\n",
       "      <td>417</td>\n",
       "    </tr>\n",
       "    <tr>\n",
       "      <td>Prothésiste et orthésiste pour l’appareillage des personnes handicapées</td>\n",
       "      <td>2505</td>\n",
       "    </tr>\n",
       "    <tr>\n",
       "      <td>Préparateur en pharmacie et préparateur en pharmacie hospitalière</td>\n",
       "      <td>88157</td>\n",
       "    </tr>\n",
       "    <tr>\n",
       "      <td>Psychomotricien</td>\n",
       "      <td>256</td>\n",
       "    </tr>\n",
       "    <tr>\n",
       "      <td>Pédicure-podologue</td>\n",
       "      <td>452</td>\n",
       "    </tr>\n",
       "    <tr>\n",
       "      <td>Sage-femme</td>\n",
       "      <td>10209</td>\n",
       "    </tr>\n",
       "    <tr>\n",
       "      <td>Technicien de laboratoire médical</td>\n",
       "      <td>7712</td>\n",
       "    </tr>\n",
       "  </tbody>\n",
       "</table>\n",
       "</div>"
      ],
      "text/plain": [
       "                                                    avant_nature\n",
       "qualite                                                         \n",
       "Aide soignant                                               9066\n",
       "Ambulancier                                                   98\n",
       "Assistant dentaire                                           380\n",
       "Audioprothésiste                                           14235\n",
       "Auxiliaire de puériculture                                  1269\n",
       "Chirurgien-dentiste                                        37019\n",
       "Diététicien                                                 5651\n",
       "Editeur de presse                                             17\n",
       "Ergothérapeute                                               501\n",
       "Infirmier                                                 232523\n",
       "Manipulateur d’électroradiologie médicale                  25713\n",
       "Masseur-kinésithérapeute                                    5255\n",
       "Médecin                                                  2014742\n",
       "Opticien-lunetier                                          16920\n",
       "Orthophoniste                                               1122\n",
       "Orthoptiste                                                 3495\n",
       "Pharmacien                                                180630\n",
       "Physicien médical                                            417\n",
       "Prothésiste et orthésiste pour l’appareillage d...          2505\n",
       "Préparateur en pharmacie et préparateur en phar...         88157\n",
       "Psychomotricien                                              256\n",
       "Pédicure-podologue                                           452\n",
       "Sage-femme                                                 10209\n",
       "Technicien de laboratoire médical                           7712"
      ]
     },
     "execution_count": 33,
     "metadata": {},
     "output_type": "execute_result"
    }
   ],
   "source": [
    "df2"
   ]
  },
  {
   "cell_type": "code",
   "execution_count": 37,
   "metadata": {},
   "outputs": [],
   "source": [
    "df2['percentage_nature']= df2['avant_nature']/df2['avant_nature'].sum()"
   ]
  },
  {
   "cell_type": "code",
   "execution_count": 46,
   "metadata": {},
   "outputs": [],
   "source": [
    "#df2=df2.drop('perc',axis=1)"
   ]
  },
  {
   "cell_type": "code",
   "execution_count": 21,
   "metadata": {},
   "outputs": [],
   "source": [
    "import plotly.express as px"
   ]
  },
  {
   "cell_type": "code",
   "execution_count": 51,
   "metadata": {},
   "outputs": [
    {
     "data": {
      "application/vnd.plotly.v1+json": {
       "config": {
        "plotlyServerURL": "https://plot.ly"
       },
       "data": [
        {
         "alignmentgroup": "True",
         "hoverlabel": {
          "namelength": 0
         },
         "hovertemplate": "x=%{x}<br>percentage_nature=%{y}",
         "legendgroup": "",
         "marker": {
          "color": "#636efa"
         },
         "name": "",
         "offsetgroup": "",
         "orientation": "v",
         "showlegend": false,
         "textposition": "auto",
         "type": "bar",
         "x": [
          "Aide soignant",
          "Ambulancier",
          "Assistant dentaire",
          "Audioprothésiste",
          "Auxiliaire de puériculture",
          "Chirurgien-dentiste",
          "Diététicien",
          "Editeur de presse",
          "Ergothérapeute",
          "Infirmier",
          "Manipulateur d’électroradiologie médicale",
          "Masseur-kinésithérapeute",
          "Médecin",
          "Opticien-lunetier",
          "Orthophoniste",
          "Orthoptiste",
          "Pharmacien",
          "Physicien médical",
          "Prothésiste et orthésiste pour l’appareillage des personnes handicapées",
          "Préparateur en pharmacie et préparateur en pharmacie hospitalière",
          "Psychomotricien",
          "Pédicure-podologue",
          "Sage-femme",
          "Technicien de laboratoire médical"
         ],
         "xaxis": "x",
         "y": [
          0.003410393839172056,
          3.6865055839274374e-05,
          0.00014294613488698228,
          0.005354837447674191,
          0.00047736485571468556,
          0.013925586756266307,
          0.0021257594953850967,
          6.394958665996575e-06,
          0.00018846319362731084,
          0.08746911611138362,
          0.009672563069339408,
          0.0019767945758712943,
          0.7578936360380748,
          0.006364864742862473,
          0.00042206727195577396,
          0.0013147282669210606,
          0.0679483166964095,
          0.00015686457433650424,
          0.0009423159681365542,
          0.03316237477166236,
          9.63005540291249e-05,
          0.00017003066570767366,
          0.0038403607659505314,
          0.0029010541901273875
         ],
         "yaxis": "y"
        }
       ],
       "layout": {
        "barmode": "relative",
        "height": 600,
        "legend": {
         "tracegroupgap": 0
        },
        "margin": {
         "t": 60
        },
        "template": {
         "data": {
          "bar": [
           {
            "error_x": {
             "color": "#2a3f5f"
            },
            "error_y": {
             "color": "#2a3f5f"
            },
            "marker": {
             "line": {
              "color": "#E5ECF6",
              "width": 0.5
             }
            },
            "type": "bar"
           }
          ],
          "barpolar": [
           {
            "marker": {
             "line": {
              "color": "#E5ECF6",
              "width": 0.5
             }
            },
            "type": "barpolar"
           }
          ],
          "carpet": [
           {
            "aaxis": {
             "endlinecolor": "#2a3f5f",
             "gridcolor": "white",
             "linecolor": "white",
             "minorgridcolor": "white",
             "startlinecolor": "#2a3f5f"
            },
            "baxis": {
             "endlinecolor": "#2a3f5f",
             "gridcolor": "white",
             "linecolor": "white",
             "minorgridcolor": "white",
             "startlinecolor": "#2a3f5f"
            },
            "type": "carpet"
           }
          ],
          "choropleth": [
           {
            "colorbar": {
             "outlinewidth": 0,
             "ticks": ""
            },
            "type": "choropleth"
           }
          ],
          "contour": [
           {
            "colorbar": {
             "outlinewidth": 0,
             "ticks": ""
            },
            "colorscale": [
             [
              0,
              "#0d0887"
             ],
             [
              0.1111111111111111,
              "#46039f"
             ],
             [
              0.2222222222222222,
              "#7201a8"
             ],
             [
              0.3333333333333333,
              "#9c179e"
             ],
             [
              0.4444444444444444,
              "#bd3786"
             ],
             [
              0.5555555555555556,
              "#d8576b"
             ],
             [
              0.6666666666666666,
              "#ed7953"
             ],
             [
              0.7777777777777778,
              "#fb9f3a"
             ],
             [
              0.8888888888888888,
              "#fdca26"
             ],
             [
              1,
              "#f0f921"
             ]
            ],
            "type": "contour"
           }
          ],
          "contourcarpet": [
           {
            "colorbar": {
             "outlinewidth": 0,
             "ticks": ""
            },
            "type": "contourcarpet"
           }
          ],
          "heatmap": [
           {
            "colorbar": {
             "outlinewidth": 0,
             "ticks": ""
            },
            "colorscale": [
             [
              0,
              "#0d0887"
             ],
             [
              0.1111111111111111,
              "#46039f"
             ],
             [
              0.2222222222222222,
              "#7201a8"
             ],
             [
              0.3333333333333333,
              "#9c179e"
             ],
             [
              0.4444444444444444,
              "#bd3786"
             ],
             [
              0.5555555555555556,
              "#d8576b"
             ],
             [
              0.6666666666666666,
              "#ed7953"
             ],
             [
              0.7777777777777778,
              "#fb9f3a"
             ],
             [
              0.8888888888888888,
              "#fdca26"
             ],
             [
              1,
              "#f0f921"
             ]
            ],
            "type": "heatmap"
           }
          ],
          "heatmapgl": [
           {
            "colorbar": {
             "outlinewidth": 0,
             "ticks": ""
            },
            "colorscale": [
             [
              0,
              "#0d0887"
             ],
             [
              0.1111111111111111,
              "#46039f"
             ],
             [
              0.2222222222222222,
              "#7201a8"
             ],
             [
              0.3333333333333333,
              "#9c179e"
             ],
             [
              0.4444444444444444,
              "#bd3786"
             ],
             [
              0.5555555555555556,
              "#d8576b"
             ],
             [
              0.6666666666666666,
              "#ed7953"
             ],
             [
              0.7777777777777778,
              "#fb9f3a"
             ],
             [
              0.8888888888888888,
              "#fdca26"
             ],
             [
              1,
              "#f0f921"
             ]
            ],
            "type": "heatmapgl"
           }
          ],
          "histogram": [
           {
            "marker": {
             "colorbar": {
              "outlinewidth": 0,
              "ticks": ""
             }
            },
            "type": "histogram"
           }
          ],
          "histogram2d": [
           {
            "colorbar": {
             "outlinewidth": 0,
             "ticks": ""
            },
            "colorscale": [
             [
              0,
              "#0d0887"
             ],
             [
              0.1111111111111111,
              "#46039f"
             ],
             [
              0.2222222222222222,
              "#7201a8"
             ],
             [
              0.3333333333333333,
              "#9c179e"
             ],
             [
              0.4444444444444444,
              "#bd3786"
             ],
             [
              0.5555555555555556,
              "#d8576b"
             ],
             [
              0.6666666666666666,
              "#ed7953"
             ],
             [
              0.7777777777777778,
              "#fb9f3a"
             ],
             [
              0.8888888888888888,
              "#fdca26"
             ],
             [
              1,
              "#f0f921"
             ]
            ],
            "type": "histogram2d"
           }
          ],
          "histogram2dcontour": [
           {
            "colorbar": {
             "outlinewidth": 0,
             "ticks": ""
            },
            "colorscale": [
             [
              0,
              "#0d0887"
             ],
             [
              0.1111111111111111,
              "#46039f"
             ],
             [
              0.2222222222222222,
              "#7201a8"
             ],
             [
              0.3333333333333333,
              "#9c179e"
             ],
             [
              0.4444444444444444,
              "#bd3786"
             ],
             [
              0.5555555555555556,
              "#d8576b"
             ],
             [
              0.6666666666666666,
              "#ed7953"
             ],
             [
              0.7777777777777778,
              "#fb9f3a"
             ],
             [
              0.8888888888888888,
              "#fdca26"
             ],
             [
              1,
              "#f0f921"
             ]
            ],
            "type": "histogram2dcontour"
           }
          ],
          "mesh3d": [
           {
            "colorbar": {
             "outlinewidth": 0,
             "ticks": ""
            },
            "type": "mesh3d"
           }
          ],
          "parcoords": [
           {
            "line": {
             "colorbar": {
              "outlinewidth": 0,
              "ticks": ""
             }
            },
            "type": "parcoords"
           }
          ],
          "pie": [
           {
            "automargin": true,
            "type": "pie"
           }
          ],
          "scatter": [
           {
            "marker": {
             "colorbar": {
              "outlinewidth": 0,
              "ticks": ""
             }
            },
            "type": "scatter"
           }
          ],
          "scatter3d": [
           {
            "line": {
             "colorbar": {
              "outlinewidth": 0,
              "ticks": ""
             }
            },
            "marker": {
             "colorbar": {
              "outlinewidth": 0,
              "ticks": ""
             }
            },
            "type": "scatter3d"
           }
          ],
          "scattercarpet": [
           {
            "marker": {
             "colorbar": {
              "outlinewidth": 0,
              "ticks": ""
             }
            },
            "type": "scattercarpet"
           }
          ],
          "scattergeo": [
           {
            "marker": {
             "colorbar": {
              "outlinewidth": 0,
              "ticks": ""
             }
            },
            "type": "scattergeo"
           }
          ],
          "scattergl": [
           {
            "marker": {
             "colorbar": {
              "outlinewidth": 0,
              "ticks": ""
             }
            },
            "type": "scattergl"
           }
          ],
          "scattermapbox": [
           {
            "marker": {
             "colorbar": {
              "outlinewidth": 0,
              "ticks": ""
             }
            },
            "type": "scattermapbox"
           }
          ],
          "scatterpolar": [
           {
            "marker": {
             "colorbar": {
              "outlinewidth": 0,
              "ticks": ""
             }
            },
            "type": "scatterpolar"
           }
          ],
          "scatterpolargl": [
           {
            "marker": {
             "colorbar": {
              "outlinewidth": 0,
              "ticks": ""
             }
            },
            "type": "scatterpolargl"
           }
          ],
          "scatterternary": [
           {
            "marker": {
             "colorbar": {
              "outlinewidth": 0,
              "ticks": ""
             }
            },
            "type": "scatterternary"
           }
          ],
          "surface": [
           {
            "colorbar": {
             "outlinewidth": 0,
             "ticks": ""
            },
            "colorscale": [
             [
              0,
              "#0d0887"
             ],
             [
              0.1111111111111111,
              "#46039f"
             ],
             [
              0.2222222222222222,
              "#7201a8"
             ],
             [
              0.3333333333333333,
              "#9c179e"
             ],
             [
              0.4444444444444444,
              "#bd3786"
             ],
             [
              0.5555555555555556,
              "#d8576b"
             ],
             [
              0.6666666666666666,
              "#ed7953"
             ],
             [
              0.7777777777777778,
              "#fb9f3a"
             ],
             [
              0.8888888888888888,
              "#fdca26"
             ],
             [
              1,
              "#f0f921"
             ]
            ],
            "type": "surface"
           }
          ],
          "table": [
           {
            "cells": {
             "fill": {
              "color": "#EBF0F8"
             },
             "line": {
              "color": "white"
             }
            },
            "header": {
             "fill": {
              "color": "#C8D4E3"
             },
             "line": {
              "color": "white"
             }
            },
            "type": "table"
           }
          ]
         },
         "layout": {
          "annotationdefaults": {
           "arrowcolor": "#2a3f5f",
           "arrowhead": 0,
           "arrowwidth": 1
          },
          "coloraxis": {
           "colorbar": {
            "outlinewidth": 0,
            "ticks": ""
           }
          },
          "colorscale": {
           "diverging": [
            [
             0,
             "#8e0152"
            ],
            [
             0.1,
             "#c51b7d"
            ],
            [
             0.2,
             "#de77ae"
            ],
            [
             0.3,
             "#f1b6da"
            ],
            [
             0.4,
             "#fde0ef"
            ],
            [
             0.5,
             "#f7f7f7"
            ],
            [
             0.6,
             "#e6f5d0"
            ],
            [
             0.7,
             "#b8e186"
            ],
            [
             0.8,
             "#7fbc41"
            ],
            [
             0.9,
             "#4d9221"
            ],
            [
             1,
             "#276419"
            ]
           ],
           "sequential": [
            [
             0,
             "#0d0887"
            ],
            [
             0.1111111111111111,
             "#46039f"
            ],
            [
             0.2222222222222222,
             "#7201a8"
            ],
            [
             0.3333333333333333,
             "#9c179e"
            ],
            [
             0.4444444444444444,
             "#bd3786"
            ],
            [
             0.5555555555555556,
             "#d8576b"
            ],
            [
             0.6666666666666666,
             "#ed7953"
            ],
            [
             0.7777777777777778,
             "#fb9f3a"
            ],
            [
             0.8888888888888888,
             "#fdca26"
            ],
            [
             1,
             "#f0f921"
            ]
           ],
           "sequentialminus": [
            [
             0,
             "#0d0887"
            ],
            [
             0.1111111111111111,
             "#46039f"
            ],
            [
             0.2222222222222222,
             "#7201a8"
            ],
            [
             0.3333333333333333,
             "#9c179e"
            ],
            [
             0.4444444444444444,
             "#bd3786"
            ],
            [
             0.5555555555555556,
             "#d8576b"
            ],
            [
             0.6666666666666666,
             "#ed7953"
            ],
            [
             0.7777777777777778,
             "#fb9f3a"
            ],
            [
             0.8888888888888888,
             "#fdca26"
            ],
            [
             1,
             "#f0f921"
            ]
           ]
          },
          "colorway": [
           "#636efa",
           "#EF553B",
           "#00cc96",
           "#ab63fa",
           "#FFA15A",
           "#19d3f3",
           "#FF6692",
           "#B6E880",
           "#FF97FF",
           "#FECB52"
          ],
          "font": {
           "color": "#2a3f5f"
          },
          "geo": {
           "bgcolor": "white",
           "lakecolor": "white",
           "landcolor": "#E5ECF6",
           "showlakes": true,
           "showland": true,
           "subunitcolor": "white"
          },
          "hoverlabel": {
           "align": "left"
          },
          "hovermode": "closest",
          "mapbox": {
           "style": "light"
          },
          "paper_bgcolor": "white",
          "plot_bgcolor": "#E5ECF6",
          "polar": {
           "angularaxis": {
            "gridcolor": "white",
            "linecolor": "white",
            "ticks": ""
           },
           "bgcolor": "#E5ECF6",
           "radialaxis": {
            "gridcolor": "white",
            "linecolor": "white",
            "ticks": ""
           }
          },
          "scene": {
           "xaxis": {
            "backgroundcolor": "#E5ECF6",
            "gridcolor": "white",
            "gridwidth": 2,
            "linecolor": "white",
            "showbackground": true,
            "ticks": "",
            "zerolinecolor": "white"
           },
           "yaxis": {
            "backgroundcolor": "#E5ECF6",
            "gridcolor": "white",
            "gridwidth": 2,
            "linecolor": "white",
            "showbackground": true,
            "ticks": "",
            "zerolinecolor": "white"
           },
           "zaxis": {
            "backgroundcolor": "#E5ECF6",
            "gridcolor": "white",
            "gridwidth": 2,
            "linecolor": "white",
            "showbackground": true,
            "ticks": "",
            "zerolinecolor": "white"
           }
          },
          "shapedefaults": {
           "line": {
            "color": "#2a3f5f"
           }
          },
          "ternary": {
           "aaxis": {
            "gridcolor": "white",
            "linecolor": "white",
            "ticks": ""
           },
           "baxis": {
            "gridcolor": "white",
            "linecolor": "white",
            "ticks": ""
           },
           "bgcolor": "#E5ECF6",
           "caxis": {
            "gridcolor": "white",
            "linecolor": "white",
            "ticks": ""
           }
          },
          "title": {
           "x": 0.05
          },
          "xaxis": {
           "automargin": true,
           "gridcolor": "white",
           "linecolor": "white",
           "ticks": "",
           "title": {
            "standoff": 15
           },
           "zerolinecolor": "white",
           "zerolinewidth": 2
          },
          "yaxis": {
           "automargin": true,
           "gridcolor": "white",
           "linecolor": "white",
           "ticks": "",
           "title": {
            "standoff": 15
           },
           "zerolinecolor": "white",
           "zerolinewidth": 2
          }
         }
        },
        "title": {
         "text": "Rémunération reçue par catégorie de bénéficiaire"
        },
        "xaxis": {
         "anchor": "y",
         "domain": [
          0,
          1
         ],
         "title": {
          "text": "x"
         }
        },
        "yaxis": {
         "anchor": "x",
         "domain": [
          0,
          1
         ],
         "range": [
          0,
          1
         ],
         "tickformat": ",.0%",
         "title": {
          "text": "percentage_nature"
         }
        }
       }
      },
      "text/html": [
       "<div>\n",
       "        \n",
       "        \n",
       "            <div id=\"c88acae4-1d93-4d1c-a54e-13451c9de4c6\" class=\"plotly-graph-div\" style=\"height:600px; width:100%;\"></div>\n",
       "            <script type=\"text/javascript\">\n",
       "                require([\"plotly\"], function(Plotly) {\n",
       "                    window.PLOTLYENV=window.PLOTLYENV || {};\n",
       "                    \n",
       "                if (document.getElementById(\"c88acae4-1d93-4d1c-a54e-13451c9de4c6\")) {\n",
       "                    Plotly.newPlot(\n",
       "                        'c88acae4-1d93-4d1c-a54e-13451c9de4c6',\n",
       "                        [{\"alignmentgroup\": \"True\", \"hoverlabel\": {\"namelength\": 0}, \"hovertemplate\": \"x=%{x}<br>percentage_nature=%{y}\", \"legendgroup\": \"\", \"marker\": {\"color\": \"#636efa\"}, \"name\": \"\", \"offsetgroup\": \"\", \"orientation\": \"v\", \"showlegend\": false, \"textposition\": \"auto\", \"type\": \"bar\", \"x\": [\"Aide soignant\", \"Ambulancier\", \"Assistant dentaire\", \"Audioproth\\u00e9siste\", \"Auxiliaire de pu\\u00e9riculture\", \"Chirurgien-dentiste\", \"Di\\u00e9t\\u00e9ticien\", \"Editeur de presse\", \"Ergoth\\u00e9rapeute\", \"Infirmier\", \"Manipulateur d\\u2019\\u00e9lectroradiologie m\\u00e9dicale\", \"Masseur-kin\\u00e9sith\\u00e9rapeute\", \"M\\u00e9decin\", \"Opticien-lunetier\", \"Orthophoniste\", \"Orthoptiste\", \"Pharmacien\", \"Physicien m\\u00e9dical\", \"Proth\\u00e9siste et orth\\u00e9siste pour l\\u2019appareillage des personnes handicap\\u00e9es\", \"Pr\\u00e9parateur en pharmacie et pr\\u00e9parateur en pharmacie hospitali\\u00e8re\", \"Psychomotricien\", \"P\\u00e9dicure-podologue\", \"Sage-femme\", \"Technicien de laboratoire m\\u00e9dical\"], \"xaxis\": \"x\", \"y\": [0.003410393839172056, 3.6865055839274374e-05, 0.00014294613488698228, 0.005354837447674191, 0.00047736485571468556, 0.013925586756266307, 0.0021257594953850967, 6.394958665996575e-06, 0.00018846319362731084, 0.08746911611138362, 0.009672563069339408, 0.0019767945758712943, 0.7578936360380748, 0.006364864742862473, 0.00042206727195577396, 0.0013147282669210606, 0.0679483166964095, 0.00015686457433650424, 0.0009423159681365542, 0.03316237477166236, 9.63005540291249e-05, 0.00017003066570767366, 0.0038403607659505314, 0.0029010541901273875], \"yaxis\": \"y\"}],\n",
       "                        {\"barmode\": \"relative\", \"height\": 600, \"legend\": {\"tracegroupgap\": 0}, \"margin\": {\"t\": 60}, \"template\": {\"data\": {\"bar\": [{\"error_x\": {\"color\": \"#2a3f5f\"}, \"error_y\": {\"color\": \"#2a3f5f\"}, \"marker\": {\"line\": {\"color\": \"#E5ECF6\", \"width\": 0.5}}, \"type\": \"bar\"}], \"barpolar\": [{\"marker\": {\"line\": {\"color\": \"#E5ECF6\", \"width\": 0.5}}, \"type\": \"barpolar\"}], \"carpet\": [{\"aaxis\": {\"endlinecolor\": \"#2a3f5f\", \"gridcolor\": \"white\", \"linecolor\": \"white\", \"minorgridcolor\": \"white\", \"startlinecolor\": \"#2a3f5f\"}, \"baxis\": {\"endlinecolor\": \"#2a3f5f\", \"gridcolor\": \"white\", \"linecolor\": \"white\", \"minorgridcolor\": \"white\", \"startlinecolor\": \"#2a3f5f\"}, \"type\": \"carpet\"}], \"choropleth\": [{\"colorbar\": {\"outlinewidth\": 0, \"ticks\": \"\"}, \"type\": \"choropleth\"}], \"contour\": [{\"colorbar\": {\"outlinewidth\": 0, \"ticks\": \"\"}, \"colorscale\": [[0.0, \"#0d0887\"], [0.1111111111111111, \"#46039f\"], [0.2222222222222222, \"#7201a8\"], [0.3333333333333333, \"#9c179e\"], [0.4444444444444444, \"#bd3786\"], [0.5555555555555556, \"#d8576b\"], [0.6666666666666666, \"#ed7953\"], [0.7777777777777778, \"#fb9f3a\"], [0.8888888888888888, \"#fdca26\"], [1.0, \"#f0f921\"]], \"type\": \"contour\"}], \"contourcarpet\": [{\"colorbar\": {\"outlinewidth\": 0, \"ticks\": \"\"}, \"type\": \"contourcarpet\"}], \"heatmap\": [{\"colorbar\": {\"outlinewidth\": 0, \"ticks\": \"\"}, \"colorscale\": [[0.0, \"#0d0887\"], [0.1111111111111111, \"#46039f\"], [0.2222222222222222, \"#7201a8\"], [0.3333333333333333, \"#9c179e\"], [0.4444444444444444, \"#bd3786\"], [0.5555555555555556, \"#d8576b\"], [0.6666666666666666, \"#ed7953\"], [0.7777777777777778, \"#fb9f3a\"], [0.8888888888888888, \"#fdca26\"], [1.0, \"#f0f921\"]], \"type\": \"heatmap\"}], \"heatmapgl\": [{\"colorbar\": {\"outlinewidth\": 0, \"ticks\": \"\"}, \"colorscale\": [[0.0, \"#0d0887\"], [0.1111111111111111, \"#46039f\"], [0.2222222222222222, \"#7201a8\"], [0.3333333333333333, \"#9c179e\"], [0.4444444444444444, \"#bd3786\"], [0.5555555555555556, \"#d8576b\"], [0.6666666666666666, \"#ed7953\"], [0.7777777777777778, \"#fb9f3a\"], [0.8888888888888888, \"#fdca26\"], [1.0, \"#f0f921\"]], \"type\": \"heatmapgl\"}], \"histogram\": [{\"marker\": {\"colorbar\": {\"outlinewidth\": 0, \"ticks\": \"\"}}, \"type\": \"histogram\"}], \"histogram2d\": [{\"colorbar\": {\"outlinewidth\": 0, \"ticks\": \"\"}, \"colorscale\": [[0.0, \"#0d0887\"], [0.1111111111111111, \"#46039f\"], [0.2222222222222222, \"#7201a8\"], [0.3333333333333333, \"#9c179e\"], [0.4444444444444444, \"#bd3786\"], [0.5555555555555556, \"#d8576b\"], [0.6666666666666666, \"#ed7953\"], [0.7777777777777778, \"#fb9f3a\"], [0.8888888888888888, \"#fdca26\"], [1.0, \"#f0f921\"]], \"type\": \"histogram2d\"}], \"histogram2dcontour\": [{\"colorbar\": {\"outlinewidth\": 0, \"ticks\": \"\"}, \"colorscale\": [[0.0, \"#0d0887\"], [0.1111111111111111, \"#46039f\"], [0.2222222222222222, \"#7201a8\"], [0.3333333333333333, \"#9c179e\"], [0.4444444444444444, \"#bd3786\"], [0.5555555555555556, \"#d8576b\"], [0.6666666666666666, \"#ed7953\"], [0.7777777777777778, \"#fb9f3a\"], [0.8888888888888888, \"#fdca26\"], [1.0, \"#f0f921\"]], \"type\": \"histogram2dcontour\"}], \"mesh3d\": [{\"colorbar\": {\"outlinewidth\": 0, \"ticks\": \"\"}, \"type\": \"mesh3d\"}], \"parcoords\": [{\"line\": {\"colorbar\": {\"outlinewidth\": 0, \"ticks\": \"\"}}, \"type\": \"parcoords\"}], \"pie\": [{\"automargin\": true, \"type\": \"pie\"}], \"scatter\": [{\"marker\": {\"colorbar\": {\"outlinewidth\": 0, \"ticks\": \"\"}}, \"type\": \"scatter\"}], \"scatter3d\": [{\"line\": {\"colorbar\": {\"outlinewidth\": 0, \"ticks\": \"\"}}, \"marker\": {\"colorbar\": {\"outlinewidth\": 0, \"ticks\": \"\"}}, \"type\": \"scatter3d\"}], \"scattercarpet\": [{\"marker\": {\"colorbar\": {\"outlinewidth\": 0, \"ticks\": \"\"}}, \"type\": \"scattercarpet\"}], \"scattergeo\": [{\"marker\": {\"colorbar\": {\"outlinewidth\": 0, \"ticks\": \"\"}}, \"type\": \"scattergeo\"}], \"scattergl\": [{\"marker\": {\"colorbar\": {\"outlinewidth\": 0, \"ticks\": \"\"}}, \"type\": \"scattergl\"}], \"scattermapbox\": [{\"marker\": {\"colorbar\": {\"outlinewidth\": 0, \"ticks\": \"\"}}, \"type\": \"scattermapbox\"}], \"scatterpolar\": [{\"marker\": {\"colorbar\": {\"outlinewidth\": 0, \"ticks\": \"\"}}, \"type\": \"scatterpolar\"}], \"scatterpolargl\": [{\"marker\": {\"colorbar\": {\"outlinewidth\": 0, \"ticks\": \"\"}}, \"type\": \"scatterpolargl\"}], \"scatterternary\": [{\"marker\": {\"colorbar\": {\"outlinewidth\": 0, \"ticks\": \"\"}}, \"type\": \"scatterternary\"}], \"surface\": [{\"colorbar\": {\"outlinewidth\": 0, \"ticks\": \"\"}, \"colorscale\": [[0.0, \"#0d0887\"], [0.1111111111111111, \"#46039f\"], [0.2222222222222222, \"#7201a8\"], [0.3333333333333333, \"#9c179e\"], [0.4444444444444444, \"#bd3786\"], [0.5555555555555556, \"#d8576b\"], [0.6666666666666666, \"#ed7953\"], [0.7777777777777778, \"#fb9f3a\"], [0.8888888888888888, \"#fdca26\"], [1.0, \"#f0f921\"]], \"type\": \"surface\"}], \"table\": [{\"cells\": {\"fill\": {\"color\": \"#EBF0F8\"}, \"line\": {\"color\": \"white\"}}, \"header\": {\"fill\": {\"color\": \"#C8D4E3\"}, \"line\": {\"color\": \"white\"}}, \"type\": \"table\"}]}, \"layout\": {\"annotationdefaults\": {\"arrowcolor\": \"#2a3f5f\", \"arrowhead\": 0, \"arrowwidth\": 1}, \"coloraxis\": {\"colorbar\": {\"outlinewidth\": 0, \"ticks\": \"\"}}, \"colorscale\": {\"diverging\": [[0, \"#8e0152\"], [0.1, \"#c51b7d\"], [0.2, \"#de77ae\"], [0.3, \"#f1b6da\"], [0.4, \"#fde0ef\"], [0.5, \"#f7f7f7\"], [0.6, \"#e6f5d0\"], [0.7, \"#b8e186\"], [0.8, \"#7fbc41\"], [0.9, \"#4d9221\"], [1, \"#276419\"]], \"sequential\": [[0.0, \"#0d0887\"], [0.1111111111111111, \"#46039f\"], [0.2222222222222222, \"#7201a8\"], [0.3333333333333333, \"#9c179e\"], [0.4444444444444444, \"#bd3786\"], [0.5555555555555556, \"#d8576b\"], [0.6666666666666666, \"#ed7953\"], [0.7777777777777778, \"#fb9f3a\"], [0.8888888888888888, \"#fdca26\"], [1.0, \"#f0f921\"]], \"sequentialminus\": [[0.0, \"#0d0887\"], [0.1111111111111111, \"#46039f\"], [0.2222222222222222, \"#7201a8\"], [0.3333333333333333, \"#9c179e\"], [0.4444444444444444, \"#bd3786\"], [0.5555555555555556, \"#d8576b\"], [0.6666666666666666, \"#ed7953\"], [0.7777777777777778, \"#fb9f3a\"], [0.8888888888888888, \"#fdca26\"], [1.0, \"#f0f921\"]]}, \"colorway\": [\"#636efa\", \"#EF553B\", \"#00cc96\", \"#ab63fa\", \"#FFA15A\", \"#19d3f3\", \"#FF6692\", \"#B6E880\", \"#FF97FF\", \"#FECB52\"], \"font\": {\"color\": \"#2a3f5f\"}, \"geo\": {\"bgcolor\": \"white\", \"lakecolor\": \"white\", \"landcolor\": \"#E5ECF6\", \"showlakes\": true, \"showland\": true, \"subunitcolor\": \"white\"}, \"hoverlabel\": {\"align\": \"left\"}, \"hovermode\": \"closest\", \"mapbox\": {\"style\": \"light\"}, \"paper_bgcolor\": \"white\", \"plot_bgcolor\": \"#E5ECF6\", \"polar\": {\"angularaxis\": {\"gridcolor\": \"white\", \"linecolor\": \"white\", \"ticks\": \"\"}, \"bgcolor\": \"#E5ECF6\", \"radialaxis\": {\"gridcolor\": \"white\", \"linecolor\": \"white\", \"ticks\": \"\"}}, \"scene\": {\"xaxis\": {\"backgroundcolor\": \"#E5ECF6\", \"gridcolor\": \"white\", \"gridwidth\": 2, \"linecolor\": \"white\", \"showbackground\": true, \"ticks\": \"\", \"zerolinecolor\": \"white\"}, \"yaxis\": {\"backgroundcolor\": \"#E5ECF6\", \"gridcolor\": \"white\", \"gridwidth\": 2, \"linecolor\": \"white\", \"showbackground\": true, \"ticks\": \"\", \"zerolinecolor\": \"white\"}, \"zaxis\": {\"backgroundcolor\": \"#E5ECF6\", \"gridcolor\": \"white\", \"gridwidth\": 2, \"linecolor\": \"white\", \"showbackground\": true, \"ticks\": \"\", \"zerolinecolor\": \"white\"}}, \"shapedefaults\": {\"line\": {\"color\": \"#2a3f5f\"}}, \"ternary\": {\"aaxis\": {\"gridcolor\": \"white\", \"linecolor\": \"white\", \"ticks\": \"\"}, \"baxis\": {\"gridcolor\": \"white\", \"linecolor\": \"white\", \"ticks\": \"\"}, \"bgcolor\": \"#E5ECF6\", \"caxis\": {\"gridcolor\": \"white\", \"linecolor\": \"white\", \"ticks\": \"\"}}, \"title\": {\"x\": 0.05}, \"xaxis\": {\"automargin\": true, \"gridcolor\": \"white\", \"linecolor\": \"white\", \"ticks\": \"\", \"title\": {\"standoff\": 15}, \"zerolinecolor\": \"white\", \"zerolinewidth\": 2}, \"yaxis\": {\"automargin\": true, \"gridcolor\": \"white\", \"linecolor\": \"white\", \"ticks\": \"\", \"title\": {\"standoff\": 15}, \"zerolinecolor\": \"white\", \"zerolinewidth\": 2}}}, \"title\": {\"text\": \"R\\u00e9mun\\u00e9ration re\\u00e7ue par cat\\u00e9gorie de b\\u00e9n\\u00e9ficiaire\"}, \"xaxis\": {\"anchor\": \"y\", \"domain\": [0.0, 1.0], \"title\": {\"text\": \"x\"}}, \"yaxis\": {\"anchor\": \"x\", \"domain\": [0.0, 1.0], \"range\": [0, 1], \"tickformat\": \",.0%\", \"title\": {\"text\": \"percentage_nature\"}}},\n",
       "                        {\"responsive\": true}\n",
       "                    ).then(function(){\n",
       "                            \n",
       "var gd = document.getElementById('c88acae4-1d93-4d1c-a54e-13451c9de4c6');\n",
       "var x = new MutationObserver(function (mutations, observer) {{\n",
       "        var display = window.getComputedStyle(gd).display;\n",
       "        if (!display || display === 'none') {{\n",
       "            console.log([gd, 'removed!']);\n",
       "            Plotly.purge(gd);\n",
       "            observer.disconnect();\n",
       "        }}\n",
       "}});\n",
       "\n",
       "// Listen for the removal of the full notebook cells\n",
       "var notebookContainer = gd.closest('#notebook-container');\n",
       "if (notebookContainer) {{\n",
       "    x.observe(notebookContainer, {childList: true});\n",
       "}}\n",
       "\n",
       "// Listen for the clearing of the current output cell\n",
       "var outputEl = gd.closest('.output');\n",
       "if (outputEl) {{\n",
       "    x.observe(outputEl, {childList: true});\n",
       "}}\n",
       "\n",
       "                        })\n",
       "                };\n",
       "                });\n",
       "            </script>\n",
       "        </div>"
      ]
     },
     "metadata": {},
     "output_type": "display_data"
    }
   ],
   "source": [
    "fig = px.bar(df2, x=df2.index, y='percentage_nature',height=600)\n",
    "fig.update_layout(title_text='Rémunération reçue par catégorie de bénéficiaire', yaxis=dict( tickformat= ',.0%',\n",
    "    range=[0,1]),)\n",
    "fig.show()"
   ]
  },
  {
   "cell_type": "markdown",
   "metadata": {},
   "source": [
    "#### 3.4 Compter la nature d'avantage par catégorie de bénéficiaire"
   ]
  },
  {
   "cell_type": "code",
   "execution_count": 53,
   "metadata": {},
   "outputs": [],
   "source": [
    "group_data1=pd.DataFrame(avantageSample.groupby(['categorie','avant_nature'])['avant_montant_ttc'].sum())"
   ]
  },
  {
   "cell_type": "code",
   "execution_count": 55,
   "metadata": {},
   "outputs": [],
   "source": [
    "group_data1=group_data1.sort_values(['avant_montant_ttc'],ascending=False).head(20)"
   ]
  },
  {
   "cell_type": "code",
   "execution_count": 56,
   "metadata": {},
   "outputs": [
    {
     "data": {
      "text/html": [
       "<div>\n",
       "<style scoped>\n",
       "    .dataframe tbody tr th:only-of-type {\n",
       "        vertical-align: middle;\n",
       "    }\n",
       "\n",
       "    .dataframe tbody tr th {\n",
       "        vertical-align: top;\n",
       "    }\n",
       "\n",
       "    .dataframe thead th {\n",
       "        text-align: right;\n",
       "    }\n",
       "</style>\n",
       "<table border=\"1\" class=\"dataframe\">\n",
       "  <thead>\n",
       "    <tr style=\"text-align: right;\">\n",
       "      <th></th>\n",
       "      <th></th>\n",
       "      <th>avant_montant_ttc</th>\n",
       "    </tr>\n",
       "    <tr>\n",
       "      <th>categorie</th>\n",
       "      <th>avant_nature</th>\n",
       "      <th></th>\n",
       "    </tr>\n",
       "  </thead>\n",
       "  <tbody>\n",
       "    <tr>\n",
       "      <td rowspan=\"5\" valign=\"top\">Professionnel de santé</td>\n",
       "      <td>REPAS</td>\n",
       "      <td>68119340</td>\n",
       "    </tr>\n",
       "    <tr>\n",
       "      <td>TRANSPORT</td>\n",
       "      <td>57846781</td>\n",
       "    </tr>\n",
       "    <tr>\n",
       "      <td>HEBERGEMENT</td>\n",
       "      <td>41020060</td>\n",
       "    </tr>\n",
       "    <tr>\n",
       "      <td>HOSPITALITE</td>\n",
       "      <td>23038346</td>\n",
       "    </tr>\n",
       "    <tr>\n",
       "      <td>INSCRIPTION</td>\n",
       "      <td>17896887</td>\n",
       "    </tr>\n",
       "    <tr>\n",
       "      <td>Etablissement de santé</td>\n",
       "      <td>DONS DE FONCTIONNEMENT</td>\n",
       "      <td>15049367</td>\n",
       "    </tr>\n",
       "    <tr>\n",
       "      <td>Association professionnel de santé</td>\n",
       "      <td>DONS DE FONCTIONNEMENT</td>\n",
       "      <td>13343167</td>\n",
       "    </tr>\n",
       "    <tr>\n",
       "      <td>Personnes morales assurant la formation initiale ou continue des professionnels de santé</td>\n",
       "      <td>AUTRE REMUNERATION</td>\n",
       "      <td>10435777</td>\n",
       "    </tr>\n",
       "    <tr>\n",
       "      <td>Académies, Fondation, sociétés savantes, organismes de conseils</td>\n",
       "      <td>DONS DE FONCTIONNEMENT</td>\n",
       "      <td>9401776</td>\n",
       "    </tr>\n",
       "    <tr>\n",
       "      <td>Presse et média</td>\n",
       "      <td>AUTRE REMUNERATION</td>\n",
       "      <td>9236293</td>\n",
       "    </tr>\n",
       "    <tr>\n",
       "      <td>Professionnel de santé</td>\n",
       "      <td>AUTRE REMUNERATION</td>\n",
       "      <td>3890306</td>\n",
       "    </tr>\n",
       "    <tr>\n",
       "      <td>Etablissement de santé</td>\n",
       "      <td>AUTRE REMUNERATION</td>\n",
       "      <td>3693607</td>\n",
       "    </tr>\n",
       "    <tr>\n",
       "      <td>Etudiant</td>\n",
       "      <td>REPAS</td>\n",
       "      <td>3587339</td>\n",
       "    </tr>\n",
       "    <tr>\n",
       "      <td>Professionnel de santé</td>\n",
       "      <td>AUTRE INSCRIPTION</td>\n",
       "      <td>3453439</td>\n",
       "    </tr>\n",
       "    <tr>\n",
       "      <td>Etablissement de santé</td>\n",
       "      <td>AUTRE</td>\n",
       "      <td>3316550</td>\n",
       "    </tr>\n",
       "    <tr>\n",
       "      <td>Association usager de santé</td>\n",
       "      <td>DONS DE FONCTIONNEMENT</td>\n",
       "      <td>2951799</td>\n",
       "    </tr>\n",
       "    <tr>\n",
       "      <td>Association professionnel de santé</td>\n",
       "      <td>HONORAIRES</td>\n",
       "      <td>2808252</td>\n",
       "    </tr>\n",
       "    <tr>\n",
       "      <td>Académies, Fondation, sociétés savantes, organismes de conseils</td>\n",
       "      <td>AUTRE DON</td>\n",
       "      <td>2655000</td>\n",
       "    </tr>\n",
       "    <tr>\n",
       "      <td>Etablissement de santé</td>\n",
       "      <td>DONS DE MATERIEL</td>\n",
       "      <td>2401302</td>\n",
       "    </tr>\n",
       "    <tr>\n",
       "      <td>Association professionnel de santé</td>\n",
       "      <td>DON</td>\n",
       "      <td>2261323</td>\n",
       "    </tr>\n",
       "  </tbody>\n",
       "</table>\n",
       "</div>"
      ],
      "text/plain": [
       "                                                                           avant_montant_ttc\n",
       "categorie                                          avant_nature                             \n",
       "Professionnel de santé                             REPAS                            68119340\n",
       "                                                   TRANSPORT                        57846781\n",
       "                                                   HEBERGEMENT                      41020060\n",
       "                                                   HOSPITALITE                      23038346\n",
       "                                                   INSCRIPTION                      17896887\n",
       "Etablissement de santé                             DONS DE FONCTIONNEMENT           15049367\n",
       "Association professionnel de santé                 DONS DE FONCTIONNEMENT           13343167\n",
       "Personnes morales assurant la formation initial... AUTRE REMUNERATION               10435777\n",
       "Académies, Fondation, sociétés savantes, organi... DONS DE FONCTIONNEMENT            9401776\n",
       "Presse et média                                    AUTRE REMUNERATION                9236293\n",
       "Professionnel de santé                             AUTRE REMUNERATION                3890306\n",
       "Etablissement de santé                             AUTRE REMUNERATION                3693607\n",
       "Etudiant                                           REPAS                             3587339\n",
       "Professionnel de santé                             AUTRE INSCRIPTION                 3453439\n",
       "Etablissement de santé                             AUTRE                             3316550\n",
       "Association usager de santé                        DONS DE FONCTIONNEMENT            2951799\n",
       "Association professionnel de santé                 HONORAIRES                        2808252\n",
       "Académies, Fondation, sociétés savantes, organi... AUTRE DON                         2655000\n",
       "Etablissement de santé                             DONS DE MATERIEL                  2401302\n",
       "Association professionnel de santé                 DON                               2261323"
      ]
     },
     "execution_count": 56,
     "metadata": {},
     "output_type": "execute_result"
    }
   ],
   "source": [
    "group_data1"
   ]
  },
  {
   "cell_type": "code",
   "execution_count": 61,
   "metadata": {},
   "outputs": [
    {
     "data": {
      "text/html": [
       "<div>\n",
       "<style scoped>\n",
       "    .dataframe tbody tr th:only-of-type {\n",
       "        vertical-align: middle;\n",
       "    }\n",
       "\n",
       "    .dataframe tbody tr th {\n",
       "        vertical-align: top;\n",
       "    }\n",
       "\n",
       "    .dataframe thead th {\n",
       "        text-align: right;\n",
       "    }\n",
       "</style>\n",
       "<table border=\"1\" class=\"dataframe\">\n",
       "  <thead>\n",
       "    <tr style=\"text-align: right;\">\n",
       "      <th></th>\n",
       "      <th></th>\n",
       "      <th>avant_montant_ttc</th>\n",
       "      <th>percent</th>\n",
       "    </tr>\n",
       "    <tr>\n",
       "      <th>categorie</th>\n",
       "      <th>avant_nature</th>\n",
       "      <th></th>\n",
       "      <th></th>\n",
       "    </tr>\n",
       "  </thead>\n",
       "  <tbody>\n",
       "    <tr>\n",
       "      <td rowspan=\"5\" valign=\"top\">Professionnel de santé</td>\n",
       "      <td>REPAS</td>\n",
       "      <td>68119340</td>\n",
       "      <td>0.32</td>\n",
       "    </tr>\n",
       "    <tr>\n",
       "      <td>TRANSPORT</td>\n",
       "      <td>57846781</td>\n",
       "      <td>0.27</td>\n",
       "    </tr>\n",
       "    <tr>\n",
       "      <td>HEBERGEMENT</td>\n",
       "      <td>41020060</td>\n",
       "      <td>0.19</td>\n",
       "    </tr>\n",
       "    <tr>\n",
       "      <td>HOSPITALITE</td>\n",
       "      <td>23038346</td>\n",
       "      <td>0.11</td>\n",
       "    </tr>\n",
       "    <tr>\n",
       "      <td>INSCRIPTION</td>\n",
       "      <td>17896887</td>\n",
       "      <td>0.08</td>\n",
       "    </tr>\n",
       "    <tr>\n",
       "      <td>Etablissement de santé</td>\n",
       "      <td>DONS DE FONCTIONNEMENT</td>\n",
       "      <td>15049367</td>\n",
       "      <td>0.62</td>\n",
       "    </tr>\n",
       "    <tr>\n",
       "      <td>Association professionnel de santé</td>\n",
       "      <td>DONS DE FONCTIONNEMENT</td>\n",
       "      <td>13343167</td>\n",
       "      <td>0.72</td>\n",
       "    </tr>\n",
       "    <tr>\n",
       "      <td>Personnes morales assurant la formation initiale ou continue des professionnels de santé</td>\n",
       "      <td>AUTRE REMUNERATION</td>\n",
       "      <td>10435777</td>\n",
       "      <td>1.00</td>\n",
       "    </tr>\n",
       "    <tr>\n",
       "      <td>Académies, Fondation, sociétés savantes, organismes de conseils</td>\n",
       "      <td>DONS DE FONCTIONNEMENT</td>\n",
       "      <td>9401776</td>\n",
       "      <td>0.78</td>\n",
       "    </tr>\n",
       "    <tr>\n",
       "      <td>Presse et média</td>\n",
       "      <td>AUTRE REMUNERATION</td>\n",
       "      <td>9236293</td>\n",
       "      <td>1.00</td>\n",
       "    </tr>\n",
       "    <tr>\n",
       "      <td>Professionnel de santé</td>\n",
       "      <td>AUTRE REMUNERATION</td>\n",
       "      <td>3890306</td>\n",
       "      <td>0.02</td>\n",
       "    </tr>\n",
       "    <tr>\n",
       "      <td>Etablissement de santé</td>\n",
       "      <td>AUTRE REMUNERATION</td>\n",
       "      <td>3693607</td>\n",
       "      <td>0.15</td>\n",
       "    </tr>\n",
       "    <tr>\n",
       "      <td>Etudiant</td>\n",
       "      <td>REPAS</td>\n",
       "      <td>3587339</td>\n",
       "      <td>1.00</td>\n",
       "    </tr>\n",
       "    <tr>\n",
       "      <td>Professionnel de santé</td>\n",
       "      <td>AUTRE INSCRIPTION</td>\n",
       "      <td>3453439</td>\n",
       "      <td>0.02</td>\n",
       "    </tr>\n",
       "    <tr>\n",
       "      <td>Etablissement de santé</td>\n",
       "      <td>AUTRE</td>\n",
       "      <td>3316550</td>\n",
       "      <td>0.14</td>\n",
       "    </tr>\n",
       "    <tr>\n",
       "      <td>Association usager de santé</td>\n",
       "      <td>DONS DE FONCTIONNEMENT</td>\n",
       "      <td>2951799</td>\n",
       "      <td>1.00</td>\n",
       "    </tr>\n",
       "    <tr>\n",
       "      <td>Association professionnel de santé</td>\n",
       "      <td>HONORAIRES</td>\n",
       "      <td>2808252</td>\n",
       "      <td>0.15</td>\n",
       "    </tr>\n",
       "    <tr>\n",
       "      <td>Académies, Fondation, sociétés savantes, organismes de conseils</td>\n",
       "      <td>AUTRE DON</td>\n",
       "      <td>2655000</td>\n",
       "      <td>0.22</td>\n",
       "    </tr>\n",
       "    <tr>\n",
       "      <td>Etablissement de santé</td>\n",
       "      <td>DONS DE MATERIEL</td>\n",
       "      <td>2401302</td>\n",
       "      <td>0.10</td>\n",
       "    </tr>\n",
       "    <tr>\n",
       "      <td>Association professionnel de santé</td>\n",
       "      <td>DON</td>\n",
       "      <td>2261323</td>\n",
       "      <td>0.12</td>\n",
       "    </tr>\n",
       "  </tbody>\n",
       "</table>\n",
       "</div>"
      ],
      "text/plain": [
       "                                                                           avant_montant_ttc  \\\n",
       "categorie                                          avant_nature                                \n",
       "Professionnel de santé                             REPAS                            68119340   \n",
       "                                                   TRANSPORT                        57846781   \n",
       "                                                   HEBERGEMENT                      41020060   \n",
       "                                                   HOSPITALITE                      23038346   \n",
       "                                                   INSCRIPTION                      17896887   \n",
       "Etablissement de santé                             DONS DE FONCTIONNEMENT           15049367   \n",
       "Association professionnel de santé                 DONS DE FONCTIONNEMENT           13343167   \n",
       "Personnes morales assurant la formation initial... AUTRE REMUNERATION               10435777   \n",
       "Académies, Fondation, sociétés savantes, organi... DONS DE FONCTIONNEMENT            9401776   \n",
       "Presse et média                                    AUTRE REMUNERATION                9236293   \n",
       "Professionnel de santé                             AUTRE REMUNERATION                3890306   \n",
       "Etablissement de santé                             AUTRE REMUNERATION                3693607   \n",
       "Etudiant                                           REPAS                             3587339   \n",
       "Professionnel de santé                             AUTRE INSCRIPTION                 3453439   \n",
       "Etablissement de santé                             AUTRE                             3316550   \n",
       "Association usager de santé                        DONS DE FONCTIONNEMENT            2951799   \n",
       "Association professionnel de santé                 HONORAIRES                        2808252   \n",
       "Académies, Fondation, sociétés savantes, organi... AUTRE DON                         2655000   \n",
       "Etablissement de santé                             DONS DE MATERIEL                  2401302   \n",
       "Association professionnel de santé                 DON                               2261323   \n",
       "\n",
       "                                                                           percent  \n",
       "categorie                                          avant_nature                     \n",
       "Professionnel de santé                             REPAS                      0.32  \n",
       "                                                   TRANSPORT                  0.27  \n",
       "                                                   HEBERGEMENT                0.19  \n",
       "                                                   HOSPITALITE                0.11  \n",
       "                                                   INSCRIPTION                0.08  \n",
       "Etablissement de santé                             DONS DE FONCTIONNEMENT     0.62  \n",
       "Association professionnel de santé                 DONS DE FONCTIONNEMENT     0.72  \n",
       "Personnes morales assurant la formation initial... AUTRE REMUNERATION         1.00  \n",
       "Académies, Fondation, sociétés savantes, organi... DONS DE FONCTIONNEMENT     0.78  \n",
       "Presse et média                                    AUTRE REMUNERATION         1.00  \n",
       "Professionnel de santé                             AUTRE REMUNERATION         0.02  \n",
       "Etablissement de santé                             AUTRE REMUNERATION         0.15  \n",
       "Etudiant                                           REPAS                      1.00  \n",
       "Professionnel de santé                             AUTRE INSCRIPTION          0.02  \n",
       "Etablissement de santé                             AUTRE                      0.14  \n",
       "Association usager de santé                        DONS DE FONCTIONNEMENT     1.00  \n",
       "Association professionnel de santé                 HONORAIRES                 0.15  \n",
       "Académies, Fondation, sociétés savantes, organi... AUTRE DON                  0.22  \n",
       "Etablissement de santé                             DONS DE MATERIEL           0.10  \n",
       "Association professionnel de santé                 DON                        0.12  "
      ]
     },
     "execution_count": 61,
     "metadata": {},
     "output_type": "execute_result"
    }
   ],
   "source": [
    "group_data1['percent'] = group_data1.groupby(level=0).transform(lambda x: (x / x.sum()).round(2))\n",
    "group_data1"
   ]
  },
  {
   "cell_type": "code",
   "execution_count": 63,
   "metadata": {},
   "outputs": [],
   "source": [
    "group_data1=group_data1.drop('avant_montant_ttc',axis=1)"
   ]
  },
  {
   "cell_type": "code",
   "execution_count": 65,
   "metadata": {},
   "outputs": [
    {
     "data": {
      "image/png": "[encoded data removed]",
      "text/plain": [
       "<Figure size 1080x432 with 1 Axes>"
      ]
     },
     "metadata": {
      "needs_background": "light"
     },
     "output_type": "display_data"
    }
   ],
   "source": [
    "import matplotlib.pyplot as plt\n",
    "\n",
    "#dfEntPay.unstack().plot(kind='bar',figsize=(12,9),width=0.7)\n",
    "\n",
    "\n",
    "colors_list = ['#5cb85c','#5bc0de','#d9534f']\n",
    "\n",
    "ax = group_data1.plot(kind='bar',figsize=(15,6),width = 0.5,color = colors_list,edgecolor=None)\n",
    "plt.legend(labels=group_data1.columns,fontsize= 14)\n",
    "plt.title(\"Compter la nature d'avantage par catégorie de bénéficiaire \",fontsize= 16)\n",
    "plt.xticks(fontsize=14)\n",
    "for spine in plt.gca().spines.values():\n",
    "    spine.set_visible(False)\n",
    "plt.yticks([])\n",
    "\n",
    "# Add this loop to add the annotations\n",
    "for p in ax.patches:\n",
    "    width, height = p.get_width(), p.get_height()\n",
    "    x, y = p.get_xy() \n",
    "    ax.annotate('{:.0%}'.format(height), (x, y + height + 0.01))"
   ]
  },
  {
   "cell_type": "code",
   "execution_count": 66,
   "metadata": {},
   "outputs": [
    {
     "data": {
      "text/plain": [
       "Text(0.5, 1.0, \"Compter la nature d'avantage par catégorie de bénéficiaire \")"
      ]
     },
     "execution_count": 66,
     "metadata": {},
     "output_type": "execute_result"
    },
    {
     "data": {
      "image/png": "[encoded data removed]",
      "text/plain": [
       "<Figure size 864x648 with 1 Axes>"
      ]
     },
     "metadata": {
      "needs_background": "light"
     },
     "output_type": "display_data"
    }
   ],
   "source": [
    "import matplotlib.pyplot as plt\n",
    "\n",
    "group_data1.unstack().plot(kind='bar',figsize=(12,9),width=0.7)\n",
    "plt.title(\"Compter la nature d'avantage par catégorie de bénéficiaire \",fontsize= 16)"
   ]
  },
  {
   "cell_type": "markdown",
   "metadata": {},
   "source": [
    "#### 3.5 Savoir chaque entreprise est combine engagé dans chaque categorie de beneficier"
   ]
  },
  {
   "cell_type": "code",
   "execution_count": 22,
   "metadata": {},
   "outputs": [],
   "source": [
    "#avantageSample['COUNTER']=1\n",
    "group_data2=pd.DataFrame(avantageSample.groupby(['denomination_sociale','categorie']).size())"
   ]
  },
  {
   "cell_type": "code",
   "execution_count": 23,
   "metadata": {},
   "outputs": [
    {
     "data": {
      "text/html": [
       "<div>\n",
       "<style scoped>\n",
       "    .dataframe tbody tr th:only-of-type {\n",
       "        vertical-align: middle;\n",
       "    }\n",
       "\n",
       "    .dataframe tbody tr th {\n",
       "        vertical-align: top;\n",
       "    }\n",
       "\n",
       "    .dataframe thead th {\n",
       "        text-align: right;\n",
       "    }\n",
       "</style>\n",
       "<table border=\"1\" class=\"dataframe\">\n",
       "  <thead>\n",
       "    <tr style=\"text-align: right;\">\n",
       "      <th></th>\n",
       "      <th></th>\n",
       "      <th>0</th>\n",
       "    </tr>\n",
       "    <tr>\n",
       "      <th>denomination_sociale</th>\n",
       "      <th>categorie</th>\n",
       "      <th></th>\n",
       "    </tr>\n",
       "  </thead>\n",
       "  <tbody>\n",
       "    <tr>\n",
       "      <td>NOVARTIS PHARMA SAS</td>\n",
       "      <td>Professionnel de santé</td>\n",
       "      <td>131677</td>\n",
       "    </tr>\n",
       "    <tr>\n",
       "      <td>ASTRAZENECA</td>\n",
       "      <td>Professionnel de santé</td>\n",
       "      <td>118450</td>\n",
       "    </tr>\n",
       "    <tr>\n",
       "      <td>MSD France</td>\n",
       "      <td>Professionnel de santé</td>\n",
       "      <td>112275</td>\n",
       "    </tr>\n",
       "    <tr>\n",
       "      <td>SANOFI AVENTIS FRANCE</td>\n",
       "      <td>Professionnel de santé</td>\n",
       "      <td>111176</td>\n",
       "    </tr>\n",
       "    <tr>\n",
       "      <td>LABORATOIRE GLAXOSMITHKLINE</td>\n",
       "      <td>Professionnel de santé</td>\n",
       "      <td>84989</td>\n",
       "    </tr>\n",
       "    <tr>\n",
       "      <td>BRISTOL-MYERS SQUIBB</td>\n",
       "      <td>Professionnel de santé</td>\n",
       "      <td>58436</td>\n",
       "    </tr>\n",
       "    <tr>\n",
       "      <td>AbbVie</td>\n",
       "      <td>Professionnel de santé</td>\n",
       "      <td>58222</td>\n",
       "    </tr>\n",
       "    <tr>\n",
       "      <td>ICOMED</td>\n",
       "      <td>Professionnel de santé</td>\n",
       "      <td>57882</td>\n",
       "    </tr>\n",
       "    <tr>\n",
       "      <td>JANSSEN-CILAG</td>\n",
       "      <td>Professionnel de santé</td>\n",
       "      <td>56691</td>\n",
       "    </tr>\n",
       "    <tr>\n",
       "      <td>Bayer HealthCare SAS</td>\n",
       "      <td>Professionnel de santé</td>\n",
       "      <td>52842</td>\n",
       "    </tr>\n",
       "    <tr>\n",
       "      <td>PFIZER SAS</td>\n",
       "      <td>Professionnel de santé</td>\n",
       "      <td>50693</td>\n",
       "    </tr>\n",
       "    <tr>\n",
       "      <td>ROCHE SAS</td>\n",
       "      <td>Professionnel de santé</td>\n",
       "      <td>46046</td>\n",
       "    </tr>\n",
       "    <tr>\n",
       "      <td>Lilly France SAS</td>\n",
       "      <td>Professionnel de santé</td>\n",
       "      <td>43244</td>\n",
       "    </tr>\n",
       "    <tr>\n",
       "      <td>MEDTRONIC France S.A.S</td>\n",
       "      <td>Professionnel de santé</td>\n",
       "      <td>43140</td>\n",
       "    </tr>\n",
       "    <tr>\n",
       "      <td>PIERRE FABRE MEDICAMENT</td>\n",
       "      <td>Professionnel de santé</td>\n",
       "      <td>42433</td>\n",
       "    </tr>\n",
       "    <tr>\n",
       "      <td>BOEHRINGER INGELHEIM FRANCE</td>\n",
       "      <td>Professionnel de santé</td>\n",
       "      <td>42226</td>\n",
       "    </tr>\n",
       "    <tr>\n",
       "      <td>AMGEN SAS</td>\n",
       "      <td>Professionnel de santé</td>\n",
       "      <td>35587</td>\n",
       "    </tr>\n",
       "    <tr>\n",
       "      <td>MERCK SERONO</td>\n",
       "      <td>Professionnel de santé</td>\n",
       "      <td>35127</td>\n",
       "    </tr>\n",
       "    <tr>\n",
       "      <td>ASTELLAS PHARMA</td>\n",
       "      <td>Professionnel de santé</td>\n",
       "      <td>32286</td>\n",
       "    </tr>\n",
       "    <tr>\n",
       "      <td>MENARINI FRANCE</td>\n",
       "      <td>Professionnel de santé</td>\n",
       "      <td>29592</td>\n",
       "    </tr>\n",
       "  </tbody>\n",
       "</table>\n",
       "</div>"
      ],
      "text/plain": [
       "                                                         0\n",
       "denomination_sociale        categorie                     \n",
       "NOVARTIS PHARMA SAS         Professionnel de santé  131677\n",
       "ASTRAZENECA                 Professionnel de santé  118450\n",
       "MSD France                  Professionnel de santé  112275\n",
       "SANOFI AVENTIS FRANCE       Professionnel de santé  111176\n",
       "LABORATOIRE GLAXOSMITHKLINE Professionnel de santé   84989\n",
       "BRISTOL-MYERS SQUIBB        Professionnel de santé   58436\n",
       "AbbVie                      Professionnel de santé   58222\n",
       "ICOMED                      Professionnel de santé   57882\n",
       "JANSSEN-CILAG               Professionnel de santé   56691\n",
       "Bayer HealthCare SAS        Professionnel de santé   52842\n",
       "PFIZER SAS                  Professionnel de santé   50693\n",
       "ROCHE SAS                   Professionnel de santé   46046\n",
       "Lilly France SAS            Professionnel de santé   43244\n",
       "MEDTRONIC France S.A.S      Professionnel de santé   43140\n",
       "PIERRE FABRE MEDICAMENT     Professionnel de santé   42433\n",
       "BOEHRINGER INGELHEIM FRANCE Professionnel de santé   42226\n",
       "AMGEN SAS                   Professionnel de santé   35587\n",
       "MERCK SERONO                Professionnel de santé   35127\n",
       "ASTELLAS PHARMA             Professionnel de santé   32286\n",
       "MENARINI FRANCE             Professionnel de santé   29592"
      ]
     },
     "execution_count": 23,
     "metadata": {},
     "output_type": "execute_result"
    }
   ],
   "source": [
    "group_data2.sort_values(0,ascending=False).head(20)"
   ]
  },
  {
   "cell_type": "markdown",
   "metadata": {},
   "source": [
    "#### 3.5 Savoir chaque entreprise combine de fois engagé avec chaque titre de beneficier"
   ]
  },
  {
   "cell_type": "code",
   "execution_count": 24,
   "metadata": {},
   "outputs": [],
   "source": [
    " group_data3=pd.DataFrame(avantageSample.groupby(['denomination_sociale','benef_titre_libelle']).size()) "
   ]
  },
  {
   "cell_type": "code",
   "execution_count": 25,
   "metadata": {},
   "outputs": [
    {
     "data": {
      "text/html": [
       "<div>\n",
       "<style scoped>\n",
       "    .dataframe tbody tr th:only-of-type {\n",
       "        vertical-align: middle;\n",
       "    }\n",
       "\n",
       "    .dataframe tbody tr th {\n",
       "        vertical-align: top;\n",
       "    }\n",
       "\n",
       "    .dataframe thead th {\n",
       "        text-align: right;\n",
       "    }\n",
       "</style>\n",
       "<table border=\"1\" class=\"dataframe\">\n",
       "  <thead>\n",
       "    <tr style=\"text-align: right;\">\n",
       "      <th></th>\n",
       "      <th></th>\n",
       "      <th>0</th>\n",
       "    </tr>\n",
       "    <tr>\n",
       "      <th>denomination_sociale</th>\n",
       "      <th>benef_titre_libelle</th>\n",
       "      <th></th>\n",
       "    </tr>\n",
       "  </thead>\n",
       "  <tbody>\n",
       "    <tr>\n",
       "      <td>NOVARTIS PHARMA SAS</td>\n",
       "      <td>Docteur</td>\n",
       "      <td>109681</td>\n",
       "    </tr>\n",
       "    <tr>\n",
       "      <td>SANOFI AVENTIS FRANCE</td>\n",
       "      <td>Docteur</td>\n",
       "      <td>76724</td>\n",
       "    </tr>\n",
       "    <tr>\n",
       "      <td>MSD France</td>\n",
       "      <td>Docteur</td>\n",
       "      <td>55775</td>\n",
       "    </tr>\n",
       "    <tr>\n",
       "      <td>ICOMED</td>\n",
       "      <td>Docteur</td>\n",
       "      <td>50643</td>\n",
       "    </tr>\n",
       "    <tr>\n",
       "      <td>LABORATOIRE GLAXOSMITHKLINE</td>\n",
       "      <td>Docteur</td>\n",
       "      <td>47981</td>\n",
       "    </tr>\n",
       "    <tr>\n",
       "      <td>PFIZER SAS</td>\n",
       "      <td>Docteur</td>\n",
       "      <td>43145</td>\n",
       "    </tr>\n",
       "    <tr>\n",
       "      <td>JANSSEN-CILAG</td>\n",
       "      <td>Docteur</td>\n",
       "      <td>37138</td>\n",
       "    </tr>\n",
       "    <tr>\n",
       "      <td>PIERRE FABRE MEDICAMENT</td>\n",
       "      <td>Docteur</td>\n",
       "      <td>34345</td>\n",
       "    </tr>\n",
       "    <tr>\n",
       "      <td>BRISTOL-MYERS SQUIBB</td>\n",
       "      <td>Docteur</td>\n",
       "      <td>33320</td>\n",
       "    </tr>\n",
       "    <tr>\n",
       "      <td>Lilly France SAS</td>\n",
       "      <td>Docteur</td>\n",
       "      <td>32454</td>\n",
       "    </tr>\n",
       "    <tr>\n",
       "      <td>MERCK SERONO</td>\n",
       "      <td>Docteur</td>\n",
       "      <td>27188</td>\n",
       "    </tr>\n",
       "    <tr>\n",
       "      <td>MENARINI FRANCE</td>\n",
       "      <td>Docteur</td>\n",
       "      <td>26733</td>\n",
       "    </tr>\n",
       "    <tr>\n",
       "      <td>ASTELLAS PHARMA</td>\n",
       "      <td>Docteur</td>\n",
       "      <td>25233</td>\n",
       "    </tr>\n",
       "    <tr>\n",
       "      <td>LES LABORATOIRES SERVIER</td>\n",
       "      <td>Docteur</td>\n",
       "      <td>23362</td>\n",
       "    </tr>\n",
       "    <tr>\n",
       "      <td>AMGEN SAS</td>\n",
       "      <td>Docteur</td>\n",
       "      <td>21850</td>\n",
       "    </tr>\n",
       "    <tr>\n",
       "      <td>BOEHRINGER INGELHEIM FRANCE</td>\n",
       "      <td>Docteur</td>\n",
       "      <td>19353</td>\n",
       "    </tr>\n",
       "    <tr>\n",
       "      <td>LABORATOIRES BOUCHARA - RECORDATI</td>\n",
       "      <td>Docteur</td>\n",
       "      <td>18236</td>\n",
       "    </tr>\n",
       "    <tr>\n",
       "      <td>NOVO NORDISK</td>\n",
       "      <td>Docteur</td>\n",
       "      <td>18029</td>\n",
       "    </tr>\n",
       "    <tr>\n",
       "      <td>TEVA SANTE SAS</td>\n",
       "      <td>Docteur</td>\n",
       "      <td>17952</td>\n",
       "    </tr>\n",
       "    <tr>\n",
       "      <td>IPSEN PHARMA</td>\n",
       "      <td>Docteur</td>\n",
       "      <td>16695</td>\n",
       "    </tr>\n",
       "  </tbody>\n",
       "</table>\n",
       "</div>"
      ],
      "text/plain": [
       "                                                            0\n",
       "denomination_sociale              benef_titre_libelle        \n",
       "NOVARTIS PHARMA SAS               Docteur              109681\n",
       "SANOFI AVENTIS FRANCE             Docteur               76724\n",
       "MSD France                        Docteur               55775\n",
       "ICOMED                            Docteur               50643\n",
       "LABORATOIRE GLAXOSMITHKLINE       Docteur               47981\n",
       "PFIZER SAS                        Docteur               43145\n",
       "JANSSEN-CILAG                     Docteur               37138\n",
       "PIERRE FABRE MEDICAMENT           Docteur               34345\n",
       "BRISTOL-MYERS SQUIBB              Docteur               33320\n",
       "Lilly France SAS                  Docteur               32454\n",
       "MERCK SERONO                      Docteur               27188\n",
       "MENARINI FRANCE                   Docteur               26733\n",
       "ASTELLAS PHARMA                   Docteur               25233\n",
       "LES LABORATOIRES SERVIER          Docteur               23362\n",
       "AMGEN SAS                         Docteur               21850\n",
       "BOEHRINGER INGELHEIM FRANCE       Docteur               19353\n",
       "LABORATOIRES BOUCHARA - RECORDATI Docteur               18236\n",
       "NOVO NORDISK                      Docteur               18029\n",
       "TEVA SANTE SAS                    Docteur               17952\n",
       "IPSEN PHARMA                      Docteur               16695"
      ]
     },
     "execution_count": 25,
     "metadata": {},
     "output_type": "execute_result"
    }
   ],
   "source": [
    "group_data3.sort_values(0,ascending=False).head(20)"
   ]
  },
  {
   "cell_type": "code",
   "execution_count": 26,
   "metadata": {},
   "outputs": [],
   "source": [
    "group_data4=pd.DataFrame(avantageSample.groupby(['denomination_sociale','categorie'])['avant_montant_ttc'].sum())"
   ]
  },
  {
   "cell_type": "code",
   "execution_count": 27,
   "metadata": {},
   "outputs": [
    {
     "data": {
      "text/html": [
       "<div>\n",
       "<style scoped>\n",
       "    .dataframe tbody tr th:only-of-type {\n",
       "        vertical-align: middle;\n",
       "    }\n",
       "\n",
       "    .dataframe tbody tr th {\n",
       "        vertical-align: top;\n",
       "    }\n",
       "\n",
       "    .dataframe thead th {\n",
       "        text-align: right;\n",
       "    }\n",
       "</style>\n",
       "<table border=\"1\" class=\"dataframe\">\n",
       "  <thead>\n",
       "    <tr style=\"text-align: right;\">\n",
       "      <th></th>\n",
       "      <th></th>\n",
       "      <th>avant_montant_ttc</th>\n",
       "    </tr>\n",
       "    <tr>\n",
       "      <th>denomination_sociale</th>\n",
       "      <th>categorie</th>\n",
       "      <th></th>\n",
       "    </tr>\n",
       "  </thead>\n",
       "  <tbody>\n",
       "    <tr>\n",
       "      <td>NOVARTIS PHARMA SAS</td>\n",
       "      <td>Professionnel de santé</td>\n",
       "      <td>14683763</td>\n",
       "    </tr>\n",
       "    <tr>\n",
       "      <td rowspan=\"3\" valign=\"top\">MSD France</td>\n",
       "      <td>Etablissement de santé</td>\n",
       "      <td>12114690</td>\n",
       "    </tr>\n",
       "    <tr>\n",
       "      <td>Professionnel de santé</td>\n",
       "      <td>11684025</td>\n",
       "    </tr>\n",
       "    <tr>\n",
       "      <td>Personnes morales assurant la formation initiale ou continue des professionnels de santé</td>\n",
       "      <td>8941190</td>\n",
       "    </tr>\n",
       "    <tr>\n",
       "      <td>ASTRAZENECA</td>\n",
       "      <td>Professionnel de santé</td>\n",
       "      <td>8912303</td>\n",
       "    </tr>\n",
       "    <tr>\n",
       "      <td>SANOFI AVENTIS FRANCE</td>\n",
       "      <td>Professionnel de santé</td>\n",
       "      <td>8513820</td>\n",
       "    </tr>\n",
       "    <tr>\n",
       "      <td>MSD France</td>\n",
       "      <td>Presse et média</td>\n",
       "      <td>8125669</td>\n",
       "    </tr>\n",
       "    <tr>\n",
       "      <td>AMGEN SAS</td>\n",
       "      <td>Académies, Fondation, sociétés savantes, organismes de conseils</td>\n",
       "      <td>7697696</td>\n",
       "    </tr>\n",
       "    <tr>\n",
       "      <td>Bayer HealthCare SAS</td>\n",
       "      <td>Professionnel de santé</td>\n",
       "      <td>6907704</td>\n",
       "    </tr>\n",
       "    <tr>\n",
       "      <td>ROCHE SAS</td>\n",
       "      <td>Professionnel de santé</td>\n",
       "      <td>6115165</td>\n",
       "    </tr>\n",
       "    <tr>\n",
       "      <td>BRISTOL-MYERS SQUIBB</td>\n",
       "      <td>Professionnel de santé</td>\n",
       "      <td>6052955</td>\n",
       "    </tr>\n",
       "    <tr>\n",
       "      <td>AbbVie</td>\n",
       "      <td>Professionnel de santé</td>\n",
       "      <td>5591909</td>\n",
       "    </tr>\n",
       "    <tr>\n",
       "      <td>JANSSEN-CILAG</td>\n",
       "      <td>Professionnel de santé</td>\n",
       "      <td>5370848</td>\n",
       "    </tr>\n",
       "    <tr>\n",
       "      <td>LABORATOIRE GLAXOSMITHKLINE</td>\n",
       "      <td>Professionnel de santé</td>\n",
       "      <td>5259980</td>\n",
       "    </tr>\n",
       "    <tr>\n",
       "      <td>MSDAVENIR</td>\n",
       "      <td>Etablissement de santé</td>\n",
       "      <td>5229468</td>\n",
       "    </tr>\n",
       "    <tr>\n",
       "      <td>PFIZER SAS</td>\n",
       "      <td>Professionnel de santé</td>\n",
       "      <td>5155557</td>\n",
       "    </tr>\n",
       "    <tr>\n",
       "      <td>MEDTRONIC France S.A.S</td>\n",
       "      <td>Professionnel de santé</td>\n",
       "      <td>4493248</td>\n",
       "    </tr>\n",
       "    <tr>\n",
       "      <td>MicroPort CRM France SAS</td>\n",
       "      <td>Professionnel de santé</td>\n",
       "      <td>4041586</td>\n",
       "    </tr>\n",
       "    <tr>\n",
       "      <td>GUERBET France</td>\n",
       "      <td>Professionnel de santé</td>\n",
       "      <td>4025242</td>\n",
       "    </tr>\n",
       "    <tr>\n",
       "      <td>BOEHRINGER INGELHEIM FRANCE</td>\n",
       "      <td>Professionnel de santé</td>\n",
       "      <td>3950511</td>\n",
       "    </tr>\n",
       "  </tbody>\n",
       "</table>\n",
       "</div>"
      ],
      "text/plain": [
       "                                                                                avant_montant_ttc\n",
       "denomination_sociale        categorie                                                            \n",
       "NOVARTIS PHARMA SAS         Professionnel de santé                                       14683763\n",
       "MSD France                  Etablissement de santé                                       12114690\n",
       "                            Professionnel de santé                                       11684025\n",
       "                            Personnes morales assurant la formation initial...            8941190\n",
       "ASTRAZENECA                 Professionnel de santé                                        8912303\n",
       "SANOFI AVENTIS FRANCE       Professionnel de santé                                        8513820\n",
       "MSD France                  Presse et média                                               8125669\n",
       "AMGEN SAS                   Académies, Fondation, sociétés savantes, organi...            7697696\n",
       "Bayer HealthCare SAS        Professionnel de santé                                        6907704\n",
       "ROCHE SAS                   Professionnel de santé                                        6115165\n",
       "BRISTOL-MYERS SQUIBB        Professionnel de santé                                        6052955\n",
       "AbbVie                      Professionnel de santé                                        5591909\n",
       "JANSSEN-CILAG               Professionnel de santé                                        5370848\n",
       "LABORATOIRE GLAXOSMITHKLINE Professionnel de santé                                        5259980\n",
       "MSDAVENIR                   Etablissement de santé                                        5229468\n",
       "PFIZER SAS                  Professionnel de santé                                        5155557\n",
       "MEDTRONIC France S.A.S      Professionnel de santé                                        4493248\n",
       "MicroPort CRM France SAS    Professionnel de santé                                        4041586\n",
       "GUERBET France              Professionnel de santé                                        4025242\n",
       "BOEHRINGER INGELHEIM FRANCE Professionnel de santé                                        3950511"
      ]
     },
     "execution_count": 27,
     "metadata": {},
     "output_type": "execute_result"
    }
   ],
   "source": [
    "group_data4.sort_values('avant_montant_ttc',ascending=False).head(20)"
   ]
  },
  {
   "cell_type": "markdown",
   "metadata": {},
   "source": [
    " #### 3.6 Savoir le mode sur les columns categorie, qualite, benef_specialite_libelle"
   ]
  },
  {
   "cell_type": "code",
   "execution_count": 28,
   "metadata": {},
   "outputs": [
    {
     "data": {
      "text/plain": [
       "0    Professionnel de santé\n",
       "dtype: object"
      ]
     },
     "execution_count": 28,
     "metadata": {},
     "output_type": "execute_result"
    }
   ],
   "source": [
    "avantageSample.loc[:,\"categorie\"].mode()"
   ]
  },
  {
   "cell_type": "code",
   "execution_count": 34,
   "metadata": {},
   "outputs": [],
   "source": [
    "#avantageSample.loc[:,\"qualite\"].median()"
   ]
  },
  {
   "cell_type": "code",
   "execution_count": 29,
   "metadata": {},
   "outputs": [
    {
     "data": {
      "text/plain": [
       "0    Médecin\n",
       "dtype: object"
      ]
     },
     "execution_count": 29,
     "metadata": {},
     "output_type": "execute_result"
    }
   ],
   "source": [
    "avantageSample.loc[:,\"qualite\"].mode()"
   ]
  },
  {
   "cell_type": "code",
   "execution_count": 30,
   "metadata": {},
   "outputs": [
    {
     "data": {
      "text/plain": [
       "0    Autre\n",
       "dtype: object"
      ]
     },
     "execution_count": 30,
     "metadata": {},
     "output_type": "execute_result"
    }
   ],
   "source": [
    "avantageSample.loc[:,\"benef_specialite_libelle\"].mode()"
   ]
  },
  {
   "cell_type": "code",
   "execution_count": 35,
   "metadata": {},
   "outputs": [],
   "source": [
    "import plotly.express as px"
   ]
  },
  {
   "cell_type": "code",
   "execution_count": 67,
   "metadata": {},
   "outputs": [],
   "source": [
    "#avantageDesc=avantageSample[['categorie','avant_montant_ttc']]\n",
    "\n",
    "#fig=px.box(avantageSample,y='qualite')\n",
    "#fig.show()"
   ]
  },
  {
   "cell_type": "markdown",
   "metadata": {},
   "source": [
    "### 4. Statistique discriptive sur le sample 'remuneration'"
   ]
  },
  {
   "cell_type": "markdown",
   "metadata": {},
   "source": [
    "#### 4.1 Rémunération reçue par catégorie de bénéficiaire"
   ]
  },
  {
   "cell_type": "code",
   "execution_count": 67,
   "metadata": {},
   "outputs": [],
   "source": [
    "remuneration_recu_benef=pd.DataFrame(remunerationSample.groupby(\"categorie\")[\"remu_montant_ttc\"].sum())"
   ]
  },
  {
   "cell_type": "code",
   "execution_count": 68,
   "metadata": {},
   "outputs": [],
   "source": [
    "# ajout le column avant_montant_ttc, pour comparer les deux montant\n",
    "remuneration_recu_benef['avant_montant_ttc']=avantage_recu_benef['avant_montant_ttc']"
   ]
  },
  {
   "cell_type": "code",
   "execution_count": 69,
   "metadata": {},
   "outputs": [
    {
     "data": {
      "text/html": [
       "<div>\n",
       "<style scoped>\n",
       "    .dataframe tbody tr th:only-of-type {\n",
       "        vertical-align: middle;\n",
       "    }\n",
       "\n",
       "    .dataframe tbody tr th {\n",
       "        vertical-align: top;\n",
       "    }\n",
       "\n",
       "    .dataframe thead th {\n",
       "        text-align: right;\n",
       "    }\n",
       "</style>\n",
       "<table border=\"1\" class=\"dataframe\">\n",
       "  <thead>\n",
       "    <tr style=\"text-align: right;\">\n",
       "      <th></th>\n",
       "      <th>remu_montant_ttc</th>\n",
       "      <th>avant_montant_ttc</th>\n",
       "    </tr>\n",
       "    <tr>\n",
       "      <th>categorie</th>\n",
       "      <th></th>\n",
       "      <th></th>\n",
       "    </tr>\n",
       "  </thead>\n",
       "  <tbody>\n",
       "    <tr>\n",
       "      <td>Académies, Fondation, sociétés savantes, organismes de conseils</td>\n",
       "      <td>322813011</td>\n",
       "      <td>31419539</td>\n",
       "    </tr>\n",
       "    <tr>\n",
       "      <td>Etablissement de santé</td>\n",
       "      <td>64974589</td>\n",
       "      <td>29711417</td>\n",
       "    </tr>\n",
       "    <tr>\n",
       "      <td>Presse et média</td>\n",
       "      <td>57627690</td>\n",
       "      <td>10803801</td>\n",
       "    </tr>\n",
       "    <tr>\n",
       "      <td>Professionnel de santé</td>\n",
       "      <td>52776762</td>\n",
       "      <td>263609068</td>\n",
       "    </tr>\n",
       "    <tr>\n",
       "      <td>Personnes morales assurant la formation initiale ou continue des professionnels de santé</td>\n",
       "      <td>44011923</td>\n",
       "      <td>14021080</td>\n",
       "    </tr>\n",
       "    <tr>\n",
       "      <td>Association professionnel de santé</td>\n",
       "      <td>42372909</td>\n",
       "      <td>33883023</td>\n",
       "    </tr>\n",
       "    <tr>\n",
       "      <td>Association usager de santé</td>\n",
       "      <td>4089600</td>\n",
       "      <td>7330485</td>\n",
       "    </tr>\n",
       "    <tr>\n",
       "      <td>Editeur de logiciel</td>\n",
       "      <td>1425076</td>\n",
       "      <td>1932572</td>\n",
       "    </tr>\n",
       "    <tr>\n",
       "      <td>Groupement sanitaire</td>\n",
       "      <td>706899</td>\n",
       "      <td>253</td>\n",
       "    </tr>\n",
       "    <tr>\n",
       "      <td>Vétérinaire Personne Morale</td>\n",
       "      <td>475454</td>\n",
       "      <td>3246</td>\n",
       "    </tr>\n",
       "    <tr>\n",
       "      <td>Vétérinaire</td>\n",
       "      <td>380353</td>\n",
       "      <td>680809</td>\n",
       "    </tr>\n",
       "    <tr>\n",
       "      <td>Etudiant</td>\n",
       "      <td>95117</td>\n",
       "      <td>7357059</td>\n",
       "    </tr>\n",
       "    <tr>\n",
       "      <td>Association d'étudiants</td>\n",
       "      <td>84774</td>\n",
       "      <td>39560</td>\n",
       "    </tr>\n",
       "    <tr>\n",
       "      <td>Groupement professionels agricoles</td>\n",
       "      <td>19015</td>\n",
       "      <td>837</td>\n",
       "    </tr>\n",
       "  </tbody>\n",
       "</table>\n",
       "</div>"
      ],
      "text/plain": [
       "                                                    remu_montant_ttc  \\\n",
       "categorie                                                              \n",
       "Académies, Fondation, sociétés savantes, organi...         322813011   \n",
       "Etablissement de santé                                      64974589   \n",
       "Presse et média                                             57627690   \n",
       "Professionnel de santé                                      52776762   \n",
       "Personnes morales assurant la formation initial...          44011923   \n",
       "Association professionnel de santé                          42372909   \n",
       "Association usager de santé                                  4089600   \n",
       "Editeur de logiciel                                          1425076   \n",
       "Groupement sanitaire                                          706899   \n",
       "Vétérinaire Personne Morale                                   475454   \n",
       "Vétérinaire                                                   380353   \n",
       "Etudiant                                                       95117   \n",
       "Association d'étudiants                                        84774   \n",
       "Groupement professionels agricoles                             19015   \n",
       "\n",
       "                                                    avant_montant_ttc  \n",
       "categorie                                                              \n",
       "Académies, Fondation, sociétés savantes, organi...           31419539  \n",
       "Etablissement de santé                                       29711417  \n",
       "Presse et média                                              10803801  \n",
       "Professionnel de santé                                      263609068  \n",
       "Personnes morales assurant la formation initial...           14021080  \n",
       "Association professionnel de santé                           33883023  \n",
       "Association usager de santé                                   7330485  \n",
       "Editeur de logiciel                                           1932572  \n",
       "Groupement sanitaire                                              253  \n",
       "Vétérinaire Personne Morale                                      3246  \n",
       "Vétérinaire                                                    680809  \n",
       "Etudiant                                                      7357059  \n",
       "Association d'étudiants                                         39560  \n",
       "Groupement professionels agricoles                                837  "
      ]
     },
     "execution_count": 69,
     "metadata": {},
     "output_type": "execute_result"
    }
   ],
   "source": [
    "remuneration_recu_benef.sort_values(['remu_montant_ttc'],ascending=False)"
   ]
  },
  {
   "cell_type": "code",
   "execution_count": 70,
   "metadata": {},
   "outputs": [
    {
     "data": {
      "application/vnd.plotly.v1+json": {
       "config": {
        "plotlyServerURL": "https://plot.ly"
       },
       "data": [
        {
         "name": "remu_montant_ttc",
         "type": "bar",
         "x": [
          "Académies, Fondation, sociétés savantes, organismes de conseils",
          "Association d'étudiants",
          "Association professionnel de santé",
          "Association usager de santé",
          "Editeur de logiciel",
          "Etablissement de santé",
          "Etudiant",
          "Groupement professionels agricoles",
          "Groupement sanitaire",
          "Personnes morales assurant la formation initiale ou continue des professionnels de santé",
          "Presse et média",
          "Professionnel de santé",
          "Vétérinaire",
          "Vétérinaire Personne Morale"
         ],
         "y": [
          322813011,
          84774,
          42372909,
          4089600,
          1425076,
          64974589,
          95117,
          19015,
          706899,
          44011923,
          57627690,
          52776762,
          380353,
          475454
         ]
        },
        {
         "name": "avant_montant_ttc",
         "type": "bar",
         "x": [
          "Académies, Fondation, sociétés savantes, organismes de conseils",
          "Association d'étudiants",
          "Association professionnel de santé",
          "Association usager de santé",
          "Editeur de logiciel",
          "Etablissement de santé",
          "Etudiant",
          "Groupement professionels agricoles",
          "Groupement sanitaire",
          "Personnes morales assurant la formation initiale ou continue des professionnels de santé",
          "Presse et média",
          "Professionnel de santé",
          "Vétérinaire",
          "Vétérinaire Personne Morale"
         ],
         "y": [
          31419539,
          39560,
          33883023,
          7330485,
          1932572,
          29711417,
          7357059,
          837,
          253,
          14021080,
          10803801,
          263609068,
          680809,
          3246
         ]
        }
       ],
       "layout": {
        "barmode": "group",
        "template": {
         "data": {
          "bar": [
           {
            "error_x": {
             "color": "#2a3f5f"
            },
            "error_y": {
             "color": "#2a3f5f"
            },
            "marker": {
             "line": {
              "color": "#E5ECF6",
              "width": 0.5
             }
            },
            "type": "bar"
           }
          ],
          "barpolar": [
           {
            "marker": {
             "line": {
              "color": "#E5ECF6",
              "width": 0.5
             }
            },
            "type": "barpolar"
           }
          ],
          "carpet": [
           {
            "aaxis": {
             "endlinecolor": "#2a3f5f",
             "gridcolor": "white",
             "linecolor": "white",
             "minorgridcolor": "white",
             "startlinecolor": "#2a3f5f"
            },
            "baxis": {
             "endlinecolor": "#2a3f5f",
             "gridcolor": "white",
             "linecolor": "white",
             "minorgridcolor": "white",
             "startlinecolor": "#2a3f5f"
            },
            "type": "carpet"
           }
          ],
          "choropleth": [
           {
            "colorbar": {
             "outlinewidth": 0,
             "ticks": ""
            },
            "type": "choropleth"
           }
          ],
          "contour": [
           {
            "colorbar": {
             "outlinewidth": 0,
             "ticks": ""
            },
            "colorscale": [
             [
              0,
              "#0d0887"
             ],
             [
              0.1111111111111111,
              "#46039f"
             ],
             [
              0.2222222222222222,
              "#7201a8"
             ],
             [
              0.3333333333333333,
              "#9c179e"
             ],
             [
              0.4444444444444444,
              "#bd3786"
             ],
             [
              0.5555555555555556,
              "#d8576b"
             ],
             [
              0.6666666666666666,
              "#ed7953"
             ],
             [
              0.7777777777777778,
              "#fb9f3a"
             ],
             [
              0.8888888888888888,
              "#fdca26"
             ],
             [
              1,
              "#f0f921"
             ]
            ],
            "type": "contour"
           }
          ],
          "contourcarpet": [
           {
            "colorbar": {
             "outlinewidth": 0,
             "ticks": ""
            },
            "type": "contourcarpet"
           }
          ],
          "heatmap": [
           {
            "colorbar": {
             "outlinewidth": 0,
             "ticks": ""
            },
            "colorscale": [
             [
              0,
              "#0d0887"
             ],
             [
              0.1111111111111111,
              "#46039f"
             ],
             [
              0.2222222222222222,
              "#7201a8"
             ],
             [
              0.3333333333333333,
              "#9c179e"
             ],
             [
              0.4444444444444444,
              "#bd3786"
             ],
             [
              0.5555555555555556,
              "#d8576b"
             ],
             [
              0.6666666666666666,
              "#ed7953"
             ],
             [
              0.7777777777777778,
              "#fb9f3a"
             ],
             [
              0.8888888888888888,
              "#fdca26"
             ],
             [
              1,
              "#f0f921"
             ]
            ],
            "type": "heatmap"
           }
          ],
          "heatmapgl": [
           {
            "colorbar": {
             "outlinewidth": 0,
             "ticks": ""
            },
            "colorscale": [
             [
              0,
              "#0d0887"
             ],
             [
              0.1111111111111111,
              "#46039f"
             ],
             [
              0.2222222222222222,
              "#7201a8"
             ],
             [
              0.3333333333333333,
              "#9c179e"
             ],
             [
              0.4444444444444444,
              "#bd3786"
             ],
             [
              0.5555555555555556,
              "#d8576b"
             ],
             [
              0.6666666666666666,
              "#ed7953"
             ],
             [
              0.7777777777777778,
              "#fb9f3a"
             ],
             [
              0.8888888888888888,
              "#fdca26"
             ],
             [
              1,
              "#f0f921"
             ]
            ],
            "type": "heatmapgl"
           }
          ],
          "histogram": [
           {
            "marker": {
             "colorbar": {
              "outlinewidth": 0,
              "ticks": ""
             }
            },
            "type": "histogram"
           }
          ],
          "histogram2d": [
           {
            "colorbar": {
             "outlinewidth": 0,
             "ticks": ""
            },
            "colorscale": [
             [
              0,
              "#0d0887"
             ],
             [
              0.1111111111111111,
              "#46039f"
             ],
             [
              0.2222222222222222,
              "#7201a8"
             ],
             [
              0.3333333333333333,
              "#9c179e"
             ],
             [
              0.4444444444444444,
              "#bd3786"
             ],
             [
              0.5555555555555556,
              "#d8576b"
             ],
             [
              0.6666666666666666,
              "#ed7953"
             ],
             [
              0.7777777777777778,
              "#fb9f3a"
             ],
             [
              0.8888888888888888,
              "#fdca26"
             ],
             [
              1,
              "#f0f921"
             ]
            ],
            "type": "histogram2d"
           }
          ],
          "histogram2dcontour": [
           {
            "colorbar": {
             "outlinewidth": 0,
             "ticks": ""
            },
            "colorscale": [
             [
              0,
              "#0d0887"
             ],
             [
              0.1111111111111111,
              "#46039f"
             ],
             [
              0.2222222222222222,
              "#7201a8"
             ],
             [
              0.3333333333333333,
              "#9c179e"
             ],
             [
              0.4444444444444444,
              "#bd3786"
             ],
             [
              0.5555555555555556,
              "#d8576b"
             ],
             [
              0.6666666666666666,
              "#ed7953"
             ],
             [
              0.7777777777777778,
              "#fb9f3a"
             ],
             [
              0.8888888888888888,
              "#fdca26"
             ],
             [
              1,
              "#f0f921"
             ]
            ],
            "type": "histogram2dcontour"
           }
          ],
          "mesh3d": [
           {
            "colorbar": {
             "outlinewidth": 0,
             "ticks": ""
            },
            "type": "mesh3d"
           }
          ],
          "parcoords": [
           {
            "line": {
             "colorbar": {
              "outlinewidth": 0,
              "ticks": ""
             }
            },
            "type": "parcoords"
           }
          ],
          "pie": [
           {
            "automargin": true,
            "type": "pie"
           }
          ],
          "scatter": [
           {
            "marker": {
             "colorbar": {
              "outlinewidth": 0,
              "ticks": ""
             }
            },
            "type": "scatter"
           }
          ],
          "scatter3d": [
           {
            "line": {
             "colorbar": {
              "outlinewidth": 0,
              "ticks": ""
             }
            },
            "marker": {
             "colorbar": {
              "outlinewidth": 0,
              "ticks": ""
             }
            },
            "type": "scatter3d"
           }
          ],
          "scattercarpet": [
           {
            "marker": {
             "colorbar": {
              "outlinewidth": 0,
              "ticks": ""
             }
            },
            "type": "scattercarpet"
           }
          ],
          "scattergeo": [
           {
            "marker": {
             "colorbar": {
              "outlinewidth": 0,
              "ticks": ""
             }
            },
            "type": "scattergeo"
           }
          ],
          "scattergl": [
           {
            "marker": {
             "colorbar": {
              "outlinewidth": 0,
              "ticks": ""
             }
            },
            "type": "scattergl"
           }
          ],
          "scattermapbox": [
           {
            "marker": {
             "colorbar": {
              "outlinewidth": 0,
              "ticks": ""
             }
            },
            "type": "scattermapbox"
           }
          ],
          "scatterpolar": [
           {
            "marker": {
             "colorbar": {
              "outlinewidth": 0,
              "ticks": ""
             }
            },
            "type": "scatterpolar"
           }
          ],
          "scatterpolargl": [
           {
            "marker": {
             "colorbar": {
              "outlinewidth": 0,
              "ticks": ""
             }
            },
            "type": "scatterpolargl"
           }
          ],
          "scatterternary": [
           {
            "marker": {
             "colorbar": {
              "outlinewidth": 0,
              "ticks": ""
             }
            },
            "type": "scatterternary"
           }
          ],
          "surface": [
           {
            "colorbar": {
             "outlinewidth": 0,
             "ticks": ""
            },
            "colorscale": [
             [
              0,
              "#0d0887"
             ],
             [
              0.1111111111111111,
              "#46039f"
             ],
             [
              0.2222222222222222,
              "#7201a8"
             ],
             [
              0.3333333333333333,
              "#9c179e"
             ],
             [
              0.4444444444444444,
              "#bd3786"
             ],
             [
              0.5555555555555556,
              "#d8576b"
             ],
             [
              0.6666666666666666,
              "#ed7953"
             ],
             [
              0.7777777777777778,
              "#fb9f3a"
             ],
             [
              0.8888888888888888,
              "#fdca26"
             ],
             [
              1,
              "#f0f921"
             ]
            ],
            "type": "surface"
           }
          ],
          "table": [
           {
            "cells": {
             "fill": {
              "color": "#EBF0F8"
             },
             "line": {
              "color": "white"
             }
            },
            "header": {
             "fill": {
              "color": "#C8D4E3"
             },
             "line": {
              "color": "white"
             }
            },
            "type": "table"
           }
          ]
         },
         "layout": {
          "annotationdefaults": {
           "arrowcolor": "#2a3f5f",
           "arrowhead": 0,
           "arrowwidth": 1
          },
          "coloraxis": {
           "colorbar": {
            "outlinewidth": 0,
            "ticks": ""
           }
          },
          "colorscale": {
           "diverging": [
            [
             0,
             "#8e0152"
            ],
            [
             0.1,
             "#c51b7d"
            ],
            [
             0.2,
             "#de77ae"
            ],
            [
             0.3,
             "#f1b6da"
            ],
            [
             0.4,
             "#fde0ef"
            ],
            [
             0.5,
             "#f7f7f7"
            ],
            [
             0.6,
             "#e6f5d0"
            ],
            [
             0.7,
             "#b8e186"
            ],
            [
             0.8,
             "#7fbc41"
            ],
            [
             0.9,
             "#4d9221"
            ],
            [
             1,
             "#276419"
            ]
           ],
           "sequential": [
            [
             0,
             "#0d0887"
            ],
            [
             0.1111111111111111,
             "#46039f"
            ],
            [
             0.2222222222222222,
             "#7201a8"
            ],
            [
             0.3333333333333333,
             "#9c179e"
            ],
            [
             0.4444444444444444,
             "#bd3786"
            ],
            [
             0.5555555555555556,
             "#d8576b"
            ],
            [
             0.6666666666666666,
             "#ed7953"
            ],
            [
             0.7777777777777778,
             "#fb9f3a"
            ],
            [
             0.8888888888888888,
             "#fdca26"
            ],
            [
             1,
             "#f0f921"
            ]
           ],
           "sequentialminus": [
            [
             0,
             "#0d0887"
            ],
            [
             0.1111111111111111,
             "#46039f"
            ],
            [
             0.2222222222222222,
             "#7201a8"
            ],
            [
             0.3333333333333333,
             "#9c179e"
            ],
            [
             0.4444444444444444,
             "#bd3786"
            ],
            [
             0.5555555555555556,
             "#d8576b"
            ],
            [
             0.6666666666666666,
             "#ed7953"
            ],
            [
             0.7777777777777778,
             "#fb9f3a"
            ],
            [
             0.8888888888888888,
             "#fdca26"
            ],
            [
             1,
             "#f0f921"
            ]
           ]
          },
          "colorway": [
           "#636efa",
           "#EF553B",
           "#00cc96",
           "#ab63fa",
           "#FFA15A",
           "#19d3f3",
           "#FF6692",
           "#B6E880",
           "#FF97FF",
           "#FECB52"
          ],
          "font": {
           "color": "#2a3f5f"
          },
          "geo": {
           "bgcolor": "white",
           "lakecolor": "white",
           "landcolor": "#E5ECF6",
           "showlakes": true,
           "showland": true,
           "subunitcolor": "white"
          },
          "hoverlabel": {
           "align": "left"
          },
          "hovermode": "closest",
          "mapbox": {
           "style": "light"
          },
          "paper_bgcolor": "white",
          "plot_bgcolor": "#E5ECF6",
          "polar": {
           "angularaxis": {
            "gridcolor": "white",
            "linecolor": "white",
            "ticks": ""
           },
           "bgcolor": "#E5ECF6",
           "radialaxis": {
            "gridcolor": "white",
            "linecolor": "white",
            "ticks": ""
           }
          },
          "scene": {
           "xaxis": {
            "backgroundcolor": "#E5ECF6",
            "gridcolor": "white",
            "gridwidth": 2,
            "linecolor": "white",
            "showbackground": true,
            "ticks": "",
            "zerolinecolor": "white"
           },
           "yaxis": {
            "backgroundcolor": "#E5ECF6",
            "gridcolor": "white",
            "gridwidth": 2,
            "linecolor": "white",
            "showbackground": true,
            "ticks": "",
            "zerolinecolor": "white"
           },
           "zaxis": {
            "backgroundcolor": "#E5ECF6",
            "gridcolor": "white",
            "gridwidth": 2,
            "linecolor": "white",
            "showbackground": true,
            "ticks": "",
            "zerolinecolor": "white"
           }
          },
          "shapedefaults": {
           "line": {
            "color": "#2a3f5f"
           }
          },
          "ternary": {
           "aaxis": {
            "gridcolor": "white",
            "linecolor": "white",
            "ticks": ""
           },
           "baxis": {
            "gridcolor": "white",
            "linecolor": "white",
            "ticks": ""
           },
           "bgcolor": "#E5ECF6",
           "caxis": {
            "gridcolor": "white",
            "linecolor": "white",
            "ticks": ""
           }
          },
          "title": {
           "x": 0.05
          },
          "xaxis": {
           "automargin": true,
           "gridcolor": "white",
           "linecolor": "white",
           "ticks": "",
           "title": {
            "standoff": 15
           },
           "zerolinecolor": "white",
           "zerolinewidth": 2
          },
          "yaxis": {
           "automargin": true,
           "gridcolor": "white",
           "linecolor": "white",
           "ticks": "",
           "title": {
            "standoff": 15
           },
           "zerolinecolor": "white",
           "zerolinewidth": 2
          }
         }
        }
       }
      },
      "text/html": [
       "<div>\n",
       "        \n",
       "        \n",
       "            <div id=\"2570fd9b-216c-46ce-857a-d4912d2bab6a\" class=\"plotly-graph-div\" style=\"height:525px; width:100%;\"></div>\n",
       "            <script type=\"text/javascript\">\n",
       "                require([\"plotly\"], function(Plotly) {\n",
       "                    window.PLOTLYENV=window.PLOTLYENV || {};\n",
       "                    \n",
       "                if (document.getElementById(\"2570fd9b-216c-46ce-857a-d4912d2bab6a\")) {\n",
       "                    Plotly.newPlot(\n",
       "                        '2570fd9b-216c-46ce-857a-d4912d2bab6a',\n",
       "                        [{\"name\": \"remu_montant_ttc\", \"type\": \"bar\", \"x\": [\"Acad\\u00e9mies, Fondation, soci\\u00e9t\\u00e9s savantes, organismes de conseils\", \"Association d'\\u00e9tudiants\", \"Association professionnel de sant\\u00e9\", \"Association usager de sant\\u00e9\", \"Editeur de logiciel\", \"Etablissement de sant\\u00e9\", \"Etudiant\", \"Groupement professionels agricoles\", \"Groupement sanitaire\", \"Personnes morales assurant la formation initiale ou continue des professionnels de sant\\u00e9\", \"Presse et m\\u00e9dia\", \"Professionnel de sant\\u00e9\", \"V\\u00e9t\\u00e9rinaire\", \"V\\u00e9t\\u00e9rinaire Personne Morale\"], \"y\": [322813011, 84774, 42372909, 4089600, 1425076, 64974589, 95117, 19015, 706899, 44011923, 57627690, 52776762, 380353, 475454]}, {\"name\": \"avant_montant_ttc\", \"type\": \"bar\", \"x\": [\"Acad\\u00e9mies, Fondation, soci\\u00e9t\\u00e9s savantes, organismes de conseils\", \"Association d'\\u00e9tudiants\", \"Association professionnel de sant\\u00e9\", \"Association usager de sant\\u00e9\", \"Editeur de logiciel\", \"Etablissement de sant\\u00e9\", \"Etudiant\", \"Groupement professionels agricoles\", \"Groupement sanitaire\", \"Personnes morales assurant la formation initiale ou continue des professionnels de sant\\u00e9\", \"Presse et m\\u00e9dia\", \"Professionnel de sant\\u00e9\", \"V\\u00e9t\\u00e9rinaire\", \"V\\u00e9t\\u00e9rinaire Personne Morale\"], \"y\": [31419539, 39560, 33883023, 7330485, 1932572, 29711417, 7357059, 837, 253, 14021080, 10803801, 263609068, 680809, 3246]}],\n",
       "                        {\"barmode\": \"group\", \"template\": {\"data\": {\"bar\": [{\"error_x\": {\"color\": \"#2a3f5f\"}, \"error_y\": {\"color\": \"#2a3f5f\"}, \"marker\": {\"line\": {\"color\": \"#E5ECF6\", \"width\": 0.5}}, \"type\": \"bar\"}], \"barpolar\": [{\"marker\": {\"line\": {\"color\": \"#E5ECF6\", \"width\": 0.5}}, \"type\": \"barpolar\"}], \"carpet\": [{\"aaxis\": {\"endlinecolor\": \"#2a3f5f\", \"gridcolor\": \"white\", \"linecolor\": \"white\", \"minorgridcolor\": \"white\", \"startlinecolor\": \"#2a3f5f\"}, \"baxis\": {\"endlinecolor\": \"#2a3f5f\", \"gridcolor\": \"white\", \"linecolor\": \"white\", \"minorgridcolor\": \"white\", \"startlinecolor\": \"#2a3f5f\"}, \"type\": \"carpet\"}], \"choropleth\": [{\"colorbar\": {\"outlinewidth\": 0, \"ticks\": \"\"}, \"type\": \"choropleth\"}], \"contour\": [{\"colorbar\": {\"outlinewidth\": 0, \"ticks\": \"\"}, \"colorscale\": [[0.0, \"#0d0887\"], [0.1111111111111111, \"#46039f\"], [0.2222222222222222, \"#7201a8\"], [0.3333333333333333, \"#9c179e\"], [0.4444444444444444, \"#bd3786\"], [0.5555555555555556, \"#d8576b\"], [0.6666666666666666, \"#ed7953\"], [0.7777777777777778, \"#fb9f3a\"], [0.8888888888888888, \"#fdca26\"], [1.0, \"#f0f921\"]], \"type\": \"contour\"}], \"contourcarpet\": [{\"colorbar\": {\"outlinewidth\": 0, \"ticks\": \"\"}, \"type\": \"contourcarpet\"}], \"heatmap\": [{\"colorbar\": {\"outlinewidth\": 0, \"ticks\": \"\"}, \"colorscale\": [[0.0, \"#0d0887\"], [0.1111111111111111, \"#46039f\"], [0.2222222222222222, \"#7201a8\"], [0.3333333333333333, \"#9c179e\"], [0.4444444444444444, \"#bd3786\"], [0.5555555555555556, \"#d8576b\"], [0.6666666666666666, \"#ed7953\"], [0.7777777777777778, \"#fb9f3a\"], [0.8888888888888888, \"#fdca26\"], [1.0, \"#f0f921\"]], \"type\": \"heatmap\"}], \"heatmapgl\": [{\"colorbar\": {\"outlinewidth\": 0, \"ticks\": \"\"}, \"colorscale\": [[0.0, \"#0d0887\"], [0.1111111111111111, \"#46039f\"], [0.2222222222222222, \"#7201a8\"], [0.3333333333333333, \"#9c179e\"], [0.4444444444444444, \"#bd3786\"], [0.5555555555555556, \"#d8576b\"], [0.6666666666666666, \"#ed7953\"], [0.7777777777777778, \"#fb9f3a\"], [0.8888888888888888, \"#fdca26\"], [1.0, \"#f0f921\"]], \"type\": \"heatmapgl\"}], \"histogram\": [{\"marker\": {\"colorbar\": {\"outlinewidth\": 0, \"ticks\": \"\"}}, \"type\": \"histogram\"}], \"histogram2d\": [{\"colorbar\": {\"outlinewidth\": 0, \"ticks\": \"\"}, \"colorscale\": [[0.0, \"#0d0887\"], [0.1111111111111111, \"#46039f\"], [0.2222222222222222, \"#7201a8\"], [0.3333333333333333, \"#9c179e\"], [0.4444444444444444, \"#bd3786\"], [0.5555555555555556, \"#d8576b\"], [0.6666666666666666, \"#ed7953\"], [0.7777777777777778, \"#fb9f3a\"], [0.8888888888888888, \"#fdca26\"], [1.0, \"#f0f921\"]], \"type\": \"histogram2d\"}], \"histogram2dcontour\": [{\"colorbar\": {\"outlinewidth\": 0, \"ticks\": \"\"}, \"colorscale\": [[0.0, \"#0d0887\"], [0.1111111111111111, \"#46039f\"], [0.2222222222222222, \"#7201a8\"], [0.3333333333333333, \"#9c179e\"], [0.4444444444444444, \"#bd3786\"], [0.5555555555555556, \"#d8576b\"], [0.6666666666666666, \"#ed7953\"], [0.7777777777777778, \"#fb9f3a\"], [0.8888888888888888, \"#fdca26\"], [1.0, \"#f0f921\"]], \"type\": \"histogram2dcontour\"}], \"mesh3d\": [{\"colorbar\": {\"outlinewidth\": 0, \"ticks\": \"\"}, \"type\": \"mesh3d\"}], \"parcoords\": [{\"line\": {\"colorbar\": {\"outlinewidth\": 0, \"ticks\": \"\"}}, \"type\": \"parcoords\"}], \"pie\": [{\"automargin\": true, \"type\": \"pie\"}], \"scatter\": [{\"marker\": {\"colorbar\": {\"outlinewidth\": 0, \"ticks\": \"\"}}, \"type\": \"scatter\"}], \"scatter3d\": [{\"line\": {\"colorbar\": {\"outlinewidth\": 0, \"ticks\": \"\"}}, \"marker\": {\"colorbar\": {\"outlinewidth\": 0, \"ticks\": \"\"}}, \"type\": \"scatter3d\"}], \"scattercarpet\": [{\"marker\": {\"colorbar\": {\"outlinewidth\": 0, \"ticks\": \"\"}}, \"type\": \"scattercarpet\"}], \"scattergeo\": [{\"marker\": {\"colorbar\": {\"outlinewidth\": 0, \"ticks\": \"\"}}, \"type\": \"scattergeo\"}], \"scattergl\": [{\"marker\": {\"colorbar\": {\"outlinewidth\": 0, \"ticks\": \"\"}}, \"type\": \"scattergl\"}], \"scattermapbox\": [{\"marker\": {\"colorbar\": {\"outlinewidth\": 0, \"ticks\": \"\"}}, \"type\": \"scattermapbox\"}], \"scatterpolar\": [{\"marker\": {\"colorbar\": {\"outlinewidth\": 0, \"ticks\": \"\"}}, \"type\": \"scatterpolar\"}], \"scatterpolargl\": [{\"marker\": {\"colorbar\": {\"outlinewidth\": 0, \"ticks\": \"\"}}, \"type\": \"scatterpolargl\"}], \"scatterternary\": [{\"marker\": {\"colorbar\": {\"outlinewidth\": 0, \"ticks\": \"\"}}, \"type\": \"scatterternary\"}], \"surface\": [{\"colorbar\": {\"outlinewidth\": 0, \"ticks\": \"\"}, \"colorscale\": [[0.0, \"#0d0887\"], [0.1111111111111111, \"#46039f\"], [0.2222222222222222, \"#7201a8\"], [0.3333333333333333, \"#9c179e\"], [0.4444444444444444, \"#bd3786\"], [0.5555555555555556, \"#d8576b\"], [0.6666666666666666, \"#ed7953\"], [0.7777777777777778, \"#fb9f3a\"], [0.8888888888888888, \"#fdca26\"], [1.0, \"#f0f921\"]], \"type\": \"surface\"}], \"table\": [{\"cells\": {\"fill\": {\"color\": \"#EBF0F8\"}, \"line\": {\"color\": \"white\"}}, \"header\": {\"fill\": {\"color\": \"#C8D4E3\"}, \"line\": {\"color\": \"white\"}}, \"type\": \"table\"}]}, \"layout\": {\"annotationdefaults\": {\"arrowcolor\": \"#2a3f5f\", \"arrowhead\": 0, \"arrowwidth\": 1}, \"coloraxis\": {\"colorbar\": {\"outlinewidth\": 0, \"ticks\": \"\"}}, \"colorscale\": {\"diverging\": [[0, \"#8e0152\"], [0.1, \"#c51b7d\"], [0.2, \"#de77ae\"], [0.3, \"#f1b6da\"], [0.4, \"#fde0ef\"], [0.5, \"#f7f7f7\"], [0.6, \"#e6f5d0\"], [0.7, \"#b8e186\"], [0.8, \"#7fbc41\"], [0.9, \"#4d9221\"], [1, \"#276419\"]], \"sequential\": [[0.0, \"#0d0887\"], [0.1111111111111111, \"#46039f\"], [0.2222222222222222, \"#7201a8\"], [0.3333333333333333, \"#9c179e\"], [0.4444444444444444, \"#bd3786\"], [0.5555555555555556, \"#d8576b\"], [0.6666666666666666, \"#ed7953\"], [0.7777777777777778, \"#fb9f3a\"], [0.8888888888888888, \"#fdca26\"], [1.0, \"#f0f921\"]], \"sequentialminus\": [[0.0, \"#0d0887\"], [0.1111111111111111, \"#46039f\"], [0.2222222222222222, \"#7201a8\"], [0.3333333333333333, \"#9c179e\"], [0.4444444444444444, \"#bd3786\"], [0.5555555555555556, \"#d8576b\"], [0.6666666666666666, \"#ed7953\"], [0.7777777777777778, \"#fb9f3a\"], [0.8888888888888888, \"#fdca26\"], [1.0, \"#f0f921\"]]}, \"colorway\": [\"#636efa\", \"#EF553B\", \"#00cc96\", \"#ab63fa\", \"#FFA15A\", \"#19d3f3\", \"#FF6692\", \"#B6E880\", \"#FF97FF\", \"#FECB52\"], \"font\": {\"color\": \"#2a3f5f\"}, \"geo\": {\"bgcolor\": \"white\", \"lakecolor\": \"white\", \"landcolor\": \"#E5ECF6\", \"showlakes\": true, \"showland\": true, \"subunitcolor\": \"white\"}, \"hoverlabel\": {\"align\": \"left\"}, \"hovermode\": \"closest\", \"mapbox\": {\"style\": \"light\"}, \"paper_bgcolor\": \"white\", \"plot_bgcolor\": \"#E5ECF6\", \"polar\": {\"angularaxis\": {\"gridcolor\": \"white\", \"linecolor\": \"white\", \"ticks\": \"\"}, \"bgcolor\": \"#E5ECF6\", \"radialaxis\": {\"gridcolor\": \"white\", \"linecolor\": \"white\", \"ticks\": \"\"}}, \"scene\": {\"xaxis\": {\"backgroundcolor\": \"#E5ECF6\", \"gridcolor\": \"white\", \"gridwidth\": 2, \"linecolor\": \"white\", \"showbackground\": true, \"ticks\": \"\", \"zerolinecolor\": \"white\"}, \"yaxis\": {\"backgroundcolor\": \"#E5ECF6\", \"gridcolor\": \"white\", \"gridwidth\": 2, \"linecolor\": \"white\", \"showbackground\": true, \"ticks\": \"\", \"zerolinecolor\": \"white\"}, \"zaxis\": {\"backgroundcolor\": \"#E5ECF6\", \"gridcolor\": \"white\", \"gridwidth\": 2, \"linecolor\": \"white\", \"showbackground\": true, \"ticks\": \"\", \"zerolinecolor\": \"white\"}}, \"shapedefaults\": {\"line\": {\"color\": \"#2a3f5f\"}}, \"ternary\": {\"aaxis\": {\"gridcolor\": \"white\", \"linecolor\": \"white\", \"ticks\": \"\"}, \"baxis\": {\"gridcolor\": \"white\", \"linecolor\": \"white\", \"ticks\": \"\"}, \"bgcolor\": \"#E5ECF6\", \"caxis\": {\"gridcolor\": \"white\", \"linecolor\": \"white\", \"ticks\": \"\"}}, \"title\": {\"x\": 0.05}, \"xaxis\": {\"automargin\": true, \"gridcolor\": \"white\", \"linecolor\": \"white\", \"ticks\": \"\", \"title\": {\"standoff\": 15}, \"zerolinecolor\": \"white\", \"zerolinewidth\": 2}, \"yaxis\": {\"automargin\": true, \"gridcolor\": \"white\", \"linecolor\": \"white\", \"ticks\": \"\", \"title\": {\"standoff\": 15}, \"zerolinecolor\": \"white\", \"zerolinewidth\": 2}}}},\n",
       "                        {\"responsive\": true}\n",
       "                    ).then(function(){\n",
       "                            \n",
       "var gd = document.getElementById('2570fd9b-216c-46ce-857a-d4912d2bab6a');\n",
       "var x = new MutationObserver(function (mutations, observer) {{\n",
       "        var display = window.getComputedStyle(gd).display;\n",
       "        if (!display || display === 'none') {{\n",
       "            console.log([gd, 'removed!']);\n",
       "            Plotly.purge(gd);\n",
       "            observer.disconnect();\n",
       "        }}\n",
       "}});\n",
       "\n",
       "// Listen for the removal of the full notebook cells\n",
       "var notebookContainer = gd.closest('#notebook-container');\n",
       "if (notebookContainer) {{\n",
       "    x.observe(notebookContainer, {childList: true});\n",
       "}}\n",
       "\n",
       "// Listen for the clearing of the current output cell\n",
       "var outputEl = gd.closest('.output');\n",
       "if (outputEl) {{\n",
       "    x.observe(outputEl, {childList: true});\n",
       "}}\n",
       "\n",
       "                        })\n",
       "                };\n",
       "                });\n",
       "            </script>\n",
       "        </div>"
      ]
     },
     "metadata": {},
     "output_type": "display_data"
    }
   ],
   "source": [
    "import plotly.graph_objects as go\n",
    "\n",
    "fig = go.Figure(data=[\n",
    "    go.Bar(name='remu_montant_ttc', x=remuneration_recu_benef.index, y=remuneration_recu_benef['remu_montant_ttc']),\n",
    "    go.Bar(name='avant_montant_ttc', x=remuneration_recu_benef.index, y=remuneration_recu_benef['avant_montant_ttc'])\n",
    "])\n",
    "# Change the bar mode\n",
    "fig.update_layout(barmode='group')\n",
    "fig.show()"
   ]
  },
  {
   "cell_type": "code",
   "execution_count": 41,
   "metadata": {},
   "outputs": [],
   "source": [
    "#### 4.2 Recherche des 25 entreprises qui rémunèrent le plus ou avantage"
   ]
  },
  {
   "cell_type": "code",
   "execution_count": 71,
   "metadata": {},
   "outputs": [],
   "source": [
    "resultat1=pd.DataFrame(conventionSample.groupby(['denomination_sociale'])['conv_objet'].count())\n",
    "resultat2=pd.DataFrame(avantageSample.groupby(['denomination_sociale'])['avant_montant_ttc'].sum())\n",
    "resultat3=pd.DataFrame(remunerationSample.groupby(['denomination_sociale'])['remu_montant_ttc'].sum())"
   ]
  },
  {
   "cell_type": "code",
   "execution_count": 74,
   "metadata": {},
   "outputs": [],
   "source": [
    "resultat3=resultat3.sort_values(by = 'remu_montant_ttc', ascending = False).head(25)"
   ]
  },
  {
   "cell_type": "code",
   "execution_count": 76,
   "metadata": {},
   "outputs": [],
   "source": [
    "import plotly.express as px"
   ]
  },
  {
   "cell_type": "code",
   "execution_count": 78,
   "metadata": {},
   "outputs": [
    {
     "data": {
      "application/vnd.plotly.v1+json": {
       "config": {
        "plotlyServerURL": "https://plot.ly"
       },
       "data": [
        {
         "alignmentgroup": "True",
         "hoverlabel": {
          "namelength": 0
         },
         "hovertemplate": "x=%{x}<br>remu_montant_ttc=%{y}",
         "legendgroup": "",
         "marker": {
          "color": "#636efa"
         },
         "name": "",
         "offsetgroup": "",
         "orientation": "v",
         "showlegend": false,
         "textposition": "auto",
         "type": "bar",
         "x": [
          "SANOFI-AVENTIS RECHERCHE & DEVELOPPEMENT",
          "SANOFI AVENTIS FRANCE",
          "SANOFI-AVENTIS GROUPE",
          "LES LABORATOIRES SERVIER",
          "NOVARTIS PHARMA SAS",
          "PFIZER SAS",
          "ARROW GENERIQUES SAS",
          "LABORATOIRE GLAXOSMITHKLINE",
          "GLAXOSMITHKLINE SANTE GRAND PUBLIC",
          "Bayer HealthCare SAS",
          "AbbVie",
          "IPSEN PHARMA",
          "ASTRAZENECA",
          "JANSSEN-CILAG",
          "Lilly France SAS",
          "BRISTOL-MYERS SQUIBB",
          "PIERRE FABRE MEDICAMENT",
          "BOIRON",
          "Laboratoires THEA",
          "BOEHRINGER INGELHEIM FRANCE",
          "AMGEN SAS",
          "FERRING SAS",
          "Zambon France",
          "MedDay Pharmaceuticals",
          "IPSEN INNOVATION"
         ],
         "xaxis": "x",
         "y": [
          70370642,
          42880083,
          30267493,
          25279850,
          20137732,
          19929960,
          19066014,
          18390562,
          17470610,
          17117365,
          15999242,
          15493257,
          14306683,
          12959571,
          12482643,
          11156057,
          9812920,
          9684990,
          9408281,
          8673196,
          6297338,
          5581022,
          5390809,
          5322399,
          4863376
         ],
         "yaxis": "y"
        }
       ],
       "layout": {
        "barmode": "relative",
        "legend": {
         "tracegroupgap": 0
        },
        "margin": {
         "t": 60
        },
        "template": {
         "data": {
          "bar": [
           {
            "error_x": {
             "color": "#2a3f5f"
            },
            "error_y": {
             "color": "#2a3f5f"
            },
            "marker": {
             "line": {
              "color": "#E5ECF6",
              "width": 0.5
             }
            },
            "type": "bar"
           }
          ],
          "barpolar": [
           {
            "marker": {
             "line": {
              "color": "#E5ECF6",
              "width": 0.5
             }
            },
            "type": "barpolar"
           }
          ],
          "carpet": [
           {
            "aaxis": {
             "endlinecolor": "#2a3f5f",
             "gridcolor": "white",
             "linecolor": "white",
             "minorgridcolor": "white",
             "startlinecolor": "#2a3f5f"
            },
            "baxis": {
             "endlinecolor": "#2a3f5f",
             "gridcolor": "white",
             "linecolor": "white",
             "minorgridcolor": "white",
             "startlinecolor": "#2a3f5f"
            },
            "type": "carpet"
           }
          ],
          "choropleth": [
           {
            "colorbar": {
             "outlinewidth": 0,
             "ticks": ""
            },
            "type": "choropleth"
           }
          ],
          "contour": [
           {
            "colorbar": {
             "outlinewidth": 0,
             "ticks": ""
            },
            "colorscale": [
             [
              0,
              "#0d0887"
             ],
             [
              0.1111111111111111,
              "#46039f"
             ],
             [
              0.2222222222222222,
              "#7201a8"
             ],
             [
              0.3333333333333333,
              "#9c179e"
             ],
             [
              0.4444444444444444,
              "#bd3786"
             ],
             [
              0.5555555555555556,
              "#d8576b"
             ],
             [
              0.6666666666666666,
              "#ed7953"
             ],
             [
              0.7777777777777778,
              "#fb9f3a"
             ],
             [
              0.8888888888888888,
              "#fdca26"
             ],
             [
              1,
              "#f0f921"
             ]
            ],
            "type": "contour"
           }
          ],
          "contourcarpet": [
           {
            "colorbar": {
             "outlinewidth": 0,
             "ticks": ""
            },
            "type": "contourcarpet"
           }
          ],
          "heatmap": [
           {
            "colorbar": {
             "outlinewidth": 0,
             "ticks": ""
            },
            "colorscale": [
             [
              0,
              "#0d0887"
             ],
             [
              0.1111111111111111,
              "#46039f"
             ],
             [
              0.2222222222222222,
              "#7201a8"
             ],
             [
              0.3333333333333333,
              "#9c179e"
             ],
             [
              0.4444444444444444,
              "#bd3786"
             ],
             [
              0.5555555555555556,
              "#d8576b"
             ],
             [
              0.6666666666666666,
              "#ed7953"
             ],
             [
              0.7777777777777778,
              "#fb9f3a"
             ],
             [
              0.8888888888888888,
              "#fdca26"
             ],
             [
              1,
              "#f0f921"
             ]
            ],
            "type": "heatmap"
           }
          ],
          "heatmapgl": [
           {
            "colorbar": {
             "outlinewidth": 0,
             "ticks": ""
            },
            "colorscale": [
             [
              0,
              "#0d0887"
             ],
             [
              0.1111111111111111,
              "#46039f"
             ],
             [
              0.2222222222222222,
              "#7201a8"
             ],
             [
              0.3333333333333333,
              "#9c179e"
             ],
             [
              0.4444444444444444,
              "#bd3786"
             ],
             [
              0.5555555555555556,
              "#d8576b"
             ],
             [
              0.6666666666666666,
              "#ed7953"
             ],
             [
              0.7777777777777778,
              "#fb9f3a"
             ],
             [
              0.8888888888888888,
              "#fdca26"
             ],
             [
              1,
              "#f0f921"
             ]
            ],
            "type": "heatmapgl"
           }
          ],
          "histogram": [
           {
            "marker": {
             "colorbar": {
              "outlinewidth": 0,
              "ticks": ""
             }
            },
            "type": "histogram"
           }
          ],
          "histogram2d": [
           {
            "colorbar": {
             "outlinewidth": 0,
             "ticks": ""
            },
            "colorscale": [
             [
              0,
              "#0d0887"
             ],
             [
              0.1111111111111111,
              "#46039f"
             ],
             [
              0.2222222222222222,
              "#7201a8"
             ],
             [
              0.3333333333333333,
              "#9c179e"
             ],
             [
              0.4444444444444444,
              "#bd3786"
             ],
             [
              0.5555555555555556,
              "#d8576b"
             ],
             [
              0.6666666666666666,
              "#ed7953"
             ],
             [
              0.7777777777777778,
              "#fb9f3a"
             ],
             [
              0.8888888888888888,
              "#fdca26"
             ],
             [
              1,
              "#f0f921"
             ]
            ],
            "type": "histogram2d"
           }
          ],
          "histogram2dcontour": [
           {
            "colorbar": {
             "outlinewidth": 0,
             "ticks": ""
            },
            "colorscale": [
             [
              0,
              "#0d0887"
             ],
             [
              0.1111111111111111,
              "#46039f"
             ],
             [
              0.2222222222222222,
              "#7201a8"
             ],
             [
              0.3333333333333333,
              "#9c179e"
             ],
             [
              0.4444444444444444,
              "#bd3786"
             ],
             [
              0.5555555555555556,
              "#d8576b"
             ],
             [
              0.6666666666666666,
              "#ed7953"
             ],
             [
              0.7777777777777778,
              "#fb9f3a"
             ],
             [
              0.8888888888888888,
              "#fdca26"
             ],
             [
              1,
              "#f0f921"
             ]
            ],
            "type": "histogram2dcontour"
           }
          ],
          "mesh3d": [
           {
            "colorbar": {
             "outlinewidth": 0,
             "ticks": ""
            },
            "type": "mesh3d"
           }
          ],
          "parcoords": [
           {
            "line": {
             "colorbar": {
              "outlinewidth": 0,
              "ticks": ""
             }
            },
            "type": "parcoords"
           }
          ],
          "pie": [
           {
            "automargin": true,
            "type": "pie"
           }
          ],
          "scatter": [
           {
            "marker": {
             "colorbar": {
              "outlinewidth": 0,
              "ticks": ""
             }
            },
            "type": "scatter"
           }
          ],
          "scatter3d": [
           {
            "line": {
             "colorbar": {
              "outlinewidth": 0,
              "ticks": ""
             }
            },
            "marker": {
             "colorbar": {
              "outlinewidth": 0,
              "ticks": ""
             }
            },
            "type": "scatter3d"
           }
          ],
          "scattercarpet": [
           {
            "marker": {
             "colorbar": {
              "outlinewidth": 0,
              "ticks": ""
             }
            },
            "type": "scattercarpet"
           }
          ],
          "scattergeo": [
           {
            "marker": {
             "colorbar": {
              "outlinewidth": 0,
              "ticks": ""
             }
            },
            "type": "scattergeo"
           }
          ],
          "scattergl": [
           {
            "marker": {
             "colorbar": {
              "outlinewidth": 0,
              "ticks": ""
             }
            },
            "type": "scattergl"
           }
          ],
          "scattermapbox": [
           {
            "marker": {
             "colorbar": {
              "outlinewidth": 0,
              "ticks": ""
             }
            },
            "type": "scattermapbox"
           }
          ],
          "scatterpolar": [
           {
            "marker": {
             "colorbar": {
              "outlinewidth": 0,
              "ticks": ""
             }
            },
            "type": "scatterpolar"
           }
          ],
          "scatterpolargl": [
           {
            "marker": {
             "colorbar": {
              "outlinewidth": 0,
              "ticks": ""
             }
            },
            "type": "scatterpolargl"
           }
          ],
          "scatterternary": [
           {
            "marker": {
             "colorbar": {
              "outlinewidth": 0,
              "ticks": ""
             }
            },
            "type": "scatterternary"
           }
          ],
          "surface": [
           {
            "colorbar": {
             "outlinewidth": 0,
             "ticks": ""
            },
            "colorscale": [
             [
              0,
              "#0d0887"
             ],
             [
              0.1111111111111111,
              "#46039f"
             ],
             [
              0.2222222222222222,
              "#7201a8"
             ],
             [
              0.3333333333333333,
              "#9c179e"
             ],
             [
              0.4444444444444444,
              "#bd3786"
             ],
             [
              0.5555555555555556,
              "#d8576b"
             ],
             [
              0.6666666666666666,
              "#ed7953"
             ],
             [
              0.7777777777777778,
              "#fb9f3a"
             ],
             [
              0.8888888888888888,
              "#fdca26"
             ],
             [
              1,
              "#f0f921"
             ]
            ],
            "type": "surface"
           }
          ],
          "table": [
           {
            "cells": {
             "fill": {
              "color": "#EBF0F8"
             },
             "line": {
              "color": "white"
             }
            },
            "header": {
             "fill": {
              "color": "#C8D4E3"
             },
             "line": {
              "color": "white"
             }
            },
            "type": "table"
           }
          ]
         },
         "layout": {
          "annotationdefaults": {
           "arrowcolor": "#2a3f5f",
           "arrowhead": 0,
           "arrowwidth": 1
          },
          "coloraxis": {
           "colorbar": {
            "outlinewidth": 0,
            "ticks": ""
           }
          },
          "colorscale": {
           "diverging": [
            [
             0,
             "#8e0152"
            ],
            [
             0.1,
             "#c51b7d"
            ],
            [
             0.2,
             "#de77ae"
            ],
            [
             0.3,
             "#f1b6da"
            ],
            [
             0.4,
             "#fde0ef"
            ],
            [
             0.5,
             "#f7f7f7"
            ],
            [
             0.6,
             "#e6f5d0"
            ],
            [
             0.7,
             "#b8e186"
            ],
            [
             0.8,
             "#7fbc41"
            ],
            [
             0.9,
             "#4d9221"
            ],
            [
             1,
             "#276419"
            ]
           ],
           "sequential": [
            [
             0,
             "#0d0887"
            ],
            [
             0.1111111111111111,
             "#46039f"
            ],
            [
             0.2222222222222222,
             "#7201a8"
            ],
            [
             0.3333333333333333,
             "#9c179e"
            ],
            [
             0.4444444444444444,
             "#bd3786"
            ],
            [
             0.5555555555555556,
             "#d8576b"
            ],
            [
             0.6666666666666666,
             "#ed7953"
            ],
            [
             0.7777777777777778,
             "#fb9f3a"
            ],
            [
             0.8888888888888888,
             "#fdca26"
            ],
            [
             1,
             "#f0f921"
            ]
           ],
           "sequentialminus": [
            [
             0,
             "#0d0887"
            ],
            [
             0.1111111111111111,
             "#46039f"
            ],
            [
             0.2222222222222222,
             "#7201a8"
            ],
            [
             0.3333333333333333,
             "#9c179e"
            ],
            [
             0.4444444444444444,
             "#bd3786"
            ],
            [
             0.5555555555555556,
             "#d8576b"
            ],
            [
             0.6666666666666666,
             "#ed7953"
            ],
            [
             0.7777777777777778,
             "#fb9f3a"
            ],
            [
             0.8888888888888888,
             "#fdca26"
            ],
            [
             1,
             "#f0f921"
            ]
           ]
          },
          "colorway": [
           "#636efa",
           "#EF553B",
           "#00cc96",
           "#ab63fa",
           "#FFA15A",
           "#19d3f3",
           "#FF6692",
           "#B6E880",
           "#FF97FF",
           "#FECB52"
          ],
          "font": {
           "color": "#2a3f5f"
          },
          "geo": {
           "bgcolor": "white",
           "lakecolor": "white",
           "landcolor": "#E5ECF6",
           "showlakes": true,
           "showland": true,
           "subunitcolor": "white"
          },
          "hoverlabel": {
           "align": "left"
          },
          "hovermode": "closest",
          "mapbox": {
           "style": "light"
          },
          "paper_bgcolor": "white",
          "plot_bgcolor": "#E5ECF6",
          "polar": {
           "angularaxis": {
            "gridcolor": "white",
            "linecolor": "white",
            "ticks": ""
           },
           "bgcolor": "#E5ECF6",
           "radialaxis": {
            "gridcolor": "white",
            "linecolor": "white",
            "ticks": ""
           }
          },
          "scene": {
           "xaxis": {
            "backgroundcolor": "#E5ECF6",
            "gridcolor": "white",
            "gridwidth": 2,
            "linecolor": "white",
            "showbackground": true,
            "ticks": "",
            "zerolinecolor": "white"
           },
           "yaxis": {
            "backgroundcolor": "#E5ECF6",
            "gridcolor": "white",
            "gridwidth": 2,
            "linecolor": "white",
            "showbackground": true,
            "ticks": "",
            "zerolinecolor": "white"
           },
           "zaxis": {
            "backgroundcolor": "#E5ECF6",
            "gridcolor": "white",
            "gridwidth": 2,
            "linecolor": "white",
            "showbackground": true,
            "ticks": "",
            "zerolinecolor": "white"
           }
          },
          "shapedefaults": {
           "line": {
            "color": "#2a3f5f"
           }
          },
          "ternary": {
           "aaxis": {
            "gridcolor": "white",
            "linecolor": "white",
            "ticks": ""
           },
           "baxis": {
            "gridcolor": "white",
            "linecolor": "white",
            "ticks": ""
           },
           "bgcolor": "#E5ECF6",
           "caxis": {
            "gridcolor": "white",
            "linecolor": "white",
            "ticks": ""
           }
          },
          "title": {
           "x": 0.05
          },
          "xaxis": {
           "automargin": true,
           "gridcolor": "white",
           "linecolor": "white",
           "ticks": "",
           "title": {
            "standoff": 15
           },
           "zerolinecolor": "white",
           "zerolinewidth": 2
          },
          "yaxis": {
           "automargin": true,
           "gridcolor": "white",
           "linecolor": "white",
           "ticks": "",
           "title": {
            "standoff": 15
           },
           "zerolinecolor": "white",
           "zerolinewidth": 2
          }
         }
        },
        "title": {
         "text": "Rémunération reçue par chaque entreprise"
        },
        "xaxis": {
         "anchor": "y",
         "domain": [
          0,
          1
         ],
         "title": {
          "text": "x"
         }
        },
        "yaxis": {
         "anchor": "x",
         "domain": [
          0,
          1
         ],
         "title": {
          "text": "remu_montant_ttc"
         }
        }
       }
      },
      "text/html": [
       "<div>\n",
       "        \n",
       "        \n",
       "            <div id=\"083e166b-0138-4b97-9de0-9ef036a8dbbf\" class=\"plotly-graph-div\" style=\"height:525px; width:100%;\"></div>\n",
       "            <script type=\"text/javascript\">\n",
       "                require([\"plotly\"], function(Plotly) {\n",
       "                    window.PLOTLYENV=window.PLOTLYENV || {};\n",
       "                    \n",
       "                if (document.getElementById(\"083e166b-0138-4b97-9de0-9ef036a8dbbf\")) {\n",
       "                    Plotly.newPlot(\n",
       "                        '083e166b-0138-4b97-9de0-9ef036a8dbbf',\n",
       "                        [{\"alignmentgroup\": \"True\", \"hoverlabel\": {\"namelength\": 0}, \"hovertemplate\": \"x=%{x}<br>remu_montant_ttc=%{y}\", \"legendgroup\": \"\", \"marker\": {\"color\": \"#636efa\"}, \"name\": \"\", \"offsetgroup\": \"\", \"orientation\": \"v\", \"showlegend\": false, \"textposition\": \"auto\", \"type\": \"bar\", \"x\": [\"SANOFI-AVENTIS RECHERCHE & DEVELOPPEMENT\", \"SANOFI AVENTIS FRANCE\", \"SANOFI-AVENTIS GROUPE\", \"LES LABORATOIRES SERVIER\", \"NOVARTIS PHARMA SAS\", \"PFIZER SAS\", \"ARROW GENERIQUES SAS\", \"LABORATOIRE GLAXOSMITHKLINE\", \"GLAXOSMITHKLINE SANTE GRAND PUBLIC\", \"Bayer HealthCare SAS\", \"AbbVie\", \"IPSEN PHARMA\", \"ASTRAZENECA\", \"JANSSEN-CILAG\", \"Lilly France SAS\", \"BRISTOL-MYERS SQUIBB\", \"PIERRE FABRE MEDICAMENT\", \"BOIRON\", \"Laboratoires THEA\", \"BOEHRINGER INGELHEIM FRANCE\", \"AMGEN SAS\", \"FERRING SAS\", \"Zambon France\", \"MedDay Pharmaceuticals\", \"IPSEN INNOVATION\"], \"xaxis\": \"x\", \"y\": [70370642, 42880083, 30267493, 25279850, 20137732, 19929960, 19066014, 18390562, 17470610, 17117365, 15999242, 15493257, 14306683, 12959571, 12482643, 11156057, 9812920, 9684990, 9408281, 8673196, 6297338, 5581022, 5390809, 5322399, 4863376], \"yaxis\": \"y\"}],\n",
       "                        {\"barmode\": \"relative\", \"legend\": {\"tracegroupgap\": 0}, \"margin\": {\"t\": 60}, \"template\": {\"data\": {\"bar\": [{\"error_x\": {\"color\": \"#2a3f5f\"}, \"error_y\": {\"color\": \"#2a3f5f\"}, \"marker\": {\"line\": {\"color\": \"#E5ECF6\", \"width\": 0.5}}, \"type\": \"bar\"}], \"barpolar\": [{\"marker\": {\"line\": {\"color\": \"#E5ECF6\", \"width\": 0.5}}, \"type\": \"barpolar\"}], \"carpet\": [{\"aaxis\": {\"endlinecolor\": \"#2a3f5f\", \"gridcolor\": \"white\", \"linecolor\": \"white\", \"minorgridcolor\": \"white\", \"startlinecolor\": \"#2a3f5f\"}, \"baxis\": {\"endlinecolor\": \"#2a3f5f\", \"gridcolor\": \"white\", \"linecolor\": \"white\", \"minorgridcolor\": \"white\", \"startlinecolor\": \"#2a3f5f\"}, \"type\": \"carpet\"}], \"choropleth\": [{\"colorbar\": {\"outlinewidth\": 0, \"ticks\": \"\"}, \"type\": \"choropleth\"}], \"contour\": [{\"colorbar\": {\"outlinewidth\": 0, \"ticks\": \"\"}, \"colorscale\": [[0.0, \"#0d0887\"], [0.1111111111111111, \"#46039f\"], [0.2222222222222222, \"#7201a8\"], [0.3333333333333333, \"#9c179e\"], [0.4444444444444444, \"#bd3786\"], [0.5555555555555556, \"#d8576b\"], [0.6666666666666666, \"#ed7953\"], [0.7777777777777778, \"#fb9f3a\"], [0.8888888888888888, \"#fdca26\"], [1.0, \"#f0f921\"]], \"type\": \"contour\"}], \"contourcarpet\": [{\"colorbar\": {\"outlinewidth\": 0, \"ticks\": \"\"}, \"type\": \"contourcarpet\"}], \"heatmap\": [{\"colorbar\": {\"outlinewidth\": 0, \"ticks\": \"\"}, \"colorscale\": [[0.0, \"#0d0887\"], [0.1111111111111111, \"#46039f\"], [0.2222222222222222, \"#7201a8\"], [0.3333333333333333, \"#9c179e\"], [0.4444444444444444, \"#bd3786\"], [0.5555555555555556, \"#d8576b\"], [0.6666666666666666, \"#ed7953\"], [0.7777777777777778, \"#fb9f3a\"], [0.8888888888888888, \"#fdca26\"], [1.0, \"#f0f921\"]], \"type\": \"heatmap\"}], \"heatmapgl\": [{\"colorbar\": {\"outlinewidth\": 0, \"ticks\": \"\"}, \"colorscale\": [[0.0, \"#0d0887\"], [0.1111111111111111, \"#46039f\"], [0.2222222222222222, \"#7201a8\"], [0.3333333333333333, \"#9c179e\"], [0.4444444444444444, \"#bd3786\"], [0.5555555555555556, \"#d8576b\"], [0.6666666666666666, \"#ed7953\"], [0.7777777777777778, \"#fb9f3a\"], [0.8888888888888888, \"#fdca26\"], [1.0, \"#f0f921\"]], \"type\": \"heatmapgl\"}], \"histogram\": [{\"marker\": {\"colorbar\": {\"outlinewidth\": 0, \"ticks\": \"\"}}, \"type\": \"histogram\"}], \"histogram2d\": [{\"colorbar\": {\"outlinewidth\": 0, \"ticks\": \"\"}, \"colorscale\": [[0.0, \"#0d0887\"], [0.1111111111111111, \"#46039f\"], [0.2222222222222222, \"#7201a8\"], [0.3333333333333333, \"#9c179e\"], [0.4444444444444444, \"#bd3786\"], [0.5555555555555556, \"#d8576b\"], [0.6666666666666666, \"#ed7953\"], [0.7777777777777778, \"#fb9f3a\"], [0.8888888888888888, \"#fdca26\"], [1.0, \"#f0f921\"]], \"type\": \"histogram2d\"}], \"histogram2dcontour\": [{\"colorbar\": {\"outlinewidth\": 0, \"ticks\": \"\"}, \"colorscale\": [[0.0, \"#0d0887\"], [0.1111111111111111, \"#46039f\"], [0.2222222222222222, \"#7201a8\"], [0.3333333333333333, \"#9c179e\"], [0.4444444444444444, \"#bd3786\"], [0.5555555555555556, \"#d8576b\"], [0.6666666666666666, \"#ed7953\"], [0.7777777777777778, \"#fb9f3a\"], [0.8888888888888888, \"#fdca26\"], [1.0, \"#f0f921\"]], \"type\": \"histogram2dcontour\"}], \"mesh3d\": [{\"colorbar\": {\"outlinewidth\": 0, \"ticks\": \"\"}, \"type\": \"mesh3d\"}], \"parcoords\": [{\"line\": {\"colorbar\": {\"outlinewidth\": 0, \"ticks\": \"\"}}, \"type\": \"parcoords\"}], \"pie\": [{\"automargin\": true, \"type\": \"pie\"}], \"scatter\": [{\"marker\": {\"colorbar\": {\"outlinewidth\": 0, \"ticks\": \"\"}}, \"type\": \"scatter\"}], \"scatter3d\": [{\"line\": {\"colorbar\": {\"outlinewidth\": 0, \"ticks\": \"\"}}, \"marker\": {\"colorbar\": {\"outlinewidth\": 0, \"ticks\": \"\"}}, \"type\": \"scatter3d\"}], \"scattercarpet\": [{\"marker\": {\"colorbar\": {\"outlinewidth\": 0, \"ticks\": \"\"}}, \"type\": \"scattercarpet\"}], \"scattergeo\": [{\"marker\": {\"colorbar\": {\"outlinewidth\": 0, \"ticks\": \"\"}}, \"type\": \"scattergeo\"}], \"scattergl\": [{\"marker\": {\"colorbar\": {\"outlinewidth\": 0, \"ticks\": \"\"}}, \"type\": \"scattergl\"}], \"scattermapbox\": [{\"marker\": {\"colorbar\": {\"outlinewidth\": 0, \"ticks\": \"\"}}, \"type\": \"scattermapbox\"}], \"scatterpolar\": [{\"marker\": {\"colorbar\": {\"outlinewidth\": 0, \"ticks\": \"\"}}, \"type\": \"scatterpolar\"}], \"scatterpolargl\": [{\"marker\": {\"colorbar\": {\"outlinewidth\": 0, \"ticks\": \"\"}}, \"type\": \"scatterpolargl\"}], \"scatterternary\": [{\"marker\": {\"colorbar\": {\"outlinewidth\": 0, \"ticks\": \"\"}}, \"type\": \"scatterternary\"}], \"surface\": [{\"colorbar\": {\"outlinewidth\": 0, \"ticks\": \"\"}, \"colorscale\": [[0.0, \"#0d0887\"], [0.1111111111111111, \"#46039f\"], [0.2222222222222222, \"#7201a8\"], [0.3333333333333333, \"#9c179e\"], [0.4444444444444444, \"#bd3786\"], [0.5555555555555556, \"#d8576b\"], [0.6666666666666666, \"#ed7953\"], [0.7777777777777778, \"#fb9f3a\"], [0.8888888888888888, \"#fdca26\"], [1.0, \"#f0f921\"]], \"type\": \"surface\"}], \"table\": [{\"cells\": {\"fill\": {\"color\": \"#EBF0F8\"}, \"line\": {\"color\": \"white\"}}, \"header\": {\"fill\": {\"color\": \"#C8D4E3\"}, \"line\": {\"color\": \"white\"}}, \"type\": \"table\"}]}, \"layout\": {\"annotationdefaults\": {\"arrowcolor\": \"#2a3f5f\", \"arrowhead\": 0, \"arrowwidth\": 1}, \"coloraxis\": {\"colorbar\": {\"outlinewidth\": 0, \"ticks\": \"\"}}, \"colorscale\": {\"diverging\": [[0, \"#8e0152\"], [0.1, \"#c51b7d\"], [0.2, \"#de77ae\"], [0.3, \"#f1b6da\"], [0.4, \"#fde0ef\"], [0.5, \"#f7f7f7\"], [0.6, \"#e6f5d0\"], [0.7, \"#b8e186\"], [0.8, \"#7fbc41\"], [0.9, \"#4d9221\"], [1, \"#276419\"]], \"sequential\": [[0.0, \"#0d0887\"], [0.1111111111111111, \"#46039f\"], [0.2222222222222222, \"#7201a8\"], [0.3333333333333333, \"#9c179e\"], [0.4444444444444444, \"#bd3786\"], [0.5555555555555556, \"#d8576b\"], [0.6666666666666666, \"#ed7953\"], [0.7777777777777778, \"#fb9f3a\"], [0.8888888888888888, \"#fdca26\"], [1.0, \"#f0f921\"]], \"sequentialminus\": [[0.0, \"#0d0887\"], [0.1111111111111111, \"#46039f\"], [0.2222222222222222, \"#7201a8\"], [0.3333333333333333, \"#9c179e\"], [0.4444444444444444, \"#bd3786\"], [0.5555555555555556, \"#d8576b\"], [0.6666666666666666, \"#ed7953\"], [0.7777777777777778, \"#fb9f3a\"], [0.8888888888888888, \"#fdca26\"], [1.0, \"#f0f921\"]]}, \"colorway\": [\"#636efa\", \"#EF553B\", \"#00cc96\", \"#ab63fa\", \"#FFA15A\", \"#19d3f3\", \"#FF6692\", \"#B6E880\", \"#FF97FF\", \"#FECB52\"], \"font\": {\"color\": \"#2a3f5f\"}, \"geo\": {\"bgcolor\": \"white\", \"lakecolor\": \"white\", \"landcolor\": \"#E5ECF6\", \"showlakes\": true, \"showland\": true, \"subunitcolor\": \"white\"}, \"hoverlabel\": {\"align\": \"left\"}, \"hovermode\": \"closest\", \"mapbox\": {\"style\": \"light\"}, \"paper_bgcolor\": \"white\", \"plot_bgcolor\": \"#E5ECF6\", \"polar\": {\"angularaxis\": {\"gridcolor\": \"white\", \"linecolor\": \"white\", \"ticks\": \"\"}, \"bgcolor\": \"#E5ECF6\", \"radialaxis\": {\"gridcolor\": \"white\", \"linecolor\": \"white\", \"ticks\": \"\"}}, \"scene\": {\"xaxis\": {\"backgroundcolor\": \"#E5ECF6\", \"gridcolor\": \"white\", \"gridwidth\": 2, \"linecolor\": \"white\", \"showbackground\": true, \"ticks\": \"\", \"zerolinecolor\": \"white\"}, \"yaxis\": {\"backgroundcolor\": \"#E5ECF6\", \"gridcolor\": \"white\", \"gridwidth\": 2, \"linecolor\": \"white\", \"showbackground\": true, \"ticks\": \"\", \"zerolinecolor\": \"white\"}, \"zaxis\": {\"backgroundcolor\": \"#E5ECF6\", \"gridcolor\": \"white\", \"gridwidth\": 2, \"linecolor\": \"white\", \"showbackground\": true, \"ticks\": \"\", \"zerolinecolor\": \"white\"}}, \"shapedefaults\": {\"line\": {\"color\": \"#2a3f5f\"}}, \"ternary\": {\"aaxis\": {\"gridcolor\": \"white\", \"linecolor\": \"white\", \"ticks\": \"\"}, \"baxis\": {\"gridcolor\": \"white\", \"linecolor\": \"white\", \"ticks\": \"\"}, \"bgcolor\": \"#E5ECF6\", \"caxis\": {\"gridcolor\": \"white\", \"linecolor\": \"white\", \"ticks\": \"\"}}, \"title\": {\"x\": 0.05}, \"xaxis\": {\"automargin\": true, \"gridcolor\": \"white\", \"linecolor\": \"white\", \"ticks\": \"\", \"title\": {\"standoff\": 15}, \"zerolinecolor\": \"white\", \"zerolinewidth\": 2}, \"yaxis\": {\"automargin\": true, \"gridcolor\": \"white\", \"linecolor\": \"white\", \"ticks\": \"\", \"title\": {\"standoff\": 15}, \"zerolinecolor\": \"white\", \"zerolinewidth\": 2}}}, \"title\": {\"text\": \"R\\u00e9mun\\u00e9ration re\\u00e7ue par chaque entreprise\"}, \"xaxis\": {\"anchor\": \"y\", \"domain\": [0.0, 1.0], \"title\": {\"text\": \"x\"}}, \"yaxis\": {\"anchor\": \"x\", \"domain\": [0.0, 1.0], \"title\": {\"text\": \"remu_montant_ttc\"}}},\n",
       "                        {\"responsive\": true}\n",
       "                    ).then(function(){\n",
       "                            \n",
       "var gd = document.getElementById('083e166b-0138-4b97-9de0-9ef036a8dbbf');\n",
       "var x = new MutationObserver(function (mutations, observer) {{\n",
       "        var display = window.getComputedStyle(gd).display;\n",
       "        if (!display || display === 'none') {{\n",
       "            console.log([gd, 'removed!']);\n",
       "            Plotly.purge(gd);\n",
       "            observer.disconnect();\n",
       "        }}\n",
       "}});\n",
       "\n",
       "// Listen for the removal of the full notebook cells\n",
       "var notebookContainer = gd.closest('#notebook-container');\n",
       "if (notebookContainer) {{\n",
       "    x.observe(notebookContainer, {childList: true});\n",
       "}}\n",
       "\n",
       "// Listen for the clearing of the current output cell\n",
       "var outputEl = gd.closest('.output');\n",
       "if (outputEl) {{\n",
       "    x.observe(outputEl, {childList: true});\n",
       "}}\n",
       "\n",
       "                        })\n",
       "                };\n",
       "                });\n",
       "            </script>\n",
       "        </div>"
      ]
     },
     "metadata": {},
     "output_type": "display_data"
    }
   ],
   "source": [
    "fig = px.bar(resultat3, x=resultat3.index, y='remu_montant_ttc')\n",
    "fig.update_layout(title_text='Rémunération reçue par chaque entreprise',)\n",
    "fig.show()"
   ]
  },
  {
   "cell_type": "markdown",
   "metadata": {},
   "source": [
    "#### 4.2 Savoir le mode sur les columns categorie, qualite, benef_specialite_libelle"
   ]
  },
  {
   "cell_type": "code",
   "execution_count": 31,
   "metadata": {},
   "outputs": [
    {
     "data": {
      "text/plain": [
       "0    Professionnel de santé\n",
       "dtype: object"
      ]
     },
     "execution_count": 31,
     "metadata": {},
     "output_type": "execute_result"
    }
   ],
   "source": [
    "remunerationSample.loc[:,\"categorie\"].mode()"
   ]
  },
  {
   "cell_type": "code",
   "execution_count": 32,
   "metadata": {},
   "outputs": [
    {
     "data": {
      "text/plain": [
       "0    Médecin\n",
       "dtype: object"
      ]
     },
     "execution_count": 32,
     "metadata": {},
     "output_type": "execute_result"
    }
   ],
   "source": [
    "remunerationSample.loc[:,\"qualite\"].mode()"
   ]
  },
  {
   "cell_type": "code",
   "execution_count": 33,
   "metadata": {},
   "outputs": [
    {
     "data": {
      "text/plain": [
       "0    Autre\n",
       "dtype: object"
      ]
     },
     "execution_count": 33,
     "metadata": {},
     "output_type": "execute_result"
    }
   ],
   "source": [
    "remunerationSample.loc[:,\"benef_specialite_libelle\"].mode()"
   ]
  },
  {
   "cell_type": "markdown",
   "metadata": {},
   "source": [
    "####  4.3 Rémunération reçue par catégorie de bénéficiaire'"
   ]
  },
  {
   "cell_type": "code",
   "execution_count": 107,
   "metadata": {},
   "outputs": [
    {
     "name": "stdout",
     "output_type": "stream",
     "text": [
      "                                                    benef_identifiant_valeur\n",
      "categorie                                                                   \n",
      "Académies, Fondation, sociétés savantes, organi...                      7715\n",
      "Association d'étudiants                                                   33\n",
      "Association professionnel de santé                                      2364\n",
      "Association usager de santé                                              232\n",
      "Editeur de logiciel                                                       60\n",
      "Etablissement de santé                                                  3646\n",
      "Etudiant                                                                  17\n",
      "Groupement professionels agricoles                                        14\n",
      "Groupement sanitaire                                                      13\n",
      "Personnes morales assurant la formation initial...                      1470\n",
      "Presse et média                                                         1575\n",
      "Professionnel de santé                                                 69353\n",
      "Vétérinaire                                                              263\n",
      "Vétérinaire Personne Morale                                              244\n"
     ]
    }
   ],
   "source": [
    "df4=pd.DataFrame(remunerationSample.groupby(\"categorie\")[\"benef_identifiant_valeur\"].count())\n",
    "print(df4)"
   ]
  },
  {
   "cell_type": "code",
   "execution_count": 108,
   "metadata": {},
   "outputs": [
    {
     "data": {
      "application/vnd.plotly.v1+json": {
       "config": {
        "plotlyServerURL": "https://plot.ly"
       },
       "data": [
        {
         "domain": {
          "x": [
           0,
           1
          ],
          "y": [
           0,
           1
          ]
         },
         "hoverlabel": {
          "namelength": 0
         },
         "hovertemplate": "label=%{label}<br>benef_identifiant_valeur=%{value}",
         "labels": [
          "Académies, Fondation, sociétés savantes, organismes de conseils",
          "Association d'étudiants",
          "Association professionnel de santé",
          "Association usager de santé",
          "Editeur de logiciel",
          "Etablissement de santé",
          "Etudiant",
          "Groupement professionels agricoles",
          "Groupement sanitaire",
          "Personnes morales assurant la formation initiale ou continue des professionnels de santé",
          "Presse et média",
          "Professionnel de santé",
          "Vétérinaire",
          "Vétérinaire Personne Morale"
         ],
         "legendgroup": "",
         "name": "",
         "showlegend": true,
         "type": "pie",
         "values": [
          7715,
          33,
          2364,
          232,
          60,
          3646,
          17,
          14,
          13,
          1470,
          1575,
          69353,
          263,
          244
         ]
        }
       ],
       "layout": {
        "legend": {
         "tracegroupgap": 0
        },
        "margin": {
         "t": 60
        },
        "template": {
         "data": {
          "bar": [
           {
            "error_x": {
             "color": "#2a3f5f"
            },
            "error_y": {
             "color": "#2a3f5f"
            },
            "marker": {
             "line": {
              "color": "#E5ECF6",
              "width": 0.5
             }
            },
            "type": "bar"
           }
          ],
          "barpolar": [
           {
            "marker": {
             "line": {
              "color": "#E5ECF6",
              "width": 0.5
             }
            },
            "type": "barpolar"
           }
          ],
          "carpet": [
           {
            "aaxis": {
             "endlinecolor": "#2a3f5f",
             "gridcolor": "white",
             "linecolor": "white",
             "minorgridcolor": "white",
             "startlinecolor": "#2a3f5f"
            },
            "baxis": {
             "endlinecolor": "#2a3f5f",
             "gridcolor": "white",
             "linecolor": "white",
             "minorgridcolor": "white",
             "startlinecolor": "#2a3f5f"
            },
            "type": "carpet"
           }
          ],
          "choropleth": [
           {
            "colorbar": {
             "outlinewidth": 0,
             "ticks": ""
            },
            "type": "choropleth"
           }
          ],
          "contour": [
           {
            "colorbar": {
             "outlinewidth": 0,
             "ticks": ""
            },
            "colorscale": [
             [
              0,
              "#0d0887"
             ],
             [
              0.1111111111111111,
              "#46039f"
             ],
             [
              0.2222222222222222,
              "#7201a8"
             ],
             [
              0.3333333333333333,
              "#9c179e"
             ],
             [
              0.4444444444444444,
              "#bd3786"
             ],
             [
              0.5555555555555556,
              "#d8576b"
             ],
             [
              0.6666666666666666,
              "#ed7953"
             ],
             [
              0.7777777777777778,
              "#fb9f3a"
             ],
             [
              0.8888888888888888,
              "#fdca26"
             ],
             [
              1,
              "#f0f921"
             ]
            ],
            "type": "contour"
           }
          ],
          "contourcarpet": [
           {
            "colorbar": {
             "outlinewidth": 0,
             "ticks": ""
            },
            "type": "contourcarpet"
           }
          ],
          "heatmap": [
           {
            "colorbar": {
             "outlinewidth": 0,
             "ticks": ""
            },
            "colorscale": [
             [
              0,
              "#0d0887"
             ],
             [
              0.1111111111111111,
              "#46039f"
             ],
             [
              0.2222222222222222,
              "#7201a8"
             ],
             [
              0.3333333333333333,
              "#9c179e"
             ],
             [
              0.4444444444444444,
              "#bd3786"
             ],
             [
              0.5555555555555556,
              "#d8576b"
             ],
             [
              0.6666666666666666,
              "#ed7953"
             ],
             [
              0.7777777777777778,
              "#fb9f3a"
             ],
             [
              0.8888888888888888,
              "#fdca26"
             ],
             [
              1,
              "#f0f921"
             ]
            ],
            "type": "heatmap"
           }
          ],
          "heatmapgl": [
           {
            "colorbar": {
             "outlinewidth": 0,
             "ticks": ""
            },
            "colorscale": [
             [
              0,
              "#0d0887"
             ],
             [
              0.1111111111111111,
              "#46039f"
             ],
             [
              0.2222222222222222,
              "#7201a8"
             ],
             [
              0.3333333333333333,
              "#9c179e"
             ],
             [
              0.4444444444444444,
              "#bd3786"
             ],
             [
              0.5555555555555556,
              "#d8576b"
             ],
             [
              0.6666666666666666,
              "#ed7953"
             ],
             [
              0.7777777777777778,
              "#fb9f3a"
             ],
             [
              0.8888888888888888,
              "#fdca26"
             ],
             [
              1,
              "#f0f921"
             ]
            ],
            "type": "heatmapgl"
           }
          ],
          "histogram": [
           {
            "marker": {
             "colorbar": {
              "outlinewidth": 0,
              "ticks": ""
             }
            },
            "type": "histogram"
           }
          ],
          "histogram2d": [
           {
            "colorbar": {
             "outlinewidth": 0,
             "ticks": ""
            },
            "colorscale": [
             [
              0,
              "#0d0887"
             ],
             [
              0.1111111111111111,
              "#46039f"
             ],
             [
              0.2222222222222222,
              "#7201a8"
             ],
             [
              0.3333333333333333,
              "#9c179e"
             ],
             [
              0.4444444444444444,
              "#bd3786"
             ],
             [
              0.5555555555555556,
              "#d8576b"
             ],
             [
              0.6666666666666666,
              "#ed7953"
             ],
             [
              0.7777777777777778,
              "#fb9f3a"
             ],
             [
              0.8888888888888888,
              "#fdca26"
             ],
             [
              1,
              "#f0f921"
             ]
            ],
            "type": "histogram2d"
           }
          ],
          "histogram2dcontour": [
           {
            "colorbar": {
             "outlinewidth": 0,
             "ticks": ""
            },
            "colorscale": [
             [
              0,
              "#0d0887"
             ],
             [
              0.1111111111111111,
              "#46039f"
             ],
             [
              0.2222222222222222,
              "#7201a8"
             ],
             [
              0.3333333333333333,
              "#9c179e"
             ],
             [
              0.4444444444444444,
              "#bd3786"
             ],
             [
              0.5555555555555556,
              "#d8576b"
             ],
             [
              0.6666666666666666,
              "#ed7953"
             ],
             [
              0.7777777777777778,
              "#fb9f3a"
             ],
             [
              0.8888888888888888,
              "#fdca26"
             ],
             [
              1,
              "#f0f921"
             ]
            ],
            "type": "histogram2dcontour"
           }
          ],
          "mesh3d": [
           {
            "colorbar": {
             "outlinewidth": 0,
             "ticks": ""
            },
            "type": "mesh3d"
           }
          ],
          "parcoords": [
           {
            "line": {
             "colorbar": {
              "outlinewidth": 0,
              "ticks": ""
             }
            },
            "type": "parcoords"
           }
          ],
          "pie": [
           {
            "automargin": true,
            "type": "pie"
           }
          ],
          "scatter": [
           {
            "marker": {
             "colorbar": {
              "outlinewidth": 0,
              "ticks": ""
             }
            },
            "type": "scatter"
           }
          ],
          "scatter3d": [
           {
            "line": {
             "colorbar": {
              "outlinewidth": 0,
              "ticks": ""
             }
            },
            "marker": {
             "colorbar": {
              "outlinewidth": 0,
              "ticks": ""
             }
            },
            "type": "scatter3d"
           }
          ],
          "scattercarpet": [
           {
            "marker": {
             "colorbar": {
              "outlinewidth": 0,
              "ticks": ""
             }
            },
            "type": "scattercarpet"
           }
          ],
          "scattergeo": [
           {
            "marker": {
             "colorbar": {
              "outlinewidth": 0,
              "ticks": ""
             }
            },
            "type": "scattergeo"
           }
          ],
          "scattergl": [
           {
            "marker": {
             "colorbar": {
              "outlinewidth": 0,
              "ticks": ""
             }
            },
            "type": "scattergl"
           }
          ],
          "scattermapbox": [
           {
            "marker": {
             "colorbar": {
              "outlinewidth": 0,
              "ticks": ""
             }
            },
            "type": "scattermapbox"
           }
          ],
          "scatterpolar": [
           {
            "marker": {
             "colorbar": {
              "outlinewidth": 0,
              "ticks": ""
             }
            },
            "type": "scatterpolar"
           }
          ],
          "scatterpolargl": [
           {
            "marker": {
             "colorbar": {
              "outlinewidth": 0,
              "ticks": ""
             }
            },
            "type": "scatterpolargl"
           }
          ],
          "scatterternary": [
           {
            "marker": {
             "colorbar": {
              "outlinewidth": 0,
              "ticks": ""
             }
            },
            "type": "scatterternary"
           }
          ],
          "surface": [
           {
            "colorbar": {
             "outlinewidth": 0,
             "ticks": ""
            },
            "colorscale": [
             [
              0,
              "#0d0887"
             ],
             [
              0.1111111111111111,
              "#46039f"
             ],
             [
              0.2222222222222222,
              "#7201a8"
             ],
             [
              0.3333333333333333,
              "#9c179e"
             ],
             [
              0.4444444444444444,
              "#bd3786"
             ],
             [
              0.5555555555555556,
              "#d8576b"
             ],
             [
              0.6666666666666666,
              "#ed7953"
             ],
             [
              0.7777777777777778,
              "#fb9f3a"
             ],
             [
              0.8888888888888888,
              "#fdca26"
             ],
             [
              1,
              "#f0f921"
             ]
            ],
            "type": "surface"
           }
          ],
          "table": [
           {
            "cells": {
             "fill": {
              "color": "#EBF0F8"
             },
             "line": {
              "color": "white"
             }
            },
            "header": {
             "fill": {
              "color": "#C8D4E3"
             },
             "line": {
              "color": "white"
             }
            },
            "type": "table"
           }
          ]
         },
         "layout": {
          "annotationdefaults": {
           "arrowcolor": "#2a3f5f",
           "arrowhead": 0,
           "arrowwidth": 1
          },
          "coloraxis": {
           "colorbar": {
            "outlinewidth": 0,
            "ticks": ""
           }
          },
          "colorscale": {
           "diverging": [
            [
             0,
             "#8e0152"
            ],
            [
             0.1,
             "#c51b7d"
            ],
            [
             0.2,
             "#de77ae"
            ],
            [
             0.3,
             "#f1b6da"
            ],
            [
             0.4,
             "#fde0ef"
            ],
            [
             0.5,
             "#f7f7f7"
            ],
            [
             0.6,
             "#e6f5d0"
            ],
            [
             0.7,
             "#b8e186"
            ],
            [
             0.8,
             "#7fbc41"
            ],
            [
             0.9,
             "#4d9221"
            ],
            [
             1,
             "#276419"
            ]
           ],
           "sequential": [
            [
             0,
             "#0d0887"
            ],
            [
             0.1111111111111111,
             "#46039f"
            ],
            [
             0.2222222222222222,
             "#7201a8"
            ],
            [
             0.3333333333333333,
             "#9c179e"
            ],
            [
             0.4444444444444444,
             "#bd3786"
            ],
            [
             0.5555555555555556,
             "#d8576b"
            ],
            [
             0.6666666666666666,
             "#ed7953"
            ],
            [
             0.7777777777777778,
             "#fb9f3a"
            ],
            [
             0.8888888888888888,
             "#fdca26"
            ],
            [
             1,
             "#f0f921"
            ]
           ],
           "sequentialminus": [
            [
             0,
             "#0d0887"
            ],
            [
             0.1111111111111111,
             "#46039f"
            ],
            [
             0.2222222222222222,
             "#7201a8"
            ],
            [
             0.3333333333333333,
             "#9c179e"
            ],
            [
             0.4444444444444444,
             "#bd3786"
            ],
            [
             0.5555555555555556,
             "#d8576b"
            ],
            [
             0.6666666666666666,
             "#ed7953"
            ],
            [
             0.7777777777777778,
             "#fb9f3a"
            ],
            [
             0.8888888888888888,
             "#fdca26"
            ],
            [
             1,
             "#f0f921"
            ]
           ]
          },
          "colorway": [
           "#636efa",
           "#EF553B",
           "#00cc96",
           "#ab63fa",
           "#FFA15A",
           "#19d3f3",
           "#FF6692",
           "#B6E880",
           "#FF97FF",
           "#FECB52"
          ],
          "font": {
           "color": "#2a3f5f"
          },
          "geo": {
           "bgcolor": "white",
           "lakecolor": "white",
           "landcolor": "#E5ECF6",
           "showlakes": true,
           "showland": true,
           "subunitcolor": "white"
          },
          "hoverlabel": {
           "align": "left"
          },
          "hovermode": "closest",
          "mapbox": {
           "style": "light"
          },
          "paper_bgcolor": "white",
          "plot_bgcolor": "#E5ECF6",
          "polar": {
           "angularaxis": {
            "gridcolor": "white",
            "linecolor": "white",
            "ticks": ""
           },
           "bgcolor": "#E5ECF6",
           "radialaxis": {
            "gridcolor": "white",
            "linecolor": "white",
            "ticks": ""
           }
          },
          "scene": {
           "xaxis": {
            "backgroundcolor": "#E5ECF6",
            "gridcolor": "white",
            "gridwidth": 2,
            "linecolor": "white",
            "showbackground": true,
            "ticks": "",
            "zerolinecolor": "white"
           },
           "yaxis": {
            "backgroundcolor": "#E5ECF6",
            "gridcolor": "white",
            "gridwidth": 2,
            "linecolor": "white",
            "showbackground": true,
            "ticks": "",
            "zerolinecolor": "white"
           },
           "zaxis": {
            "backgroundcolor": "#E5ECF6",
            "gridcolor": "white",
            "gridwidth": 2,
            "linecolor": "white",
            "showbackground": true,
            "ticks": "",
            "zerolinecolor": "white"
           }
          },
          "shapedefaults": {
           "line": {
            "color": "#2a3f5f"
           }
          },
          "ternary": {
           "aaxis": {
            "gridcolor": "white",
            "linecolor": "white",
            "ticks": ""
           },
           "baxis": {
            "gridcolor": "white",
            "linecolor": "white",
            "ticks": ""
           },
           "bgcolor": "#E5ECF6",
           "caxis": {
            "gridcolor": "white",
            "linecolor": "white",
            "ticks": ""
           }
          },
          "title": {
           "x": 0.05
          },
          "xaxis": {
           "automargin": true,
           "gridcolor": "white",
           "linecolor": "white",
           "ticks": "",
           "title": {
            "standoff": 15
           },
           "zerolinecolor": "white",
           "zerolinewidth": 2
          },
          "yaxis": {
           "automargin": true,
           "gridcolor": "white",
           "linecolor": "white",
           "ticks": "",
           "title": {
            "standoff": 15
           },
           "zerolinecolor": "white",
           "zerolinewidth": 2
          }
         }
        }
       }
      },
      "text/html": [
       "<div>\n",
       "        \n",
       "        \n",
       "            <div id=\"31e11739-74de-404e-b505-793215b178fd\" class=\"plotly-graph-div\" style=\"height:525px; width:100%;\"></div>\n",
       "            <script type=\"text/javascript\">\n",
       "                require([\"plotly\"], function(Plotly) {\n",
       "                    window.PLOTLYENV=window.PLOTLYENV || {};\n",
       "                    \n",
       "                if (document.getElementById(\"31e11739-74de-404e-b505-793215b178fd\")) {\n",
       "                    Plotly.newPlot(\n",
       "                        '31e11739-74de-404e-b505-793215b178fd',\n",
       "                        [{\"domain\": {\"x\": [0.0, 1.0], \"y\": [0.0, 1.0]}, \"hoverlabel\": {\"namelength\": 0}, \"hovertemplate\": \"label=%{label}<br>benef_identifiant_valeur=%{value}\", \"labels\": [\"Acad\\u00e9mies, Fondation, soci\\u00e9t\\u00e9s savantes, organismes de conseils\", \"Association d'\\u00e9tudiants\", \"Association professionnel de sant\\u00e9\", \"Association usager de sant\\u00e9\", \"Editeur de logiciel\", \"Etablissement de sant\\u00e9\", \"Etudiant\", \"Groupement professionels agricoles\", \"Groupement sanitaire\", \"Personnes morales assurant la formation initiale ou continue des professionnels de sant\\u00e9\", \"Presse et m\\u00e9dia\", \"Professionnel de sant\\u00e9\", \"V\\u00e9t\\u00e9rinaire\", \"V\\u00e9t\\u00e9rinaire Personne Morale\"], \"legendgroup\": \"\", \"name\": \"\", \"showlegend\": true, \"type\": \"pie\", \"values\": [7715, 33, 2364, 232, 60, 3646, 17, 14, 13, 1470, 1575, 69353, 263, 244]}],\n",
       "                        {\"legend\": {\"tracegroupgap\": 0}, \"margin\": {\"t\": 60}, \"template\": {\"data\": {\"bar\": [{\"error_x\": {\"color\": \"#2a3f5f\"}, \"error_y\": {\"color\": \"#2a3f5f\"}, \"marker\": {\"line\": {\"color\": \"#E5ECF6\", \"width\": 0.5}}, \"type\": \"bar\"}], \"barpolar\": [{\"marker\": {\"line\": {\"color\": \"#E5ECF6\", \"width\": 0.5}}, \"type\": \"barpolar\"}], \"carpet\": [{\"aaxis\": {\"endlinecolor\": \"#2a3f5f\", \"gridcolor\": \"white\", \"linecolor\": \"white\", \"minorgridcolor\": \"white\", \"startlinecolor\": \"#2a3f5f\"}, \"baxis\": {\"endlinecolor\": \"#2a3f5f\", \"gridcolor\": \"white\", \"linecolor\": \"white\", \"minorgridcolor\": \"white\", \"startlinecolor\": \"#2a3f5f\"}, \"type\": \"carpet\"}], \"choropleth\": [{\"colorbar\": {\"outlinewidth\": 0, \"ticks\": \"\"}, \"type\": \"choropleth\"}], \"contour\": [{\"colorbar\": {\"outlinewidth\": 0, \"ticks\": \"\"}, \"colorscale\": [[0.0, \"#0d0887\"], [0.1111111111111111, \"#46039f\"], [0.2222222222222222, \"#7201a8\"], [0.3333333333333333, \"#9c179e\"], [0.4444444444444444, \"#bd3786\"], [0.5555555555555556, \"#d8576b\"], [0.6666666666666666, \"#ed7953\"], [0.7777777777777778, \"#fb9f3a\"], [0.8888888888888888, \"#fdca26\"], [1.0, \"#f0f921\"]], \"type\": \"contour\"}], \"contourcarpet\": [{\"colorbar\": {\"outlinewidth\": 0, \"ticks\": \"\"}, \"type\": \"contourcarpet\"}], \"heatmap\": [{\"colorbar\": {\"outlinewidth\": 0, \"ticks\": \"\"}, \"colorscale\": [[0.0, \"#0d0887\"], [0.1111111111111111, \"#46039f\"], [0.2222222222222222, \"#7201a8\"], [0.3333333333333333, \"#9c179e\"], [0.4444444444444444, \"#bd3786\"], [0.5555555555555556, \"#d8576b\"], [0.6666666666666666, \"#ed7953\"], [0.7777777777777778, \"#fb9f3a\"], [0.8888888888888888, \"#fdca26\"], [1.0, \"#f0f921\"]], \"type\": \"heatmap\"}], \"heatmapgl\": [{\"colorbar\": {\"outlinewidth\": 0, \"ticks\": \"\"}, \"colorscale\": [[0.0, \"#0d0887\"], [0.1111111111111111, \"#46039f\"], [0.2222222222222222, \"#7201a8\"], [0.3333333333333333, \"#9c179e\"], [0.4444444444444444, \"#bd3786\"], [0.5555555555555556, \"#d8576b\"], [0.6666666666666666, \"#ed7953\"], [0.7777777777777778, \"#fb9f3a\"], [0.8888888888888888, \"#fdca26\"], [1.0, \"#f0f921\"]], \"type\": \"heatmapgl\"}], \"histogram\": [{\"marker\": {\"colorbar\": {\"outlinewidth\": 0, \"ticks\": \"\"}}, \"type\": \"histogram\"}], \"histogram2d\": [{\"colorbar\": {\"outlinewidth\": 0, \"ticks\": \"\"}, \"colorscale\": [[0.0, \"#0d0887\"], [0.1111111111111111, \"#46039f\"], [0.2222222222222222, \"#7201a8\"], [0.3333333333333333, \"#9c179e\"], [0.4444444444444444, \"#bd3786\"], [0.5555555555555556, \"#d8576b\"], [0.6666666666666666, \"#ed7953\"], [0.7777777777777778, \"#fb9f3a\"], [0.8888888888888888, \"#fdca26\"], [1.0, \"#f0f921\"]], \"type\": \"histogram2d\"}], \"histogram2dcontour\": [{\"colorbar\": {\"outlinewidth\": 0, \"ticks\": \"\"}, \"colorscale\": [[0.0, \"#0d0887\"], [0.1111111111111111, \"#46039f\"], [0.2222222222222222, \"#7201a8\"], [0.3333333333333333, \"#9c179e\"], [0.4444444444444444, \"#bd3786\"], [0.5555555555555556, \"#d8576b\"], [0.6666666666666666, \"#ed7953\"], [0.7777777777777778, \"#fb9f3a\"], [0.8888888888888888, \"#fdca26\"], [1.0, \"#f0f921\"]], \"type\": \"histogram2dcontour\"}], \"mesh3d\": [{\"colorbar\": {\"outlinewidth\": 0, \"ticks\": \"\"}, \"type\": \"mesh3d\"}], \"parcoords\": [{\"line\": {\"colorbar\": {\"outlinewidth\": 0, \"ticks\": \"\"}}, \"type\": \"parcoords\"}], \"pie\": [{\"automargin\": true, \"type\": \"pie\"}], \"scatter\": [{\"marker\": {\"colorbar\": {\"outlinewidth\": 0, \"ticks\": \"\"}}, \"type\": \"scatter\"}], \"scatter3d\": [{\"line\": {\"colorbar\": {\"outlinewidth\": 0, \"ticks\": \"\"}}, \"marker\": {\"colorbar\": {\"outlinewidth\": 0, \"ticks\": \"\"}}, \"type\": \"scatter3d\"}], \"scattercarpet\": [{\"marker\": {\"colorbar\": {\"outlinewidth\": 0, \"ticks\": \"\"}}, \"type\": \"scattercarpet\"}], \"scattergeo\": [{\"marker\": {\"colorbar\": {\"outlinewidth\": 0, \"ticks\": \"\"}}, \"type\": \"scattergeo\"}], \"scattergl\": [{\"marker\": {\"colorbar\": {\"outlinewidth\": 0, \"ticks\": \"\"}}, \"type\": \"scattergl\"}], \"scattermapbox\": [{\"marker\": {\"colorbar\": {\"outlinewidth\": 0, \"ticks\": \"\"}}, \"type\": \"scattermapbox\"}], \"scatterpolar\": [{\"marker\": {\"colorbar\": {\"outlinewidth\": 0, \"ticks\": \"\"}}, \"type\": \"scatterpolar\"}], \"scatterpolargl\": [{\"marker\": {\"colorbar\": {\"outlinewidth\": 0, \"ticks\": \"\"}}, \"type\": \"scatterpolargl\"}], \"scatterternary\": [{\"marker\": {\"colorbar\": {\"outlinewidth\": 0, \"ticks\": \"\"}}, \"type\": \"scatterternary\"}], \"surface\": [{\"colorbar\": {\"outlinewidth\": 0, \"ticks\": \"\"}, \"colorscale\": [[0.0, \"#0d0887\"], [0.1111111111111111, \"#46039f\"], [0.2222222222222222, \"#7201a8\"], [0.3333333333333333, \"#9c179e\"], [0.4444444444444444, \"#bd3786\"], [0.5555555555555556, \"#d8576b\"], [0.6666666666666666, \"#ed7953\"], [0.7777777777777778, \"#fb9f3a\"], [0.8888888888888888, \"#fdca26\"], [1.0, \"#f0f921\"]], \"type\": \"surface\"}], \"table\": [{\"cells\": {\"fill\": {\"color\": \"#EBF0F8\"}, \"line\": {\"color\": \"white\"}}, \"header\": {\"fill\": {\"color\": \"#C8D4E3\"}, \"line\": {\"color\": \"white\"}}, \"type\": \"table\"}]}, \"layout\": {\"annotationdefaults\": {\"arrowcolor\": \"#2a3f5f\", \"arrowhead\": 0, \"arrowwidth\": 1}, \"coloraxis\": {\"colorbar\": {\"outlinewidth\": 0, \"ticks\": \"\"}}, \"colorscale\": {\"diverging\": [[0, \"#8e0152\"], [0.1, \"#c51b7d\"], [0.2, \"#de77ae\"], [0.3, \"#f1b6da\"], [0.4, \"#fde0ef\"], [0.5, \"#f7f7f7\"], [0.6, \"#e6f5d0\"], [0.7, \"#b8e186\"], [0.8, \"#7fbc41\"], [0.9, \"#4d9221\"], [1, \"#276419\"]], \"sequential\": [[0.0, \"#0d0887\"], [0.1111111111111111, \"#46039f\"], [0.2222222222222222, \"#7201a8\"], [0.3333333333333333, \"#9c179e\"], [0.4444444444444444, \"#bd3786\"], [0.5555555555555556, \"#d8576b\"], [0.6666666666666666, \"#ed7953\"], [0.7777777777777778, \"#fb9f3a\"], [0.8888888888888888, \"#fdca26\"], [1.0, \"#f0f921\"]], \"sequentialminus\": [[0.0, \"#0d0887\"], [0.1111111111111111, \"#46039f\"], [0.2222222222222222, \"#7201a8\"], [0.3333333333333333, \"#9c179e\"], [0.4444444444444444, \"#bd3786\"], [0.5555555555555556, \"#d8576b\"], [0.6666666666666666, \"#ed7953\"], [0.7777777777777778, \"#fb9f3a\"], [0.8888888888888888, \"#fdca26\"], [1.0, \"#f0f921\"]]}, \"colorway\": [\"#636efa\", \"#EF553B\", \"#00cc96\", \"#ab63fa\", \"#FFA15A\", \"#19d3f3\", \"#FF6692\", \"#B6E880\", \"#FF97FF\", \"#FECB52\"], \"font\": {\"color\": \"#2a3f5f\"}, \"geo\": {\"bgcolor\": \"white\", \"lakecolor\": \"white\", \"landcolor\": \"#E5ECF6\", \"showlakes\": true, \"showland\": true, \"subunitcolor\": \"white\"}, \"hoverlabel\": {\"align\": \"left\"}, \"hovermode\": \"closest\", \"mapbox\": {\"style\": \"light\"}, \"paper_bgcolor\": \"white\", \"plot_bgcolor\": \"#E5ECF6\", \"polar\": {\"angularaxis\": {\"gridcolor\": \"white\", \"linecolor\": \"white\", \"ticks\": \"\"}, \"bgcolor\": \"#E5ECF6\", \"radialaxis\": {\"gridcolor\": \"white\", \"linecolor\": \"white\", \"ticks\": \"\"}}, \"scene\": {\"xaxis\": {\"backgroundcolor\": \"#E5ECF6\", \"gridcolor\": \"white\", \"gridwidth\": 2, \"linecolor\": \"white\", \"showbackground\": true, \"ticks\": \"\", \"zerolinecolor\": \"white\"}, \"yaxis\": {\"backgroundcolor\": \"#E5ECF6\", \"gridcolor\": \"white\", \"gridwidth\": 2, \"linecolor\": \"white\", \"showbackground\": true, \"ticks\": \"\", \"zerolinecolor\": \"white\"}, \"zaxis\": {\"backgroundcolor\": \"#E5ECF6\", \"gridcolor\": \"white\", \"gridwidth\": 2, \"linecolor\": \"white\", \"showbackground\": true, \"ticks\": \"\", \"zerolinecolor\": \"white\"}}, \"shapedefaults\": {\"line\": {\"color\": \"#2a3f5f\"}}, \"ternary\": {\"aaxis\": {\"gridcolor\": \"white\", \"linecolor\": \"white\", \"ticks\": \"\"}, \"baxis\": {\"gridcolor\": \"white\", \"linecolor\": \"white\", \"ticks\": \"\"}, \"bgcolor\": \"#E5ECF6\", \"caxis\": {\"gridcolor\": \"white\", \"linecolor\": \"white\", \"ticks\": \"\"}}, \"title\": {\"x\": 0.05}, \"xaxis\": {\"automargin\": true, \"gridcolor\": \"white\", \"linecolor\": \"white\", \"ticks\": \"\", \"title\": {\"standoff\": 15}, \"zerolinecolor\": \"white\", \"zerolinewidth\": 2}, \"yaxis\": {\"automargin\": true, \"gridcolor\": \"white\", \"linecolor\": \"white\", \"ticks\": \"\", \"title\": {\"standoff\": 15}, \"zerolinecolor\": \"white\", \"zerolinewidth\": 2}}}},\n",
       "                        {\"responsive\": true}\n",
       "                    ).then(function(){\n",
       "                            \n",
       "var gd = document.getElementById('31e11739-74de-404e-b505-793215b178fd');\n",
       "var x = new MutationObserver(function (mutations, observer) {{\n",
       "        var display = window.getComputedStyle(gd).display;\n",
       "        if (!display || display === 'none') {{\n",
       "            console.log([gd, 'removed!']);\n",
       "            Plotly.purge(gd);\n",
       "            observer.disconnect();\n",
       "        }}\n",
       "}});\n",
       "\n",
       "// Listen for the removal of the full notebook cells\n",
       "var notebookContainer = gd.closest('#notebook-container');\n",
       "if (notebookContainer) {{\n",
       "    x.observe(notebookContainer, {childList: true});\n",
       "}}\n",
       "\n",
       "// Listen for the clearing of the current output cell\n",
       "var outputEl = gd.closest('.output');\n",
       "if (outputEl) {{\n",
       "    x.observe(outputEl, {childList: true});\n",
       "}}\n",
       "\n",
       "                        })\n",
       "                };\n",
       "                });\n",
       "            </script>\n",
       "        </div>"
      ]
     },
     "metadata": {},
     "output_type": "display_data"
    }
   ],
   "source": [
    "fig = px.pie(df4, values='benef_identifiant_valeur', names=df4.index)\n",
    "fig.show()"
   ]
  },
  {
   "cell_type": "markdown",
   "metadata": {},
   "source": [
    "### 5. Statistique discriptive sur la sample de la table 'convention'"
   ]
  },
  {
   "cell_type": "markdown",
   "metadata": {},
   "source": [
    "#### 5.1 Le 25 entreprises qui concluent le plus de conventions"
   ]
  },
  {
   "cell_type": "code",
   "execution_count": 95,
   "metadata": {},
   "outputs": [],
   "source": [
    "group_data5=pd.DataFrame(conventionSample.groupby(['denomination_sociale'])['conv_objet'].count())"
   ]
  },
  {
   "cell_type": "code",
   "execution_count": 96,
   "metadata": {
    "scrolled": true
   },
   "outputs": [],
   "source": [
    "group_data5=group_data5.sort_values(['conv_objet'],ascending=False).head(25)"
   ]
  },
  {
   "cell_type": "code",
   "execution_count": 97,
   "metadata": {},
   "outputs": [
    {
     "data": {
      "text/html": [
       "<div>\n",
       "<style scoped>\n",
       "    .dataframe tbody tr th:only-of-type {\n",
       "        vertical-align: middle;\n",
       "    }\n",
       "\n",
       "    .dataframe tbody tr th {\n",
       "        vertical-align: top;\n",
       "    }\n",
       "\n",
       "    .dataframe thead th {\n",
       "        text-align: right;\n",
       "    }\n",
       "</style>\n",
       "<table border=\"1\" class=\"dataframe\">\n",
       "  <thead>\n",
       "    <tr style=\"text-align: right;\">\n",
       "      <th></th>\n",
       "      <th>conv_objet</th>\n",
       "    </tr>\n",
       "    <tr>\n",
       "      <th>denomination_sociale</th>\n",
       "      <th></th>\n",
       "    </tr>\n",
       "  </thead>\n",
       "  <tbody>\n",
       "    <tr>\n",
       "      <td>ASTRAZENECA</td>\n",
       "      <td>89594</td>\n",
       "    </tr>\n",
       "    <tr>\n",
       "      <td>SANOFI AVENTIS FRANCE</td>\n",
       "      <td>85322</td>\n",
       "    </tr>\n",
       "    <tr>\n",
       "      <td>MSD France</td>\n",
       "      <td>80187</td>\n",
       "    </tr>\n",
       "    <tr>\n",
       "      <td>LABORATOIRE GLAXOSMITHKLINE</td>\n",
       "      <td>48973</td>\n",
       "    </tr>\n",
       "    <tr>\n",
       "      <td>Bayer HealthCare SAS</td>\n",
       "      <td>34841</td>\n",
       "    </tr>\n",
       "    <tr>\n",
       "      <td>NOVARTIS PHARMA SAS</td>\n",
       "      <td>31463</td>\n",
       "    </tr>\n",
       "    <tr>\n",
       "      <td>ROCHE SAS</td>\n",
       "      <td>31316</td>\n",
       "    </tr>\n",
       "    <tr>\n",
       "      <td>BOIRON</td>\n",
       "      <td>30163</td>\n",
       "    </tr>\n",
       "    <tr>\n",
       "      <td>A+A</td>\n",
       "      <td>29803</td>\n",
       "    </tr>\n",
       "    <tr>\n",
       "      <td>JANSSEN-CILAG</td>\n",
       "      <td>26857</td>\n",
       "    </tr>\n",
       "    <tr>\n",
       "      <td>WorldOne Group B.V.</td>\n",
       "      <td>25702</td>\n",
       "    </tr>\n",
       "    <tr>\n",
       "      <td>PFIZER SAS</td>\n",
       "      <td>24522</td>\n",
       "    </tr>\n",
       "    <tr>\n",
       "      <td>LES LABORATOIRES SERVIER</td>\n",
       "      <td>23675</td>\n",
       "    </tr>\n",
       "    <tr>\n",
       "      <td>Lilly France SAS</td>\n",
       "      <td>22815</td>\n",
       "    </tr>\n",
       "    <tr>\n",
       "      <td>MENARINI FRANCE</td>\n",
       "      <td>21939</td>\n",
       "    </tr>\n",
       "    <tr>\n",
       "      <td>AbbVie</td>\n",
       "      <td>21180</td>\n",
       "    </tr>\n",
       "    <tr>\n",
       "      <td>M3 Global Research Ltd</td>\n",
       "      <td>19904</td>\n",
       "    </tr>\n",
       "    <tr>\n",
       "      <td>BOEHRINGER INGELHEIM FRANCE</td>\n",
       "      <td>19556</td>\n",
       "    </tr>\n",
       "    <tr>\n",
       "      <td>LUNDBECK SAS</td>\n",
       "      <td>18840</td>\n",
       "    </tr>\n",
       "    <tr>\n",
       "      <td>AMGEN SAS</td>\n",
       "      <td>17258</td>\n",
       "    </tr>\n",
       "    <tr>\n",
       "      <td>PIERRE FABRE MEDICAMENT</td>\n",
       "      <td>16174</td>\n",
       "    </tr>\n",
       "    <tr>\n",
       "      <td>TEVA SANTE SAS</td>\n",
       "      <td>15936</td>\n",
       "    </tr>\n",
       "    <tr>\n",
       "      <td>All Global</td>\n",
       "      <td>12572</td>\n",
       "    </tr>\n",
       "    <tr>\n",
       "      <td>IPSEN PHARMA</td>\n",
       "      <td>12245</td>\n",
       "    </tr>\n",
       "    <tr>\n",
       "      <td>LEO Pharma</td>\n",
       "      <td>12093</td>\n",
       "    </tr>\n",
       "  </tbody>\n",
       "</table>\n",
       "</div>"
      ],
      "text/plain": [
       "                             conv_objet\n",
       "denomination_sociale                   \n",
       "ASTRAZENECA                       89594\n",
       "SANOFI AVENTIS FRANCE             85322\n",
       "MSD France                        80187\n",
       "LABORATOIRE GLAXOSMITHKLINE       48973\n",
       "Bayer HealthCare SAS              34841\n",
       "NOVARTIS PHARMA SAS               31463\n",
       "ROCHE SAS                         31316\n",
       "BOIRON                            30163\n",
       "A+A                               29803\n",
       "JANSSEN-CILAG                     26857\n",
       "WorldOne Group B.V.               25702\n",
       "PFIZER SAS                        24522\n",
       "LES LABORATOIRES SERVIER          23675\n",
       "Lilly France SAS                  22815\n",
       "MENARINI FRANCE                   21939\n",
       "AbbVie                            21180\n",
       "M3 Global Research Ltd            19904\n",
       "BOEHRINGER INGELHEIM FRANCE       19556\n",
       "LUNDBECK SAS                      18840\n",
       "AMGEN SAS                         17258\n",
       "PIERRE FABRE MEDICAMENT           16174\n",
       "TEVA SANTE SAS                    15936\n",
       "All Global                        12572\n",
       "IPSEN PHARMA                      12245\n",
       "LEO Pharma                        12093"
      ]
     },
     "execution_count": 97,
     "metadata": {},
     "output_type": "execute_result"
    }
   ],
   "source": [
    "group_data5"
   ]
  },
  {
   "cell_type": "code",
   "execution_count": 98,
   "metadata": {},
   "outputs": [],
   "source": [
    "import plotly.express as px"
   ]
  },
  {
   "cell_type": "code",
   "execution_count": 99,
   "metadata": {},
   "outputs": [
    {
     "data": {
      "text/html": [
       "<div>\n",
       "<style scoped>\n",
       "    .dataframe tbody tr th:only-of-type {\n",
       "        vertical-align: middle;\n",
       "    }\n",
       "\n",
       "    .dataframe tbody tr th {\n",
       "        vertical-align: top;\n",
       "    }\n",
       "\n",
       "    .dataframe thead th {\n",
       "        text-align: right;\n",
       "    }\n",
       "</style>\n",
       "<table border=\"1\" class=\"dataframe\">\n",
       "  <thead>\n",
       "    <tr style=\"text-align: right;\">\n",
       "      <th></th>\n",
       "      <th>conv_objet</th>\n",
       "    </tr>\n",
       "    <tr>\n",
       "      <th>denomination_sociale</th>\n",
       "      <th></th>\n",
       "    </tr>\n",
       "  </thead>\n",
       "  <tbody>\n",
       "    <tr>\n",
       "      <td>ASTRAZENECA</td>\n",
       "      <td>89594</td>\n",
       "    </tr>\n",
       "    <tr>\n",
       "      <td>SANOFI AVENTIS FRANCE</td>\n",
       "      <td>85322</td>\n",
       "    </tr>\n",
       "    <tr>\n",
       "      <td>MSD France</td>\n",
       "      <td>80187</td>\n",
       "    </tr>\n",
       "    <tr>\n",
       "      <td>LABORATOIRE GLAXOSMITHKLINE</td>\n",
       "      <td>48973</td>\n",
       "    </tr>\n",
       "    <tr>\n",
       "      <td>Bayer HealthCare SAS</td>\n",
       "      <td>34841</td>\n",
       "    </tr>\n",
       "    <tr>\n",
       "      <td>NOVARTIS PHARMA SAS</td>\n",
       "      <td>31463</td>\n",
       "    </tr>\n",
       "    <tr>\n",
       "      <td>ROCHE SAS</td>\n",
       "      <td>31316</td>\n",
       "    </tr>\n",
       "    <tr>\n",
       "      <td>BOIRON</td>\n",
       "      <td>30163</td>\n",
       "    </tr>\n",
       "    <tr>\n",
       "      <td>A+A</td>\n",
       "      <td>29803</td>\n",
       "    </tr>\n",
       "    <tr>\n",
       "      <td>JANSSEN-CILAG</td>\n",
       "      <td>26857</td>\n",
       "    </tr>\n",
       "    <tr>\n",
       "      <td>WorldOne Group B.V.</td>\n",
       "      <td>25702</td>\n",
       "    </tr>\n",
       "    <tr>\n",
       "      <td>PFIZER SAS</td>\n",
       "      <td>24522</td>\n",
       "    </tr>\n",
       "    <tr>\n",
       "      <td>LES LABORATOIRES SERVIER</td>\n",
       "      <td>23675</td>\n",
       "    </tr>\n",
       "    <tr>\n",
       "      <td>Lilly France SAS</td>\n",
       "      <td>22815</td>\n",
       "    </tr>\n",
       "    <tr>\n",
       "      <td>MENARINI FRANCE</td>\n",
       "      <td>21939</td>\n",
       "    </tr>\n",
       "    <tr>\n",
       "      <td>AbbVie</td>\n",
       "      <td>21180</td>\n",
       "    </tr>\n",
       "    <tr>\n",
       "      <td>M3 Global Research Ltd</td>\n",
       "      <td>19904</td>\n",
       "    </tr>\n",
       "    <tr>\n",
       "      <td>BOEHRINGER INGELHEIM FRANCE</td>\n",
       "      <td>19556</td>\n",
       "    </tr>\n",
       "    <tr>\n",
       "      <td>LUNDBECK SAS</td>\n",
       "      <td>18840</td>\n",
       "    </tr>\n",
       "    <tr>\n",
       "      <td>AMGEN SAS</td>\n",
       "      <td>17258</td>\n",
       "    </tr>\n",
       "    <tr>\n",
       "      <td>PIERRE FABRE MEDICAMENT</td>\n",
       "      <td>16174</td>\n",
       "    </tr>\n",
       "    <tr>\n",
       "      <td>TEVA SANTE SAS</td>\n",
       "      <td>15936</td>\n",
       "    </tr>\n",
       "    <tr>\n",
       "      <td>All Global</td>\n",
       "      <td>12572</td>\n",
       "    </tr>\n",
       "    <tr>\n",
       "      <td>IPSEN PHARMA</td>\n",
       "      <td>12245</td>\n",
       "    </tr>\n",
       "    <tr>\n",
       "      <td>LEO Pharma</td>\n",
       "      <td>12093</td>\n",
       "    </tr>\n",
       "  </tbody>\n",
       "</table>\n",
       "</div>"
      ],
      "text/plain": [
       "                             conv_objet\n",
       "denomination_sociale                   \n",
       "ASTRAZENECA                       89594\n",
       "SANOFI AVENTIS FRANCE             85322\n",
       "MSD France                        80187\n",
       "LABORATOIRE GLAXOSMITHKLINE       48973\n",
       "Bayer HealthCare SAS              34841\n",
       "NOVARTIS PHARMA SAS               31463\n",
       "ROCHE SAS                         31316\n",
       "BOIRON                            30163\n",
       "A+A                               29803\n",
       "JANSSEN-CILAG                     26857\n",
       "WorldOne Group B.V.               25702\n",
       "PFIZER SAS                        24522\n",
       "LES LABORATOIRES SERVIER          23675\n",
       "Lilly France SAS                  22815\n",
       "MENARINI FRANCE                   21939\n",
       "AbbVie                            21180\n",
       "M3 Global Research Ltd            19904\n",
       "BOEHRINGER INGELHEIM FRANCE       19556\n",
       "LUNDBECK SAS                      18840\n",
       "AMGEN SAS                         17258\n",
       "PIERRE FABRE MEDICAMENT           16174\n",
       "TEVA SANTE SAS                    15936\n",
       "All Global                        12572\n",
       "IPSEN PHARMA                      12245\n",
       "LEO Pharma                        12093"
      ]
     },
     "execution_count": 99,
     "metadata": {},
     "output_type": "execute_result"
    }
   ],
   "source": [
    "#group_data5['percentage convention']= group_data5['conv_objet']/group_data5['conv_objet'].sum()\n",
    "group_data5"
   ]
  },
  {
   "cell_type": "code",
   "execution_count": 100,
   "metadata": {},
   "outputs": [
    {
     "data": {
      "application/vnd.plotly.v1+json": {
       "config": {
        "plotlyServerURL": "https://plot.ly"
       },
       "data": [
        {
         "alignmentgroup": "True",
         "hoverlabel": {
          "namelength": 0
         },
         "hovertemplate": "x=%{x}<br>conv_objet=%{y}",
         "legendgroup": "",
         "marker": {
          "color": "#636efa"
         },
         "name": "",
         "offsetgroup": "",
         "orientation": "v",
         "showlegend": false,
         "textposition": "auto",
         "type": "bar",
         "x": [
          "ASTRAZENECA",
          "SANOFI AVENTIS FRANCE",
          "MSD France",
          "LABORATOIRE GLAXOSMITHKLINE",
          "Bayer HealthCare SAS",
          "NOVARTIS PHARMA SAS",
          "ROCHE SAS",
          "BOIRON",
          "A+A",
          "JANSSEN-CILAG",
          "WorldOne Group B.V.",
          "PFIZER SAS",
          "LES LABORATOIRES SERVIER",
          "Lilly France SAS",
          "MENARINI FRANCE",
          "AbbVie",
          "M3 Global Research Ltd",
          "BOEHRINGER INGELHEIM FRANCE",
          "LUNDBECK SAS",
          "AMGEN SAS",
          "PIERRE FABRE MEDICAMENT",
          "TEVA SANTE SAS",
          "All Global",
          "IPSEN PHARMA",
          "LEO Pharma"
         ],
         "xaxis": "x",
         "y": [
          89594,
          85322,
          80187,
          48973,
          34841,
          31463,
          31316,
          30163,
          29803,
          26857,
          25702,
          24522,
          23675,
          22815,
          21939,
          21180,
          19904,
          19556,
          18840,
          17258,
          16174,
          15936,
          12572,
          12245,
          12093
         ],
         "yaxis": "y"
        }
       ],
       "layout": {
        "barmode": "relative",
        "legend": {
         "tracegroupgap": 0
        },
        "margin": {
         "t": 60
        },
        "template": {
         "data": {
          "bar": [
           {
            "error_x": {
             "color": "#2a3f5f"
            },
            "error_y": {
             "color": "#2a3f5f"
            },
            "marker": {
             "line": {
              "color": "#E5ECF6",
              "width": 0.5
             }
            },
            "type": "bar"
           }
          ],
          "barpolar": [
           {
            "marker": {
             "line": {
              "color": "#E5ECF6",
              "width": 0.5
             }
            },
            "type": "barpolar"
           }
          ],
          "carpet": [
           {
            "aaxis": {
             "endlinecolor": "#2a3f5f",
             "gridcolor": "white",
             "linecolor": "white",
             "minorgridcolor": "white",
             "startlinecolor": "#2a3f5f"
            },
            "baxis": {
             "endlinecolor": "#2a3f5f",
             "gridcolor": "white",
             "linecolor": "white",
             "minorgridcolor": "white",
             "startlinecolor": "#2a3f5f"
            },
            "type": "carpet"
           }
          ],
          "choropleth": [
           {
            "colorbar": {
             "outlinewidth": 0,
             "ticks": ""
            },
            "type": "choropleth"
           }
          ],
          "contour": [
           {
            "colorbar": {
             "outlinewidth": 0,
             "ticks": ""
            },
            "colorscale": [
             [
              0,
              "#0d0887"
             ],
             [
              0.1111111111111111,
              "#46039f"
             ],
             [
              0.2222222222222222,
              "#7201a8"
             ],
             [
              0.3333333333333333,
              "#9c179e"
             ],
             [
              0.4444444444444444,
              "#bd3786"
             ],
             [
              0.5555555555555556,
              "#d8576b"
             ],
             [
              0.6666666666666666,
              "#ed7953"
             ],
             [
              0.7777777777777778,
              "#fb9f3a"
             ],
             [
              0.8888888888888888,
              "#fdca26"
             ],
             [
              1,
              "#f0f921"
             ]
            ],
            "type": "contour"
           }
          ],
          "contourcarpet": [
           {
            "colorbar": {
             "outlinewidth": 0,
             "ticks": ""
            },
            "type": "contourcarpet"
           }
          ],
          "heatmap": [
           {
            "colorbar": {
             "outlinewidth": 0,
             "ticks": ""
            },
            "colorscale": [
             [
              0,
              "#0d0887"
             ],
             [
              0.1111111111111111,
              "#46039f"
             ],
             [
              0.2222222222222222,
              "#7201a8"
             ],
             [
              0.3333333333333333,
              "#9c179e"
             ],
             [
              0.4444444444444444,
              "#bd3786"
             ],
             [
              0.5555555555555556,
              "#d8576b"
             ],
             [
              0.6666666666666666,
              "#ed7953"
             ],
             [
              0.7777777777777778,
              "#fb9f3a"
             ],
             [
              0.8888888888888888,
              "#fdca26"
             ],
             [
              1,
              "#f0f921"
             ]
            ],
            "type": "heatmap"
           }
          ],
          "heatmapgl": [
           {
            "colorbar": {
             "outlinewidth": 0,
             "ticks": ""
            },
            "colorscale": [
             [
              0,
              "#0d0887"
             ],
             [
              0.1111111111111111,
              "#46039f"
             ],
             [
              0.2222222222222222,
              "#7201a8"
             ],
             [
              0.3333333333333333,
              "#9c179e"
             ],
             [
              0.4444444444444444,
              "#bd3786"
             ],
             [
              0.5555555555555556,
              "#d8576b"
             ],
             [
              0.6666666666666666,
              "#ed7953"
             ],
             [
              0.7777777777777778,
              "#fb9f3a"
             ],
             [
              0.8888888888888888,
              "#fdca26"
             ],
             [
              1,
              "#f0f921"
             ]
            ],
            "type": "heatmapgl"
           }
          ],
          "histogram": [
           {
            "marker": {
             "colorbar": {
              "outlinewidth": 0,
              "ticks": ""
             }
            },
            "type": "histogram"
           }
          ],
          "histogram2d": [
           {
            "colorbar": {
             "outlinewidth": 0,
             "ticks": ""
            },
            "colorscale": [
             [
              0,
              "#0d0887"
             ],
             [
              0.1111111111111111,
              "#46039f"
             ],
             [
              0.2222222222222222,
              "#7201a8"
             ],
             [
              0.3333333333333333,
              "#9c179e"
             ],
             [
              0.4444444444444444,
              "#bd3786"
             ],
             [
              0.5555555555555556,
              "#d8576b"
             ],
             [
              0.6666666666666666,
              "#ed7953"
             ],
             [
              0.7777777777777778,
              "#fb9f3a"
             ],
             [
              0.8888888888888888,
              "#fdca26"
             ],
             [
              1,
              "#f0f921"
             ]
            ],
            "type": "histogram2d"
           }
          ],
          "histogram2dcontour": [
           {
            "colorbar": {
             "outlinewidth": 0,
             "ticks": ""
            },
            "colorscale": [
             [
              0,
              "#0d0887"
             ],
             [
              0.1111111111111111,
              "#46039f"
             ],
             [
              0.2222222222222222,
              "#7201a8"
             ],
             [
              0.3333333333333333,
              "#9c179e"
             ],
             [
              0.4444444444444444,
              "#bd3786"
             ],
             [
              0.5555555555555556,
              "#d8576b"
             ],
             [
              0.6666666666666666,
              "#ed7953"
             ],
             [
              0.7777777777777778,
              "#fb9f3a"
             ],
             [
              0.8888888888888888,
              "#fdca26"
             ],
             [
              1,
              "#f0f921"
             ]
            ],
            "type": "histogram2dcontour"
           }
          ],
          "mesh3d": [
           {
            "colorbar": {
             "outlinewidth": 0,
             "ticks": ""
            },
            "type": "mesh3d"
           }
          ],
          "parcoords": [
           {
            "line": {
             "colorbar": {
              "outlinewidth": 0,
              "ticks": ""
             }
            },
            "type": "parcoords"
           }
          ],
          "pie": [
           {
            "automargin": true,
            "type": "pie"
           }
          ],
          "scatter": [
           {
            "marker": {
             "colorbar": {
              "outlinewidth": 0,
              "ticks": ""
             }
            },
            "type": "scatter"
           }
          ],
          "scatter3d": [
           {
            "line": {
             "colorbar": {
              "outlinewidth": 0,
              "ticks": ""
             }
            },
            "marker": {
             "colorbar": {
              "outlinewidth": 0,
              "ticks": ""
             }
            },
            "type": "scatter3d"
           }
          ],
          "scattercarpet": [
           {
            "marker": {
             "colorbar": {
              "outlinewidth": 0,
              "ticks": ""
             }
            },
            "type": "scattercarpet"
           }
          ],
          "scattergeo": [
           {
            "marker": {
             "colorbar": {
              "outlinewidth": 0,
              "ticks": ""
             }
            },
            "type": "scattergeo"
           }
          ],
          "scattergl": [
           {
            "marker": {
             "colorbar": {
              "outlinewidth": 0,
              "ticks": ""
             }
            },
            "type": "scattergl"
           }
          ],
          "scattermapbox": [
           {
            "marker": {
             "colorbar": {
              "outlinewidth": 0,
              "ticks": ""
             }
            },
            "type": "scattermapbox"
           }
          ],
          "scatterpolar": [
           {
            "marker": {
             "colorbar": {
              "outlinewidth": 0,
              "ticks": ""
             }
            },
            "type": "scatterpolar"
           }
          ],
          "scatterpolargl": [
           {
            "marker": {
             "colorbar": {
              "outlinewidth": 0,
              "ticks": ""
             }
            },
            "type": "scatterpolargl"
           }
          ],
          "scatterternary": [
           {
            "marker": {
             "colorbar": {
              "outlinewidth": 0,
              "ticks": ""
             }
            },
            "type": "scatterternary"
           }
          ],
          "surface": [
           {
            "colorbar": {
             "outlinewidth": 0,
             "ticks": ""
            },
            "colorscale": [
             [
              0,
              "#0d0887"
             ],
             [
              0.1111111111111111,
              "#46039f"
             ],
             [
              0.2222222222222222,
              "#7201a8"
             ],
             [
              0.3333333333333333,
              "#9c179e"
             ],
             [
              0.4444444444444444,
              "#bd3786"
             ],
             [
              0.5555555555555556,
              "#d8576b"
             ],
             [
              0.6666666666666666,
              "#ed7953"
             ],
             [
              0.7777777777777778,
              "#fb9f3a"
             ],
             [
              0.8888888888888888,
              "#fdca26"
             ],
             [
              1,
              "#f0f921"
             ]
            ],
            "type": "surface"
           }
          ],
          "table": [
           {
            "cells": {
             "fill": {
              "color": "#EBF0F8"
             },
             "line": {
              "color": "white"
             }
            },
            "header": {
             "fill": {
              "color": "#C8D4E3"
             },
             "line": {
              "color": "white"
             }
            },
            "type": "table"
           }
          ]
         },
         "layout": {
          "annotationdefaults": {
           "arrowcolor": "#2a3f5f",
           "arrowhead": 0,
           "arrowwidth": 1
          },
          "coloraxis": {
           "colorbar": {
            "outlinewidth": 0,
            "ticks": ""
           }
          },
          "colorscale": {
           "diverging": [
            [
             0,
             "#8e0152"
            ],
            [
             0.1,
             "#c51b7d"
            ],
            [
             0.2,
             "#de77ae"
            ],
            [
             0.3,
             "#f1b6da"
            ],
            [
             0.4,
             "#fde0ef"
            ],
            [
             0.5,
             "#f7f7f7"
            ],
            [
             0.6,
             "#e6f5d0"
            ],
            [
             0.7,
             "#b8e186"
            ],
            [
             0.8,
             "#7fbc41"
            ],
            [
             0.9,
             "#4d9221"
            ],
            [
             1,
             "#276419"
            ]
           ],
           "sequential": [
            [
             0,
             "#0d0887"
            ],
            [
             0.1111111111111111,
             "#46039f"
            ],
            [
             0.2222222222222222,
             "#7201a8"
            ],
            [
             0.3333333333333333,
             "#9c179e"
            ],
            [
             0.4444444444444444,
             "#bd3786"
            ],
            [
             0.5555555555555556,
             "#d8576b"
            ],
            [
             0.6666666666666666,
             "#ed7953"
            ],
            [
             0.7777777777777778,
             "#fb9f3a"
            ],
            [
             0.8888888888888888,
             "#fdca26"
            ],
            [
             1,
             "#f0f921"
            ]
           ],
           "sequentialminus": [
            [
             0,
             "#0d0887"
            ],
            [
             0.1111111111111111,
             "#46039f"
            ],
            [
             0.2222222222222222,
             "#7201a8"
            ],
            [
             0.3333333333333333,
             "#9c179e"
            ],
            [
             0.4444444444444444,
             "#bd3786"
            ],
            [
             0.5555555555555556,
             "#d8576b"
            ],
            [
             0.6666666666666666,
             "#ed7953"
            ],
            [
             0.7777777777777778,
             "#fb9f3a"
            ],
            [
             0.8888888888888888,
             "#fdca26"
            ],
            [
             1,
             "#f0f921"
            ]
           ]
          },
          "colorway": [
           "#636efa",
           "#EF553B",
           "#00cc96",
           "#ab63fa",
           "#FFA15A",
           "#19d3f3",
           "#FF6692",
           "#B6E880",
           "#FF97FF",
           "#FECB52"
          ],
          "font": {
           "color": "#2a3f5f"
          },
          "geo": {
           "bgcolor": "white",
           "lakecolor": "white",
           "landcolor": "#E5ECF6",
           "showlakes": true,
           "showland": true,
           "subunitcolor": "white"
          },
          "hoverlabel": {
           "align": "left"
          },
          "hovermode": "closest",
          "mapbox": {
           "style": "light"
          },
          "paper_bgcolor": "white",
          "plot_bgcolor": "#E5ECF6",
          "polar": {
           "angularaxis": {
            "gridcolor": "white",
            "linecolor": "white",
            "ticks": ""
           },
           "bgcolor": "#E5ECF6",
           "radialaxis": {
            "gridcolor": "white",
            "linecolor": "white",
            "ticks": ""
           }
          },
          "scene": {
           "xaxis": {
            "backgroundcolor": "#E5ECF6",
            "gridcolor": "white",
            "gridwidth": 2,
            "linecolor": "white",
            "showbackground": true,
            "ticks": "",
            "zerolinecolor": "white"
           },
           "yaxis": {
            "backgroundcolor": "#E5ECF6",
            "gridcolor": "white",
            "gridwidth": 2,
            "linecolor": "white",
            "showbackground": true,
            "ticks": "",
            "zerolinecolor": "white"
           },
           "zaxis": {
            "backgroundcolor": "#E5ECF6",
            "gridcolor": "white",
            "gridwidth": 2,
            "linecolor": "white",
            "showbackground": true,
            "ticks": "",
            "zerolinecolor": "white"
           }
          },
          "shapedefaults": {
           "line": {
            "color": "#2a3f5f"
           }
          },
          "ternary": {
           "aaxis": {
            "gridcolor": "white",
            "linecolor": "white",
            "ticks": ""
           },
           "baxis": {
            "gridcolor": "white",
            "linecolor": "white",
            "ticks": ""
           },
           "bgcolor": "#E5ECF6",
           "caxis": {
            "gridcolor": "white",
            "linecolor": "white",
            "ticks": ""
           }
          },
          "title": {
           "x": 0.05
          },
          "xaxis": {
           "automargin": true,
           "gridcolor": "white",
           "linecolor": "white",
           "ticks": "",
           "title": {
            "standoff": 15
           },
           "zerolinecolor": "white",
           "zerolinewidth": 2
          },
          "yaxis": {
           "automargin": true,
           "gridcolor": "white",
           "linecolor": "white",
           "ticks": "",
           "title": {
            "standoff": 15
           },
           "zerolinecolor": "white",
           "zerolinewidth": 2
          }
         }
        },
        "title": {
         "text": "Le 25 entreprises qui concluent le plus de conventions"
        },
        "xaxis": {
         "anchor": "y",
         "domain": [
          0,
          1
         ],
         "title": {
          "text": "x"
         }
        },
        "yaxis": {
         "anchor": "x",
         "domain": [
          0,
          1
         ],
         "title": {
          "text": "conv_objet"
         }
        }
       }
      },
      "text/html": [
       "<div>\n",
       "        \n",
       "        \n",
       "            <div id=\"25be4264-e7ea-4a7d-94e4-6f0df6acfd72\" class=\"plotly-graph-div\" style=\"height:525px; width:100%;\"></div>\n",
       "            <script type=\"text/javascript\">\n",
       "                require([\"plotly\"], function(Plotly) {\n",
       "                    window.PLOTLYENV=window.PLOTLYENV || {};\n",
       "                    \n",
       "                if (document.getElementById(\"25be4264-e7ea-4a7d-94e4-6f0df6acfd72\")) {\n",
       "                    Plotly.newPlot(\n",
       "                        '25be4264-e7ea-4a7d-94e4-6f0df6acfd72',\n",
       "                        [{\"alignmentgroup\": \"True\", \"hoverlabel\": {\"namelength\": 0}, \"hovertemplate\": \"x=%{x}<br>conv_objet=%{y}\", \"legendgroup\": \"\", \"marker\": {\"color\": \"#636efa\"}, \"name\": \"\", \"offsetgroup\": \"\", \"orientation\": \"v\", \"showlegend\": false, \"textposition\": \"auto\", \"type\": \"bar\", \"x\": [\"ASTRAZENECA\", \"SANOFI AVENTIS FRANCE\", \"MSD France\", \"LABORATOIRE GLAXOSMITHKLINE\", \"Bayer HealthCare SAS\", \"NOVARTIS PHARMA SAS\", \"ROCHE SAS\", \"BOIRON\", \"A+A\", \"JANSSEN-CILAG\", \"WorldOne Group B.V.\", \"PFIZER SAS\", \"LES LABORATOIRES SERVIER\", \"Lilly France SAS\", \"MENARINI FRANCE\", \"AbbVie\", \"M3 Global Research Ltd\", \"BOEHRINGER INGELHEIM FRANCE\", \"LUNDBECK SAS\", \"AMGEN SAS\", \"PIERRE FABRE MEDICAMENT\", \"TEVA SANTE SAS\", \"All Global\", \"IPSEN PHARMA\", \"LEO Pharma\"], \"xaxis\": \"x\", \"y\": [89594, 85322, 80187, 48973, 34841, 31463, 31316, 30163, 29803, 26857, 25702, 24522, 23675, 22815, 21939, 21180, 19904, 19556, 18840, 17258, 16174, 15936, 12572, 12245, 12093], \"yaxis\": \"y\"}],\n",
       "                        {\"barmode\": \"relative\", \"legend\": {\"tracegroupgap\": 0}, \"margin\": {\"t\": 60}, \"template\": {\"data\": {\"bar\": [{\"error_x\": {\"color\": \"#2a3f5f\"}, \"error_y\": {\"color\": \"#2a3f5f\"}, \"marker\": {\"line\": {\"color\": \"#E5ECF6\", \"width\": 0.5}}, \"type\": \"bar\"}], \"barpolar\": [{\"marker\": {\"line\": {\"color\": \"#E5ECF6\", \"width\": 0.5}}, \"type\": \"barpolar\"}], \"carpet\": [{\"aaxis\": {\"endlinecolor\": \"#2a3f5f\", \"gridcolor\": \"white\", \"linecolor\": \"white\", \"minorgridcolor\": \"white\", \"startlinecolor\": \"#2a3f5f\"}, \"baxis\": {\"endlinecolor\": \"#2a3f5f\", \"gridcolor\": \"white\", \"linecolor\": \"white\", \"minorgridcolor\": \"white\", \"startlinecolor\": \"#2a3f5f\"}, \"type\": \"carpet\"}], \"choropleth\": [{\"colorbar\": {\"outlinewidth\": 0, \"ticks\": \"\"}, \"type\": \"choropleth\"}], \"contour\": [{\"colorbar\": {\"outlinewidth\": 0, \"ticks\": \"\"}, \"colorscale\": [[0.0, \"#0d0887\"], [0.1111111111111111, \"#46039f\"], [0.2222222222222222, \"#7201a8\"], [0.3333333333333333, \"#9c179e\"], [0.4444444444444444, \"#bd3786\"], [0.5555555555555556, \"#d8576b\"], [0.6666666666666666, \"#ed7953\"], [0.7777777777777778, \"#fb9f3a\"], [0.8888888888888888, \"#fdca26\"], [1.0, \"#f0f921\"]], \"type\": \"contour\"}], \"contourcarpet\": [{\"colorbar\": {\"outlinewidth\": 0, \"ticks\": \"\"}, \"type\": \"contourcarpet\"}], \"heatmap\": [{\"colorbar\": {\"outlinewidth\": 0, \"ticks\": \"\"}, \"colorscale\": [[0.0, \"#0d0887\"], [0.1111111111111111, \"#46039f\"], [0.2222222222222222, \"#7201a8\"], [0.3333333333333333, \"#9c179e\"], [0.4444444444444444, \"#bd3786\"], [0.5555555555555556, \"#d8576b\"], [0.6666666666666666, \"#ed7953\"], [0.7777777777777778, \"#fb9f3a\"], [0.8888888888888888, \"#fdca26\"], [1.0, \"#f0f921\"]], \"type\": \"heatmap\"}], \"heatmapgl\": [{\"colorbar\": {\"outlinewidth\": 0, \"ticks\": \"\"}, \"colorscale\": [[0.0, \"#0d0887\"], [0.1111111111111111, \"#46039f\"], [0.2222222222222222, \"#7201a8\"], [0.3333333333333333, \"#9c179e\"], [0.4444444444444444, \"#bd3786\"], [0.5555555555555556, \"#d8576b\"], [0.6666666666666666, \"#ed7953\"], [0.7777777777777778, \"#fb9f3a\"], [0.8888888888888888, \"#fdca26\"], [1.0, \"#f0f921\"]], \"type\": \"heatmapgl\"}], \"histogram\": [{\"marker\": {\"colorbar\": {\"outlinewidth\": 0, \"ticks\": \"\"}}, \"type\": \"histogram\"}], \"histogram2d\": [{\"colorbar\": {\"outlinewidth\": 0, \"ticks\": \"\"}, \"colorscale\": [[0.0, \"#0d0887\"], [0.1111111111111111, \"#46039f\"], [0.2222222222222222, \"#7201a8\"], [0.3333333333333333, \"#9c179e\"], [0.4444444444444444, \"#bd3786\"], [0.5555555555555556, \"#d8576b\"], [0.6666666666666666, \"#ed7953\"], [0.7777777777777778, \"#fb9f3a\"], [0.8888888888888888, \"#fdca26\"], [1.0, \"#f0f921\"]], \"type\": \"histogram2d\"}], \"histogram2dcontour\": [{\"colorbar\": {\"outlinewidth\": 0, \"ticks\": \"\"}, \"colorscale\": [[0.0, \"#0d0887\"], [0.1111111111111111, \"#46039f\"], [0.2222222222222222, \"#7201a8\"], [0.3333333333333333, \"#9c179e\"], [0.4444444444444444, \"#bd3786\"], [0.5555555555555556, \"#d8576b\"], [0.6666666666666666, \"#ed7953\"], [0.7777777777777778, \"#fb9f3a\"], [0.8888888888888888, \"#fdca26\"], [1.0, \"#f0f921\"]], \"type\": \"histogram2dcontour\"}], \"mesh3d\": [{\"colorbar\": {\"outlinewidth\": 0, \"ticks\": \"\"}, \"type\": \"mesh3d\"}], \"parcoords\": [{\"line\": {\"colorbar\": {\"outlinewidth\": 0, \"ticks\": \"\"}}, \"type\": \"parcoords\"}], \"pie\": [{\"automargin\": true, \"type\": \"pie\"}], \"scatter\": [{\"marker\": {\"colorbar\": {\"outlinewidth\": 0, \"ticks\": \"\"}}, \"type\": \"scatter\"}], \"scatter3d\": [{\"line\": {\"colorbar\": {\"outlinewidth\": 0, \"ticks\": \"\"}}, \"marker\": {\"colorbar\": {\"outlinewidth\": 0, \"ticks\": \"\"}}, \"type\": \"scatter3d\"}], \"scattercarpet\": [{\"marker\": {\"colorbar\": {\"outlinewidth\": 0, \"ticks\": \"\"}}, \"type\": \"scattercarpet\"}], \"scattergeo\": [{\"marker\": {\"colorbar\": {\"outlinewidth\": 0, \"ticks\": \"\"}}, \"type\": \"scattergeo\"}], \"scattergl\": [{\"marker\": {\"colorbar\": {\"outlinewidth\": 0, \"ticks\": \"\"}}, \"type\": \"scattergl\"}], \"scattermapbox\": [{\"marker\": {\"colorbar\": {\"outlinewidth\": 0, \"ticks\": \"\"}}, \"type\": \"scattermapbox\"}], \"scatterpolar\": [{\"marker\": {\"colorbar\": {\"outlinewidth\": 0, \"ticks\": \"\"}}, \"type\": \"scatterpolar\"}], \"scatterpolargl\": [{\"marker\": {\"colorbar\": {\"outlinewidth\": 0, \"ticks\": \"\"}}, \"type\": \"scatterpolargl\"}], \"scatterternary\": [{\"marker\": {\"colorbar\": {\"outlinewidth\": 0, \"ticks\": \"\"}}, \"type\": \"scatterternary\"}], \"surface\": [{\"colorbar\": {\"outlinewidth\": 0, \"ticks\": \"\"}, \"colorscale\": [[0.0, \"#0d0887\"], [0.1111111111111111, \"#46039f\"], [0.2222222222222222, \"#7201a8\"], [0.3333333333333333, \"#9c179e\"], [0.4444444444444444, \"#bd3786\"], [0.5555555555555556, \"#d8576b\"], [0.6666666666666666, \"#ed7953\"], [0.7777777777777778, \"#fb9f3a\"], [0.8888888888888888, \"#fdca26\"], [1.0, \"#f0f921\"]], \"type\": \"surface\"}], \"table\": [{\"cells\": {\"fill\": {\"color\": \"#EBF0F8\"}, \"line\": {\"color\": \"white\"}}, \"header\": {\"fill\": {\"color\": \"#C8D4E3\"}, \"line\": {\"color\": \"white\"}}, \"type\": \"table\"}]}, \"layout\": {\"annotationdefaults\": {\"arrowcolor\": \"#2a3f5f\", \"arrowhead\": 0, \"arrowwidth\": 1}, \"coloraxis\": {\"colorbar\": {\"outlinewidth\": 0, \"ticks\": \"\"}}, \"colorscale\": {\"diverging\": [[0, \"#8e0152\"], [0.1, \"#c51b7d\"], [0.2, \"#de77ae\"], [0.3, \"#f1b6da\"], [0.4, \"#fde0ef\"], [0.5, \"#f7f7f7\"], [0.6, \"#e6f5d0\"], [0.7, \"#b8e186\"], [0.8, \"#7fbc41\"], [0.9, \"#4d9221\"], [1, \"#276419\"]], \"sequential\": [[0.0, \"#0d0887\"], [0.1111111111111111, \"#46039f\"], [0.2222222222222222, \"#7201a8\"], [0.3333333333333333, \"#9c179e\"], [0.4444444444444444, \"#bd3786\"], [0.5555555555555556, \"#d8576b\"], [0.6666666666666666, \"#ed7953\"], [0.7777777777777778, \"#fb9f3a\"], [0.8888888888888888, \"#fdca26\"], [1.0, \"#f0f921\"]], \"sequentialminus\": [[0.0, \"#0d0887\"], [0.1111111111111111, \"#46039f\"], [0.2222222222222222, \"#7201a8\"], [0.3333333333333333, \"#9c179e\"], [0.4444444444444444, \"#bd3786\"], [0.5555555555555556, \"#d8576b\"], [0.6666666666666666, \"#ed7953\"], [0.7777777777777778, \"#fb9f3a\"], [0.8888888888888888, \"#fdca26\"], [1.0, \"#f0f921\"]]}, \"colorway\": [\"#636efa\", \"#EF553B\", \"#00cc96\", \"#ab63fa\", \"#FFA15A\", \"#19d3f3\", \"#FF6692\", \"#B6E880\", \"#FF97FF\", \"#FECB52\"], \"font\": {\"color\": \"#2a3f5f\"}, \"geo\": {\"bgcolor\": \"white\", \"lakecolor\": \"white\", \"landcolor\": \"#E5ECF6\", \"showlakes\": true, \"showland\": true, \"subunitcolor\": \"white\"}, \"hoverlabel\": {\"align\": \"left\"}, \"hovermode\": \"closest\", \"mapbox\": {\"style\": \"light\"}, \"paper_bgcolor\": \"white\", \"plot_bgcolor\": \"#E5ECF6\", \"polar\": {\"angularaxis\": {\"gridcolor\": \"white\", \"linecolor\": \"white\", \"ticks\": \"\"}, \"bgcolor\": \"#E5ECF6\", \"radialaxis\": {\"gridcolor\": \"white\", \"linecolor\": \"white\", \"ticks\": \"\"}}, \"scene\": {\"xaxis\": {\"backgroundcolor\": \"#E5ECF6\", \"gridcolor\": \"white\", \"gridwidth\": 2, \"linecolor\": \"white\", \"showbackground\": true, \"ticks\": \"\", \"zerolinecolor\": \"white\"}, \"yaxis\": {\"backgroundcolor\": \"#E5ECF6\", \"gridcolor\": \"white\", \"gridwidth\": 2, \"linecolor\": \"white\", \"showbackground\": true, \"ticks\": \"\", \"zerolinecolor\": \"white\"}, \"zaxis\": {\"backgroundcolor\": \"#E5ECF6\", \"gridcolor\": \"white\", \"gridwidth\": 2, \"linecolor\": \"white\", \"showbackground\": true, \"ticks\": \"\", \"zerolinecolor\": \"white\"}}, \"shapedefaults\": {\"line\": {\"color\": \"#2a3f5f\"}}, \"ternary\": {\"aaxis\": {\"gridcolor\": \"white\", \"linecolor\": \"white\", \"ticks\": \"\"}, \"baxis\": {\"gridcolor\": \"white\", \"linecolor\": \"white\", \"ticks\": \"\"}, \"bgcolor\": \"#E5ECF6\", \"caxis\": {\"gridcolor\": \"white\", \"linecolor\": \"white\", \"ticks\": \"\"}}, \"title\": {\"x\": 0.05}, \"xaxis\": {\"automargin\": true, \"gridcolor\": \"white\", \"linecolor\": \"white\", \"ticks\": \"\", \"title\": {\"standoff\": 15}, \"zerolinecolor\": \"white\", \"zerolinewidth\": 2}, \"yaxis\": {\"automargin\": true, \"gridcolor\": \"white\", \"linecolor\": \"white\", \"ticks\": \"\", \"title\": {\"standoff\": 15}, \"zerolinecolor\": \"white\", \"zerolinewidth\": 2}}}, \"title\": {\"text\": \"Le 25 entreprises qui concluent le plus de conventions\"}, \"xaxis\": {\"anchor\": \"y\", \"domain\": [0.0, 1.0], \"title\": {\"text\": \"x\"}}, \"yaxis\": {\"anchor\": \"x\", \"domain\": [0.0, 1.0], \"title\": {\"text\": \"conv_objet\"}}},\n",
       "                        {\"responsive\": true}\n",
       "                    ).then(function(){\n",
       "                            \n",
       "var gd = document.getElementById('25be4264-e7ea-4a7d-94e4-6f0df6acfd72');\n",
       "var x = new MutationObserver(function (mutations, observer) {{\n",
       "        var display = window.getComputedStyle(gd).display;\n",
       "        if (!display || display === 'none') {{\n",
       "            console.log([gd, 'removed!']);\n",
       "            Plotly.purge(gd);\n",
       "            observer.disconnect();\n",
       "        }}\n",
       "}});\n",
       "\n",
       "// Listen for the removal of the full notebook cells\n",
       "var notebookContainer = gd.closest('#notebook-container');\n",
       "if (notebookContainer) {{\n",
       "    x.observe(notebookContainer, {childList: true});\n",
       "}}\n",
       "\n",
       "// Listen for the clearing of the current output cell\n",
       "var outputEl = gd.closest('.output');\n",
       "if (outputEl) {{\n",
       "    x.observe(outputEl, {childList: true});\n",
       "}}\n",
       "\n",
       "                        })\n",
       "                };\n",
       "                });\n",
       "            </script>\n",
       "        </div>"
      ]
     },
     "metadata": {},
     "output_type": "display_data"
    }
   ],
   "source": [
    "fig = px.bar(group_data5, x=group_data5.index, y='conv_objet')\n",
    "fig.update_layout(title_text='Le 25 entreprises qui concluent le plus de conventions',)\n",
    "fig.show()"
   ]
  },
  {
   "cell_type": "markdown",
   "metadata": {},
   "source": [
    "#### 5.2 Savoir le mode sur les columns categorie, qualite, benef_specialite_libelle"
   ]
  },
  {
   "cell_type": "code",
   "execution_count": 36,
   "metadata": {},
   "outputs": [
    {
     "data": {
      "text/plain": [
       "0    Professionnel de santé\n",
       "dtype: object"
      ]
     },
     "execution_count": 36,
     "metadata": {},
     "output_type": "execute_result"
    }
   ],
   "source": [
    "conventionSample.loc[:,\"categorie\"].mode()"
   ]
  },
  {
   "cell_type": "code",
   "execution_count": 37,
   "metadata": {},
   "outputs": [
    {
     "data": {
      "text/plain": [
       "0    Médecin\n",
       "dtype: object"
      ]
     },
     "execution_count": 37,
     "metadata": {},
     "output_type": "execute_result"
    }
   ],
   "source": [
    "conventionSample.loc[:,\"qualite\"].mode()"
   ]
  },
  {
   "cell_type": "code",
   "execution_count": 38,
   "metadata": {},
   "outputs": [
    {
     "data": {
      "text/plain": [
       "0    Médecine Générale\n",
       "dtype: object"
      ]
     },
     "execution_count": 38,
     "metadata": {},
     "output_type": "execute_result"
    }
   ],
   "source": [
    "conventionSample.loc[:,\"benef_specialite_libelle\"].mode()"
   ]
  },
  {
   "cell_type": "markdown",
   "metadata": {},
   "source": [
    "### 6. Statistique discriptive sur la table 'entreprise'"
   ]
  },
  {
   "cell_type": "markdown",
   "metadata": {},
   "source": [
    "### 6.1 Répartition des entreprises par secteur "
   ]
  },
  {
   "cell_type": "code",
   "execution_count": 104,
   "metadata": {},
   "outputs": [],
   "source": [
    "df3=pd.DataFrame(entreprise.groupby(\"secteur\")[\"denomination_sociale\"].count())"
   ]
  },
  {
   "cell_type": "code",
   "execution_count": 105,
   "metadata": {},
   "outputs": [
    {
     "data": {
      "application/vnd.plotly.v1+json": {
       "config": {
        "plotlyServerURL": "https://plot.ly"
       },
       "data": [
        {
         "domain": {
          "x": [
           0,
           1
          ],
          "y": [
           0,
           1
          ]
         },
         "hoverlabel": {
          "namelength": 0
         },
         "hovertemplate": "label=%{label}<br>denomination_sociale=%{value}",
         "labels": [
          "Autres",
          "Dispositifs médicaux",
          "Dispositifs médicaux de diagnostic in vitro",
          "Médicament vétérinaire",
          "Médicaments humains",
          "Prestataires associés",
          "Produits cosmétiques"
         ],
         "legendgroup": "",
         "name": "",
         "showlegend": true,
         "type": "pie",
         "values": [
          428,
          1352,
          108,
          33,
          722,
          433,
          77
         ]
        }
       ],
       "layout": {
        "legend": {
         "tracegroupgap": 0
        },
        "margin": {
         "t": 60
        },
        "template": {
         "data": {
          "bar": [
           {
            "error_x": {
             "color": "#2a3f5f"
            },
            "error_y": {
             "color": "#2a3f5f"
            },
            "marker": {
             "line": {
              "color": "#E5ECF6",
              "width": 0.5
             }
            },
            "type": "bar"
           }
          ],
          "barpolar": [
           {
            "marker": {
             "line": {
              "color": "#E5ECF6",
              "width": 0.5
             }
            },
            "type": "barpolar"
           }
          ],
          "carpet": [
           {
            "aaxis": {
             "endlinecolor": "#2a3f5f",
             "gridcolor": "white",
             "linecolor": "white",
             "minorgridcolor": "white",
             "startlinecolor": "#2a3f5f"
            },
            "baxis": {
             "endlinecolor": "#2a3f5f",
             "gridcolor": "white",
             "linecolor": "white",
             "minorgridcolor": "white",
             "startlinecolor": "#2a3f5f"
            },
            "type": "carpet"
           }
          ],
          "choropleth": [
           {
            "colorbar": {
             "outlinewidth": 0,
             "ticks": ""
            },
            "type": "choropleth"
           }
          ],
          "contour": [
           {
            "colorbar": {
             "outlinewidth": 0,
             "ticks": ""
            },
            "colorscale": [
             [
              0,
              "#0d0887"
             ],
             [
              0.1111111111111111,
              "#46039f"
             ],
             [
              0.2222222222222222,
              "#7201a8"
             ],
             [
              0.3333333333333333,
              "#9c179e"
             ],
             [
              0.4444444444444444,
              "#bd3786"
             ],
             [
              0.5555555555555556,
              "#d8576b"
             ],
             [
              0.6666666666666666,
              "#ed7953"
             ],
             [
              0.7777777777777778,
              "#fb9f3a"
             ],
             [
              0.8888888888888888,
              "#fdca26"
             ],
             [
              1,
              "#f0f921"
             ]
            ],
            "type": "contour"
           }
          ],
          "contourcarpet": [
           {
            "colorbar": {
             "outlinewidth": 0,
             "ticks": ""
            },
            "type": "contourcarpet"
           }
          ],
          "heatmap": [
           {
            "colorbar": {
             "outlinewidth": 0,
             "ticks": ""
            },
            "colorscale": [
             [
              0,
              "#0d0887"
             ],
             [
              0.1111111111111111,
              "#46039f"
             ],
             [
              0.2222222222222222,
              "#7201a8"
             ],
             [
              0.3333333333333333,
              "#9c179e"
             ],
             [
              0.4444444444444444,
              "#bd3786"
             ],
             [
              0.5555555555555556,
              "#d8576b"
             ],
             [
              0.6666666666666666,
              "#ed7953"
             ],
             [
              0.7777777777777778,
              "#fb9f3a"
             ],
             [
              0.8888888888888888,
              "#fdca26"
             ],
             [
              1,
              "#f0f921"
             ]
            ],
            "type": "heatmap"
           }
          ],
          "heatmapgl": [
           {
            "colorbar": {
             "outlinewidth": 0,
             "ticks": ""
            },
            "colorscale": [
             [
              0,
              "#0d0887"
             ],
             [
              0.1111111111111111,
              "#46039f"
             ],
             [
              0.2222222222222222,
              "#7201a8"
             ],
             [
              0.3333333333333333,
              "#9c179e"
             ],
             [
              0.4444444444444444,
              "#bd3786"
             ],
             [
              0.5555555555555556,
              "#d8576b"
             ],
             [
              0.6666666666666666,
              "#ed7953"
             ],
             [
              0.7777777777777778,
              "#fb9f3a"
             ],
             [
              0.8888888888888888,
              "#fdca26"
             ],
             [
              1,
              "#f0f921"
             ]
            ],
            "type": "heatmapgl"
           }
          ],
          "histogram": [
           {
            "marker": {
             "colorbar": {
              "outlinewidth": 0,
              "ticks": ""
             }
            },
            "type": "histogram"
           }
          ],
          "histogram2d": [
           {
            "colorbar": {
             "outlinewidth": 0,
             "ticks": ""
            },
            "colorscale": [
             [
              0,
              "#0d0887"
             ],
             [
              0.1111111111111111,
              "#46039f"
             ],
             [
              0.2222222222222222,
              "#7201a8"
             ],
             [
              0.3333333333333333,
              "#9c179e"
             ],
             [
              0.4444444444444444,
              "#bd3786"
             ],
             [
              0.5555555555555556,
              "#d8576b"
             ],
             [
              0.6666666666666666,
              "#ed7953"
             ],
             [
              0.7777777777777778,
              "#fb9f3a"
             ],
             [
              0.8888888888888888,
              "#fdca26"
             ],
             [
              1,
              "#f0f921"
             ]
            ],
            "type": "histogram2d"
           }
          ],
          "histogram2dcontour": [
           {
            "colorbar": {
             "outlinewidth": 0,
             "ticks": ""
            },
            "colorscale": [
             [
              0,
              "#0d0887"
             ],
             [
              0.1111111111111111,
              "#46039f"
             ],
             [
              0.2222222222222222,
              "#7201a8"
             ],
             [
              0.3333333333333333,
              "#9c179e"
             ],
             [
              0.4444444444444444,
              "#bd3786"
             ],
             [
              0.5555555555555556,
              "#d8576b"
             ],
             [
              0.6666666666666666,
              "#ed7953"
             ],
             [
              0.7777777777777778,
              "#fb9f3a"
             ],
             [
              0.8888888888888888,
              "#fdca26"
             ],
             [
              1,
              "#f0f921"
             ]
            ],
            "type": "histogram2dcontour"
           }
          ],
          "mesh3d": [
           {
            "colorbar": {
             "outlinewidth": 0,
             "ticks": ""
            },
            "type": "mesh3d"
           }
          ],
          "parcoords": [
           {
            "line": {
             "colorbar": {
              "outlinewidth": 0,
              "ticks": ""
             }
            },
            "type": "parcoords"
           }
          ],
          "pie": [
           {
            "automargin": true,
            "type": "pie"
           }
          ],
          "scatter": [
           {
            "marker": {
             "colorbar": {
              "outlinewidth": 0,
              "ticks": ""
             }
            },
            "type": "scatter"
           }
          ],
          "scatter3d": [
           {
            "line": {
             "colorbar": {
              "outlinewidth": 0,
              "ticks": ""
             }
            },
            "marker": {
             "colorbar": {
              "outlinewidth": 0,
              "ticks": ""
             }
            },
            "type": "scatter3d"
           }
          ],
          "scattercarpet": [
           {
            "marker": {
             "colorbar": {
              "outlinewidth": 0,
              "ticks": ""
             }
            },
            "type": "scattercarpet"
           }
          ],
          "scattergeo": [
           {
            "marker": {
             "colorbar": {
              "outlinewidth": 0,
              "ticks": ""
             }
            },
            "type": "scattergeo"
           }
          ],
          "scattergl": [
           {
            "marker": {
             "colorbar": {
              "outlinewidth": 0,
              "ticks": ""
             }
            },
            "type": "scattergl"
           }
          ],
          "scattermapbox": [
           {
            "marker": {
             "colorbar": {
              "outlinewidth": 0,
              "ticks": ""
             }
            },
            "type": "scattermapbox"
           }
          ],
          "scatterpolar": [
           {
            "marker": {
             "colorbar": {
              "outlinewidth": 0,
              "ticks": ""
             }
            },
            "type": "scatterpolar"
           }
          ],
          "scatterpolargl": [
           {
            "marker": {
             "colorbar": {
              "outlinewidth": 0,
              "ticks": ""
             }
            },
            "type": "scatterpolargl"
           }
          ],
          "scatterternary": [
           {
            "marker": {
             "colorbar": {
              "outlinewidth": 0,
              "ticks": ""
             }
            },
            "type": "scatterternary"
           }
          ],
          "surface": [
           {
            "colorbar": {
             "outlinewidth": 0,
             "ticks": ""
            },
            "colorscale": [
             [
              0,
              "#0d0887"
             ],
             [
              0.1111111111111111,
              "#46039f"
             ],
             [
              0.2222222222222222,
              "#7201a8"
             ],
             [
              0.3333333333333333,
              "#9c179e"
             ],
             [
              0.4444444444444444,
              "#bd3786"
             ],
             [
              0.5555555555555556,
              "#d8576b"
             ],
             [
              0.6666666666666666,
              "#ed7953"
             ],
             [
              0.7777777777777778,
              "#fb9f3a"
             ],
             [
              0.8888888888888888,
              "#fdca26"
             ],
             [
              1,
              "#f0f921"
             ]
            ],
            "type": "surface"
           }
          ],
          "table": [
           {
            "cells": {
             "fill": {
              "color": "#EBF0F8"
             },
             "line": {
              "color": "white"
             }
            },
            "header": {
             "fill": {
              "color": "#C8D4E3"
             },
             "line": {
              "color": "white"
             }
            },
            "type": "table"
           }
          ]
         },
         "layout": {
          "annotationdefaults": {
           "arrowcolor": "#2a3f5f",
           "arrowhead": 0,
           "arrowwidth": 1
          },
          "coloraxis": {
           "colorbar": {
            "outlinewidth": 0,
            "ticks": ""
           }
          },
          "colorscale": {
           "diverging": [
            [
             0,
             "#8e0152"
            ],
            [
             0.1,
             "#c51b7d"
            ],
            [
             0.2,
             "#de77ae"
            ],
            [
             0.3,
             "#f1b6da"
            ],
            [
             0.4,
             "#fde0ef"
            ],
            [
             0.5,
             "#f7f7f7"
            ],
            [
             0.6,
             "#e6f5d0"
            ],
            [
             0.7,
             "#b8e186"
            ],
            [
             0.8,
             "#7fbc41"
            ],
            [
             0.9,
             "#4d9221"
            ],
            [
             1,
             "#276419"
            ]
           ],
           "sequential": [
            [
             0,
             "#0d0887"
            ],
            [
             0.1111111111111111,
             "#46039f"
            ],
            [
             0.2222222222222222,
             "#7201a8"
            ],
            [
             0.3333333333333333,
             "#9c179e"
            ],
            [
             0.4444444444444444,
             "#bd3786"
            ],
            [
             0.5555555555555556,
             "#d8576b"
            ],
            [
             0.6666666666666666,
             "#ed7953"
            ],
            [
             0.7777777777777778,
             "#fb9f3a"
            ],
            [
             0.8888888888888888,
             "#fdca26"
            ],
            [
             1,
             "#f0f921"
            ]
           ],
           "sequentialminus": [
            [
             0,
             "#0d0887"
            ],
            [
             0.1111111111111111,
             "#46039f"
            ],
            [
             0.2222222222222222,
             "#7201a8"
            ],
            [
             0.3333333333333333,
             "#9c179e"
            ],
            [
             0.4444444444444444,
             "#bd3786"
            ],
            [
             0.5555555555555556,
             "#d8576b"
            ],
            [
             0.6666666666666666,
             "#ed7953"
            ],
            [
             0.7777777777777778,
             "#fb9f3a"
            ],
            [
             0.8888888888888888,
             "#fdca26"
            ],
            [
             1,
             "#f0f921"
            ]
           ]
          },
          "colorway": [
           "#636efa",
           "#EF553B",
           "#00cc96",
           "#ab63fa",
           "#FFA15A",
           "#19d3f3",
           "#FF6692",
           "#B6E880",
           "#FF97FF",
           "#FECB52"
          ],
          "font": {
           "color": "#2a3f5f"
          },
          "geo": {
           "bgcolor": "white",
           "lakecolor": "white",
           "landcolor": "#E5ECF6",
           "showlakes": true,
           "showland": true,
           "subunitcolor": "white"
          },
          "hoverlabel": {
           "align": "left"
          },
          "hovermode": "closest",
          "mapbox": {
           "style": "light"
          },
          "paper_bgcolor": "white",
          "plot_bgcolor": "#E5ECF6",
          "polar": {
           "angularaxis": {
            "gridcolor": "white",
            "linecolor": "white",
            "ticks": ""
           },
           "bgcolor": "#E5ECF6",
           "radialaxis": {
            "gridcolor": "white",
            "linecolor": "white",
            "ticks": ""
           }
          },
          "scene": {
           "xaxis": {
            "backgroundcolor": "#E5ECF6",
            "gridcolor": "white",
            "gridwidth": 2,
            "linecolor": "white",
            "showbackground": true,
            "ticks": "",
            "zerolinecolor": "white"
           },
           "yaxis": {
            "backgroundcolor": "#E5ECF6",
            "gridcolor": "white",
            "gridwidth": 2,
            "linecolor": "white",
            "showbackground": true,
            "ticks": "",
            "zerolinecolor": "white"
           },
           "zaxis": {
            "backgroundcolor": "#E5ECF6",
            "gridcolor": "white",
            "gridwidth": 2,
            "linecolor": "white",
            "showbackground": true,
            "ticks": "",
            "zerolinecolor": "white"
           }
          },
          "shapedefaults": {
           "line": {
            "color": "#2a3f5f"
           }
          },
          "ternary": {
           "aaxis": {
            "gridcolor": "white",
            "linecolor": "white",
            "ticks": ""
           },
           "baxis": {
            "gridcolor": "white",
            "linecolor": "white",
            "ticks": ""
           },
           "bgcolor": "#E5ECF6",
           "caxis": {
            "gridcolor": "white",
            "linecolor": "white",
            "ticks": ""
           }
          },
          "title": {
           "x": 0.05
          },
          "xaxis": {
           "automargin": true,
           "gridcolor": "white",
           "linecolor": "white",
           "ticks": "",
           "title": {
            "standoff": 15
           },
           "zerolinecolor": "white",
           "zerolinewidth": 2
          },
          "yaxis": {
           "automargin": true,
           "gridcolor": "white",
           "linecolor": "white",
           "ticks": "",
           "title": {
            "standoff": 15
           },
           "zerolinecolor": "white",
           "zerolinewidth": 2
          }
         }
        }
       }
      },
      "text/html": [
       "<div>\n",
       "        \n",
       "        \n",
       "            <div id=\"1966f45f-6688-4c22-88fb-5043558cc480\" class=\"plotly-graph-div\" style=\"height:525px; width:100%;\"></div>\n",
       "            <script type=\"text/javascript\">\n",
       "                require([\"plotly\"], function(Plotly) {\n",
       "                    window.PLOTLYENV=window.PLOTLYENV || {};\n",
       "                    \n",
       "                if (document.getElementById(\"1966f45f-6688-4c22-88fb-5043558cc480\")) {\n",
       "                    Plotly.newPlot(\n",
       "                        '1966f45f-6688-4c22-88fb-5043558cc480',\n",
       "                        [{\"domain\": {\"x\": [0.0, 1.0], \"y\": [0.0, 1.0]}, \"hoverlabel\": {\"namelength\": 0}, \"hovertemplate\": \"label=%{label}<br>denomination_sociale=%{value}\", \"labels\": [\"Autres\", \"Dispositifs m\\u00e9dicaux\", \"Dispositifs m\\u00e9dicaux de diagnostic in vitro\", \"M\\u00e9dicament v\\u00e9t\\u00e9rinaire\", \"M\\u00e9dicaments humains\", \"Prestataires associ\\u00e9s\", \"Produits cosm\\u00e9tiques\"], \"legendgroup\": \"\", \"name\": \"\", \"showlegend\": true, \"type\": \"pie\", \"values\": [428, 1352, 108, 33, 722, 433, 77]}],\n",
       "                        {\"legend\": {\"tracegroupgap\": 0}, \"margin\": {\"t\": 60}, \"template\": {\"data\": {\"bar\": [{\"error_x\": {\"color\": \"#2a3f5f\"}, \"error_y\": {\"color\": \"#2a3f5f\"}, \"marker\": {\"line\": {\"color\": \"#E5ECF6\", \"width\": 0.5}}, \"type\": \"bar\"}], \"barpolar\": [{\"marker\": {\"line\": {\"color\": \"#E5ECF6\", \"width\": 0.5}}, \"type\": \"barpolar\"}], \"carpet\": [{\"aaxis\": {\"endlinecolor\": \"#2a3f5f\", \"gridcolor\": \"white\", \"linecolor\": \"white\", \"minorgridcolor\": \"white\", \"startlinecolor\": \"#2a3f5f\"}, \"baxis\": {\"endlinecolor\": \"#2a3f5f\", \"gridcolor\": \"white\", \"linecolor\": \"white\", \"minorgridcolor\": \"white\", \"startlinecolor\": \"#2a3f5f\"}, \"type\": \"carpet\"}], \"choropleth\": [{\"colorbar\": {\"outlinewidth\": 0, \"ticks\": \"\"}, \"type\": \"choropleth\"}], \"contour\": [{\"colorbar\": {\"outlinewidth\": 0, \"ticks\": \"\"}, \"colorscale\": [[0.0, \"#0d0887\"], [0.1111111111111111, \"#46039f\"], [0.2222222222222222, \"#7201a8\"], [0.3333333333333333, \"#9c179e\"], [0.4444444444444444, \"#bd3786\"], [0.5555555555555556, \"#d8576b\"], [0.6666666666666666, \"#ed7953\"], [0.7777777777777778, \"#fb9f3a\"], [0.8888888888888888, \"#fdca26\"], [1.0, \"#f0f921\"]], \"type\": \"contour\"}], \"contourcarpet\": [{\"colorbar\": {\"outlinewidth\": 0, \"ticks\": \"\"}, \"type\": \"contourcarpet\"}], \"heatmap\": [{\"colorbar\": {\"outlinewidth\": 0, \"ticks\": \"\"}, \"colorscale\": [[0.0, \"#0d0887\"], [0.1111111111111111, \"#46039f\"], [0.2222222222222222, \"#7201a8\"], [0.3333333333333333, \"#9c179e\"], [0.4444444444444444, \"#bd3786\"], [0.5555555555555556, \"#d8576b\"], [0.6666666666666666, \"#ed7953\"], [0.7777777777777778, \"#fb9f3a\"], [0.8888888888888888, \"#fdca26\"], [1.0, \"#f0f921\"]], \"type\": \"heatmap\"}], \"heatmapgl\": [{\"colorbar\": {\"outlinewidth\": 0, \"ticks\": \"\"}, \"colorscale\": [[0.0, \"#0d0887\"], [0.1111111111111111, \"#46039f\"], [0.2222222222222222, \"#7201a8\"], [0.3333333333333333, \"#9c179e\"], [0.4444444444444444, \"#bd3786\"], [0.5555555555555556, \"#d8576b\"], [0.6666666666666666, \"#ed7953\"], [0.7777777777777778, \"#fb9f3a\"], [0.8888888888888888, \"#fdca26\"], [1.0, \"#f0f921\"]], \"type\": \"heatmapgl\"}], \"histogram\": [{\"marker\": {\"colorbar\": {\"outlinewidth\": 0, \"ticks\": \"\"}}, \"type\": \"histogram\"}], \"histogram2d\": [{\"colorbar\": {\"outlinewidth\": 0, \"ticks\": \"\"}, \"colorscale\": [[0.0, \"#0d0887\"], [0.1111111111111111, \"#46039f\"], [0.2222222222222222, \"#7201a8\"], [0.3333333333333333, \"#9c179e\"], [0.4444444444444444, \"#bd3786\"], [0.5555555555555556, \"#d8576b\"], [0.6666666666666666, \"#ed7953\"], [0.7777777777777778, \"#fb9f3a\"], [0.8888888888888888, \"#fdca26\"], [1.0, \"#f0f921\"]], \"type\": \"histogram2d\"}], \"histogram2dcontour\": [{\"colorbar\": {\"outlinewidth\": 0, \"ticks\": \"\"}, \"colorscale\": [[0.0, \"#0d0887\"], [0.1111111111111111, \"#46039f\"], [0.2222222222222222, \"#7201a8\"], [0.3333333333333333, \"#9c179e\"], [0.4444444444444444, \"#bd3786\"], [0.5555555555555556, \"#d8576b\"], [0.6666666666666666, \"#ed7953\"], [0.7777777777777778, \"#fb9f3a\"], [0.8888888888888888, \"#fdca26\"], [1.0, \"#f0f921\"]], \"type\": \"histogram2dcontour\"}], \"mesh3d\": [{\"colorbar\": {\"outlinewidth\": 0, \"ticks\": \"\"}, \"type\": \"mesh3d\"}], \"parcoords\": [{\"line\": {\"colorbar\": {\"outlinewidth\": 0, \"ticks\": \"\"}}, \"type\": \"parcoords\"}], \"pie\": [{\"automargin\": true, \"type\": \"pie\"}], \"scatter\": [{\"marker\": {\"colorbar\": {\"outlinewidth\": 0, \"ticks\": \"\"}}, \"type\": \"scatter\"}], \"scatter3d\": [{\"line\": {\"colorbar\": {\"outlinewidth\": 0, \"ticks\": \"\"}}, \"marker\": {\"colorbar\": {\"outlinewidth\": 0, \"ticks\": \"\"}}, \"type\": \"scatter3d\"}], \"scattercarpet\": [{\"marker\": {\"colorbar\": {\"outlinewidth\": 0, \"ticks\": \"\"}}, \"type\": \"scattercarpet\"}], \"scattergeo\": [{\"marker\": {\"colorbar\": {\"outlinewidth\": 0, \"ticks\": \"\"}}, \"type\": \"scattergeo\"}], \"scattergl\": [{\"marker\": {\"colorbar\": {\"outlinewidth\": 0, \"ticks\": \"\"}}, \"type\": \"scattergl\"}], \"scattermapbox\": [{\"marker\": {\"colorbar\": {\"outlinewidth\": 0, \"ticks\": \"\"}}, \"type\": \"scattermapbox\"}], \"scatterpolar\": [{\"marker\": {\"colorbar\": {\"outlinewidth\": 0, \"ticks\": \"\"}}, \"type\": \"scatterpolar\"}], \"scatterpolargl\": [{\"marker\": {\"colorbar\": {\"outlinewidth\": 0, \"ticks\": \"\"}}, \"type\": \"scatterpolargl\"}], \"scatterternary\": [{\"marker\": {\"colorbar\": {\"outlinewidth\": 0, \"ticks\": \"\"}}, \"type\": \"scatterternary\"}], \"surface\": [{\"colorbar\": {\"outlinewidth\": 0, \"ticks\": \"\"}, \"colorscale\": [[0.0, \"#0d0887\"], [0.1111111111111111, \"#46039f\"], [0.2222222222222222, \"#7201a8\"], [0.3333333333333333, \"#9c179e\"], [0.4444444444444444, \"#bd3786\"], [0.5555555555555556, \"#d8576b\"], [0.6666666666666666, \"#ed7953\"], [0.7777777777777778, \"#fb9f3a\"], [0.8888888888888888, \"#fdca26\"], [1.0, \"#f0f921\"]], \"type\": \"surface\"}], \"table\": [{\"cells\": {\"fill\": {\"color\": \"#EBF0F8\"}, \"line\": {\"color\": \"white\"}}, \"header\": {\"fill\": {\"color\": \"#C8D4E3\"}, \"line\": {\"color\": \"white\"}}, \"type\": \"table\"}]}, \"layout\": {\"annotationdefaults\": {\"arrowcolor\": \"#2a3f5f\", \"arrowhead\": 0, \"arrowwidth\": 1}, \"coloraxis\": {\"colorbar\": {\"outlinewidth\": 0, \"ticks\": \"\"}}, \"colorscale\": {\"diverging\": [[0, \"#8e0152\"], [0.1, \"#c51b7d\"], [0.2, \"#de77ae\"], [0.3, \"#f1b6da\"], [0.4, \"#fde0ef\"], [0.5, \"#f7f7f7\"], [0.6, \"#e6f5d0\"], [0.7, \"#b8e186\"], [0.8, \"#7fbc41\"], [0.9, \"#4d9221\"], [1, \"#276419\"]], \"sequential\": [[0.0, \"#0d0887\"], [0.1111111111111111, \"#46039f\"], [0.2222222222222222, \"#7201a8\"], [0.3333333333333333, \"#9c179e\"], [0.4444444444444444, \"#bd3786\"], [0.5555555555555556, \"#d8576b\"], [0.6666666666666666, \"#ed7953\"], [0.7777777777777778, \"#fb9f3a\"], [0.8888888888888888, \"#fdca26\"], [1.0, \"#f0f921\"]], \"sequentialminus\": [[0.0, \"#0d0887\"], [0.1111111111111111, \"#46039f\"], [0.2222222222222222, \"#7201a8\"], [0.3333333333333333, \"#9c179e\"], [0.4444444444444444, \"#bd3786\"], [0.5555555555555556, \"#d8576b\"], [0.6666666666666666, \"#ed7953\"], [0.7777777777777778, \"#fb9f3a\"], [0.8888888888888888, \"#fdca26\"], [1.0, \"#f0f921\"]]}, \"colorway\": [\"#636efa\", \"#EF553B\", \"#00cc96\", \"#ab63fa\", \"#FFA15A\", \"#19d3f3\", \"#FF6692\", \"#B6E880\", \"#FF97FF\", \"#FECB52\"], \"font\": {\"color\": \"#2a3f5f\"}, \"geo\": {\"bgcolor\": \"white\", \"lakecolor\": \"white\", \"landcolor\": \"#E5ECF6\", \"showlakes\": true, \"showland\": true, \"subunitcolor\": \"white\"}, \"hoverlabel\": {\"align\": \"left\"}, \"hovermode\": \"closest\", \"mapbox\": {\"style\": \"light\"}, \"paper_bgcolor\": \"white\", \"plot_bgcolor\": \"#E5ECF6\", \"polar\": {\"angularaxis\": {\"gridcolor\": \"white\", \"linecolor\": \"white\", \"ticks\": \"\"}, \"bgcolor\": \"#E5ECF6\", \"radialaxis\": {\"gridcolor\": \"white\", \"linecolor\": \"white\", \"ticks\": \"\"}}, \"scene\": {\"xaxis\": {\"backgroundcolor\": \"#E5ECF6\", \"gridcolor\": \"white\", \"gridwidth\": 2, \"linecolor\": \"white\", \"showbackground\": true, \"ticks\": \"\", \"zerolinecolor\": \"white\"}, \"yaxis\": {\"backgroundcolor\": \"#E5ECF6\", \"gridcolor\": \"white\", \"gridwidth\": 2, \"linecolor\": \"white\", \"showbackground\": true, \"ticks\": \"\", \"zerolinecolor\": \"white\"}, \"zaxis\": {\"backgroundcolor\": \"#E5ECF6\", \"gridcolor\": \"white\", \"gridwidth\": 2, \"linecolor\": \"white\", \"showbackground\": true, \"ticks\": \"\", \"zerolinecolor\": \"white\"}}, \"shapedefaults\": {\"line\": {\"color\": \"#2a3f5f\"}}, \"ternary\": {\"aaxis\": {\"gridcolor\": \"white\", \"linecolor\": \"white\", \"ticks\": \"\"}, \"baxis\": {\"gridcolor\": \"white\", \"linecolor\": \"white\", \"ticks\": \"\"}, \"bgcolor\": \"#E5ECF6\", \"caxis\": {\"gridcolor\": \"white\", \"linecolor\": \"white\", \"ticks\": \"\"}}, \"title\": {\"x\": 0.05}, \"xaxis\": {\"automargin\": true, \"gridcolor\": \"white\", \"linecolor\": \"white\", \"ticks\": \"\", \"title\": {\"standoff\": 15}, \"zerolinecolor\": \"white\", \"zerolinewidth\": 2}, \"yaxis\": {\"automargin\": true, \"gridcolor\": \"white\", \"linecolor\": \"white\", \"ticks\": \"\", \"title\": {\"standoff\": 15}, \"zerolinecolor\": \"white\", \"zerolinewidth\": 2}}}},\n",
       "                        {\"responsive\": true}\n",
       "                    ).then(function(){\n",
       "                            \n",
       "var gd = document.getElementById('1966f45f-6688-4c22-88fb-5043558cc480');\n",
       "var x = new MutationObserver(function (mutations, observer) {{\n",
       "        var display = window.getComputedStyle(gd).display;\n",
       "        if (!display || display === 'none') {{\n",
       "            console.log([gd, 'removed!']);\n",
       "            Plotly.purge(gd);\n",
       "            observer.disconnect();\n",
       "        }}\n",
       "}});\n",
       "\n",
       "// Listen for the removal of the full notebook cells\n",
       "var notebookContainer = gd.closest('#notebook-container');\n",
       "if (notebookContainer) {{\n",
       "    x.observe(notebookContainer, {childList: true});\n",
       "}}\n",
       "\n",
       "// Listen for the clearing of the current output cell\n",
       "var outputEl = gd.closest('.output');\n",
       "if (outputEl) {{\n",
       "    x.observe(outputEl, {childList: true});\n",
       "}}\n",
       "\n",
       "                        })\n",
       "                };\n",
       "                });\n",
       "            </script>\n",
       "        </div>"
      ]
     },
     "metadata": {},
     "output_type": "display_data"
    }
   ],
   "source": [
    "import  plotly.express  as  px \n",
    "#df = px.secteur_entreprise.tips()\n",
    "fig = px.pie(df3, values='denomination_sociale', names=df3.index)\n",
    "fig.show()"
   ]
  },
  {
   "cell_type": "markdown",
   "metadata": {},
   "source": [
    "### 6.2 Compter l'origine des entreprises dans chaque secteur "
   ]
  },
  {
   "cell_type": "code",
   "execution_count": 52,
   "metadata": {},
   "outputs": [],
   "source": [
    "dfEntPay=pd.DataFrame(entreprise.groupby([\"secteur\",\"pays\"])[\"identifiant\"].count())"
   ]
  },
  {
   "cell_type": "code",
   "execution_count": 53,
   "metadata": {},
   "outputs": [
    {
     "name": "stdout",
     "output_type": "stream",
     "text": [
      "<class 'pandas.core.frame.DataFrame'>\n",
      "MultiIndex: 151 entries, (Autres, ALLEMAGNE) to (Produits cosmétiques, SUISSE)\n",
      "Data columns (total 1 columns):\n",
      "identifiant    151 non-null int64\n",
      "dtypes: int64(1)\n",
      "memory usage: 2.2+ KB\n"
     ]
    }
   ],
   "source": [
    "dfEntPay.info()"
   ]
  },
  {
   "cell_type": "code",
   "execution_count": 54,
   "metadata": {},
   "outputs": [],
   "source": [
    "dfEntPay=dfEntPay.sort_values(['identifiant'],ascending=False).head(15)"
   ]
  },
  {
   "cell_type": "code",
   "execution_count": 55,
   "metadata": {},
   "outputs": [
    {
     "data": {
      "text/html": [
       "<div>\n",
       "<style scoped>\n",
       "    .dataframe tbody tr th:only-of-type {\n",
       "        vertical-align: middle;\n",
       "    }\n",
       "\n",
       "    .dataframe tbody tr th {\n",
       "        vertical-align: top;\n",
       "    }\n",
       "\n",
       "    .dataframe thead th {\n",
       "        text-align: right;\n",
       "    }\n",
       "</style>\n",
       "<table border=\"1\" class=\"dataframe\">\n",
       "  <thead>\n",
       "    <tr style=\"text-align: right;\">\n",
       "      <th></th>\n",
       "      <th></th>\n",
       "      <th>identifiant</th>\n",
       "    </tr>\n",
       "    <tr>\n",
       "      <th>secteur</th>\n",
       "      <th>pays</th>\n",
       "      <th></th>\n",
       "    </tr>\n",
       "  </thead>\n",
       "  <tbody>\n",
       "    <tr>\n",
       "      <td rowspan=\"2\" valign=\"top\">Autres</td>\n",
       "      <td>FRANCE</td>\n",
       "      <td>330</td>\n",
       "    </tr>\n",
       "    <tr>\n",
       "      <td>ROYAUME-UNI</td>\n",
       "      <td>35</td>\n",
       "    </tr>\n",
       "    <tr>\n",
       "      <td rowspan=\"4\" valign=\"top\">Dispositifs médicaux</td>\n",
       "      <td>ALLEMAGNE</td>\n",
       "      <td>34</td>\n",
       "    </tr>\n",
       "    <tr>\n",
       "      <td>FRANCE</td>\n",
       "      <td>1059</td>\n",
       "    </tr>\n",
       "    <tr>\n",
       "      <td>SUISSE</td>\n",
       "      <td>35</td>\n",
       "    </tr>\n",
       "    <tr>\n",
       "      <td>ÉTATS-UNIS</td>\n",
       "      <td>71</td>\n",
       "    </tr>\n",
       "    <tr>\n",
       "      <td>Dispositifs médicaux de diagnostic in vitro</td>\n",
       "      <td>FRANCE</td>\n",
       "      <td>74</td>\n",
       "    </tr>\n",
       "    <tr>\n",
       "      <td>Médicament vétérinaire</td>\n",
       "      <td>FRANCE</td>\n",
       "      <td>33</td>\n",
       "    </tr>\n",
       "    <tr>\n",
       "      <td rowspan=\"5\" valign=\"top\">Médicaments humains</td>\n",
       "      <td>ALLEMAGNE</td>\n",
       "      <td>25</td>\n",
       "    </tr>\n",
       "    <tr>\n",
       "      <td>FRANCE</td>\n",
       "      <td>376</td>\n",
       "    </tr>\n",
       "    <tr>\n",
       "      <td>ROYAUME-UNI</td>\n",
       "      <td>46</td>\n",
       "    </tr>\n",
       "    <tr>\n",
       "      <td>SUISSE</td>\n",
       "      <td>24</td>\n",
       "    </tr>\n",
       "    <tr>\n",
       "      <td>ÉTATS-UNIS</td>\n",
       "      <td>83</td>\n",
       "    </tr>\n",
       "    <tr>\n",
       "      <td>Prestataires associés</td>\n",
       "      <td>FRANCE</td>\n",
       "      <td>395</td>\n",
       "    </tr>\n",
       "    <tr>\n",
       "      <td>Produits cosmétiques</td>\n",
       "      <td>FRANCE</td>\n",
       "      <td>76</td>\n",
       "    </tr>\n",
       "  </tbody>\n",
       "</table>\n",
       "</div>"
      ],
      "text/plain": [
       "                                                         identifiant\n",
       "secteur                                     pays                    \n",
       "Autres                                      FRANCE               330\n",
       "                                            ROYAUME-UNI           35\n",
       "Dispositifs médicaux                        ALLEMAGNE             34\n",
       "                                            FRANCE              1059\n",
       "                                            SUISSE                35\n",
       "                                            ÉTATS-UNIS            71\n",
       "Dispositifs médicaux de diagnostic in vitro FRANCE                74\n",
       "Médicament vétérinaire                      FRANCE                33\n",
       "Médicaments humains                         ALLEMAGNE             25\n",
       "                                            FRANCE               376\n",
       "                                            ROYAUME-UNI           46\n",
       "                                            SUISSE                24\n",
       "                                            ÉTATS-UNIS            83\n",
       "Prestataires associés                       FRANCE               395\n",
       "Produits cosmétiques                        FRANCE                76"
      ]
     },
     "execution_count": 55,
     "metadata": {},
     "output_type": "execute_result"
    }
   ],
   "source": [
    "# sort_index for sorting multi index and group them\n",
    "dfEntPay.sort_index(inplace=True)\n",
    "dfEntPay"
   ]
  },
  {
   "cell_type": "code",
   "execution_count": 53,
   "metadata": {},
   "outputs": [],
   "source": [
    "#dfEntPay.reset_index()"
   ]
  },
  {
   "cell_type": "code",
   "execution_count": 56,
   "metadata": {
    "scrolled": true
   },
   "outputs": [
    {
     "data": {
      "text/plain": [
       "Text(0.5, 1.0, \"Compter l'origine des entreprises dans chaque secteur \")"
      ]
     },
     "execution_count": 56,
     "metadata": {},
     "output_type": "execute_result"
    },
    {
     "data": {
      "image/png": "[encoded data removed]",
      "text/plain": [
       "<Figure size 864x648 with 1 Axes>"
      ]
     },
     "metadata": {
      "needs_background": "light"
     },
     "output_type": "display_data"
    }
   ],
   "source": [
    "import matplotlib.pyplot as plt\n",
    "\n",
    "dfEntPay.unstack().plot(kind='bar',figsize=(12,9),width=0.7)\n",
    "plt.title(\"Compter l'origine des entreprises dans chaque secteur \",fontsize= 16)"
   ]
  },
  {
   "cell_type": "code",
   "execution_count": 57,
   "metadata": {
    "scrolled": true
   },
   "outputs": [],
   "source": [
    "dfEntPay['percent'] = dfEntPay.groupby(level=0).transform(lambda x: (x / x.sum()).round(2))\n",
    "dfEntPay=dfEntPay.drop('identifiant',axis=1)"
   ]
  },
  {
   "cell_type": "code",
   "execution_count": null,
   "metadata": {},
   "outputs": [],
   "source": [
    "#dfEntPay"
   ]
  },
  {
   "cell_type": "code",
   "execution_count": 58,
   "metadata": {},
   "outputs": [
    {
     "data": {
      "image/png": "[encoded data removed]",
      "text/plain": [
       "<Figure size 1080x432 with 1 Axes>"
      ]
     },
     "metadata": {
      "needs_background": "light"
     },
     "output_type": "display_data"
    }
   ],
   "source": [
    "# Change this line to plot percentages instead of absolute values\n",
    "colors_list = ['#5cb85c','#5bc0de','#d9534f']\n",
    "ax = dfEntPay.plot(kind='bar',figsize=(15,6),width = 0.5,color = colors_list,edgecolor=None)\n",
    "plt.legend(labels=dfEntPay.columns,fontsize= 14)\n",
    "plt.title(\"Situation Géographique des entreprises\",fontsize= 15)\n",
    "\n",
    "plt.xticks(fontsize=14)\n",
    "for spine in plt.gca().spines.values():\n",
    "    spine.set_visible(False)\n",
    "plt.yticks([])\n",
    "\n",
    "# Add this loop to add the annotations\n",
    "for p in ax.patches:\n",
    "    width, height = p.get_width(), p.get_height()\n",
    "    x, y = p.get_xy() \n",
    "    ax.annotate('{:.0%}'.format(height), (x, y + height + 0.01))"
   ]
  }
 ],
 "metadata": {
  "kernelspec": {
   "display_name": "Python 3",
   "language": "python",
   "name": "python3"
  },
  "language_info": {
   "codemirror_mode": {
    "name": "ipython",
    "version": 3
   },
   "file_extension": ".py",
   "mimetype": "text/x-python",
   "name": "python",
   "nbconvert_exporter": "python",
   "pygments_lexer": "ipython3",
   "version": "3.7.4"
  }
 },
 "nbformat": 4,
 "nbformat_minor": 2
}
